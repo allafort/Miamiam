{
 "cells": [
  {
   "cell_type": "code",
   "execution_count": 2,
   "id": "bfd72922",
   "metadata": {},
   "outputs": [],
   "source": [
    "import pandas as pd\n",
    "from string import ascii_lowercase\n",
    "import numpy as np\n",
    "import re\n",
    "from collections import Counter, defaultdict\n",
    "import datetime\n",
    "\n",
    "import json\n",
    "from pprint import pprint"
   ]
  },
  {
   "cell_type": "code",
   "execution_count": 3,
   "id": "58a36872",
   "metadata": {},
   "outputs": [],
   "source": [
    "import spacy\n",
    "from spacy import displacy\n",
    "nlp = spacy.load(\"en_core_web_sm\")\n"
   ]
  },
  {
   "cell_type": "code",
   "execution_count": 4,
   "id": "3bb01b4e",
   "metadata": {},
   "outputs": [],
   "source": [
    "import functools\n",
    "def conjunction(*conditions):\n",
    "    return functools.reduce(np.logical_and, conditions)\n",
    "\n",
    "def disjunction(*conditions):\n",
    "    return functools.reduce(np.logical_or, conditions)"
   ]
  },
  {
   "cell_type": "code",
   "execution_count": 5,
   "id": "e7bd6e22",
   "metadata": {},
   "outputs": [],
   "source": [
    "root_dir='/Users/aliceallafort/Google_Drive/Github/'\n",
    "datasets_dir=root_dir+'RecipeNet/'\n",
    "save_dir=root_dir+'Miamiam/data_save/'"
   ]
  },
  {
   "cell_type": "markdown",
   "id": "ee5e30b5",
   "metadata": {
    "heading_collapsed": true
   },
   "source": [
    "## Load Ingredients"
   ]
  },
  {
   "cell_type": "code",
   "execution_count": 6,
   "id": "f2aa2bba",
   "metadata": {
    "hidden": true
   },
   "outputs": [
    {
     "name": "stdout",
     "output_type": "stream",
     "text": [
      "3340\n",
      "['salt', 'pepper', 'butter', 'garlic', 'sugar', 'flour', 'onion', 'olive oil', 'olive', 'egg']\n"
     ]
    }
   ],
   "source": [
    "# Made from unique elements - Cleaned in extract_ingredients.ipynb\n",
    "\n",
    "with open(save_dir+'my_cleaned_ing.txt','r') as f:\n",
    "    cleaned_ing =f.read().splitlines()\n",
    "print(len(cleaned_ing))\n",
    "print(cleaned_ing[:10])"
   ]
  },
  {
   "cell_type": "code",
   "execution_count": null,
   "id": "487bd5ff",
   "metadata": {
    "hidden": true
   },
   "outputs": [],
   "source": []
  },
  {
   "cell_type": "markdown",
   "id": "6faedd68",
   "metadata": {},
   "source": [
    "## Epicurious"
   ]
  },
  {
   "cell_type": "markdown",
   "id": "de86d3ec",
   "metadata": {
    "heading_collapsed": true
   },
   "source": [
    "#### Load data"
   ]
  },
  {
   "cell_type": "code",
   "execution_count": 7,
   "id": "27f63c3c",
   "metadata": {
    "hidden": true
   },
   "outputs": [],
   "source": [
    "epi_json = datasets_dir+'epicurious/full_format_recipes.json'"
   ]
  },
  {
   "cell_type": "code",
   "execution_count": 8,
   "id": "18cee846",
   "metadata": {
    "hidden": true
   },
   "outputs": [],
   "source": [
    "df=pd.read_json(epi_json)"
   ]
  },
  {
   "cell_type": "code",
   "execution_count": 9,
   "id": "6d1e8233",
   "metadata": {
    "hidden": true
   },
   "outputs": [],
   "source": [
    "df=df.dropna(how='all')\n",
    "df.title=df.title.apply(lambda t: t.strip())\n",
    "df['num_dir'] = df.directions.apply(len)\n",
    "df['num_ing'] = df.ingredients.apply(len)\n",
    "df['num_cat'] = df.categories.apply(len)\n",
    "\n",
    "df.ingredients=df.ingredients.apply(lambda l: [s.lower() for s in l])\n",
    "df['title_words']=df.title.apply(lambda t: t.lower().replace(',','').split())"
   ]
  },
  {
   "cell_type": "markdown",
   "id": "6edd78ec",
   "metadata": {},
   "source": [
    "#### Load pre-processed"
   ]
  },
  {
   "cell_type": "code",
   "execution_count": 5,
   "id": "da803dd5",
   "metadata": {},
   "outputs": [],
   "source": [
    "df=pd.read_json(save_dir+'epicurious_ing_cleaned.json')"
   ]
  },
  {
   "cell_type": "markdown",
   "id": "55e24f5c",
   "metadata": {
    "heading_collapsed": true
   },
   "source": [
    "###### tests"
   ]
  },
  {
   "cell_type": "code",
   "execution_count": 97,
   "id": "e7f80fa6",
   "metadata": {
    "hidden": true,
    "scrolled": true
   },
   "outputs": [
    {
     "data": {
      "text/plain": [
       "Index(['directions', 'fat', 'date', 'categories', 'calories', 'desc',\n",
       "       'protein', 'rating', 'title', 'ingredients', 'sodium', 'ing_cleaned'],\n",
       "      dtype='object')"
      ]
     },
     "execution_count": 97,
     "metadata": {},
     "output_type": "execute_result"
    }
   ],
   "source": [
    "df.columns"
   ]
  },
  {
   "cell_type": "code",
   "execution_count": 98,
   "id": "fc99f05b",
   "metadata": {
    "hidden": true,
    "scrolled": true
   },
   "outputs": [
    {
     "data": {
      "text/html": [
       "<div>\n",
       "<style scoped>\n",
       "    .dataframe tbody tr th:only-of-type {\n",
       "        vertical-align: middle;\n",
       "    }\n",
       "\n",
       "    .dataframe tbody tr th {\n",
       "        vertical-align: top;\n",
       "    }\n",
       "\n",
       "    .dataframe thead th {\n",
       "        text-align: right;\n",
       "    }\n",
       "</style>\n",
       "<table border=\"1\" class=\"dataframe\">\n",
       "  <thead>\n",
       "    <tr style=\"text-align: right;\">\n",
       "      <th></th>\n",
       "      <th>directions</th>\n",
       "      <th>fat</th>\n",
       "      <th>date</th>\n",
       "      <th>categories</th>\n",
       "      <th>calories</th>\n",
       "      <th>desc</th>\n",
       "      <th>protein</th>\n",
       "      <th>rating</th>\n",
       "      <th>title</th>\n",
       "      <th>ingredients</th>\n",
       "      <th>sodium</th>\n",
       "      <th>ing_cleaned</th>\n",
       "    </tr>\n",
       "  </thead>\n",
       "  <tbody>\n",
       "    <tr>\n",
       "      <th>0</th>\n",
       "      <td>[1. Place the stock, lentils, celery, carrot, ...</td>\n",
       "      <td>7.0</td>\n",
       "      <td>2006-09-01 04:00:00+00:00</td>\n",
       "      <td>[Sandwich, Bean, Fruit, Tomato, turkey, Vegeta...</td>\n",
       "      <td>426.0</td>\n",
       "      <td>None</td>\n",
       "      <td>30.0</td>\n",
       "      <td>2.500</td>\n",
       "      <td>Lentil, Apple, and Turkey Wrap</td>\n",
       "      <td>[4 cups low-sodium vegetable or chicken stock,...</td>\n",
       "      <td>559.0</td>\n",
       "      <td>[Freshly ground black pepper, Fuji apple, carr...</td>\n",
       "    </tr>\n",
       "    <tr>\n",
       "      <th>1</th>\n",
       "      <td>[Combine first 9 ingredients in heavy medium s...</td>\n",
       "      <td>23.0</td>\n",
       "      <td>2004-08-20 04:00:00+00:00</td>\n",
       "      <td>[Food Processor, Onion, Pork, Bake, Bastille D...</td>\n",
       "      <td>403.0</td>\n",
       "      <td>This uses the same ingredients found in boudin...</td>\n",
       "      <td>18.0</td>\n",
       "      <td>4.375</td>\n",
       "      <td>Boudin Blanc Terrine with Red Onion Confit</td>\n",
       "      <td>[1 1/2 cups whipping cream, 2 medium onions, c...</td>\n",
       "      <td>1439.0</td>\n",
       "      <td>[Bay leaves, Cracked peppercorns, French bread...</td>\n",
       "    </tr>\n",
       "    <tr>\n",
       "      <th>2</th>\n",
       "      <td>[In a large heavy saucepan cook diced fennel a...</td>\n",
       "      <td>7.0</td>\n",
       "      <td>2004-08-20 04:00:00+00:00</td>\n",
       "      <td>[Soup/Stew, Dairy, Potato, Vegetable, Fennel, ...</td>\n",
       "      <td>165.0</td>\n",
       "      <td>None</td>\n",
       "      <td>6.0</td>\n",
       "      <td>3.750</td>\n",
       "      <td>Potato and Fennel Soup Hodge</td>\n",
       "      <td>[1 fennel bulb (sometimes called anise), stalk...</td>\n",
       "      <td>165.0</td>\n",
       "      <td>[chicken broth, fennel bulb stalks discarded b...</td>\n",
       "    </tr>\n",
       "    <tr>\n",
       "      <th>3</th>\n",
       "      <td>[Heat oil in heavy large skillet over medium-h...</td>\n",
       "      <td>NaN</td>\n",
       "      <td>2009-03-27 04:00:00+00:00</td>\n",
       "      <td>[Fish, Olive, Tomato, Sauté, Low Fat, Low Cal,...</td>\n",
       "      <td>NaN</td>\n",
       "      <td>The Sicilian-style tomato sauce has tons of Me...</td>\n",
       "      <td>NaN</td>\n",
       "      <td>5.000</td>\n",
       "      <td>Mahi-Mahi in Tomato Olive Sauce</td>\n",
       "      <td>[2 tablespoons extra-virgin olive oil, 1 cup c...</td>\n",
       "      <td>NaN</td>\n",
       "      <td>[Country style white bread thick slices toaste...</td>\n",
       "    </tr>\n",
       "    <tr>\n",
       "      <th>4</th>\n",
       "      <td>[Preheat oven to 350°F. Lightly grease 8x8x2-i...</td>\n",
       "      <td>32.0</td>\n",
       "      <td>2004-08-20 04:00:00+00:00</td>\n",
       "      <td>[Cheese, Dairy, Pasta, Vegetable, Side, Bake, ...</td>\n",
       "      <td>547.0</td>\n",
       "      <td>None</td>\n",
       "      <td>20.0</td>\n",
       "      <td>3.125</td>\n",
       "      <td>Spinach Noodle Casserole</td>\n",
       "      <td>[1 12-ounce package frozen spinach soufflé, th...</td>\n",
       "      <td>452.0</td>\n",
       "      <td>[extra wide egg noodles cooked, frozen spinach...</td>\n",
       "    </tr>\n",
       "  </tbody>\n",
       "</table>\n",
       "</div>"
      ],
      "text/plain": [
       "                                          directions   fat  \\\n",
       "0  [1. Place the stock, lentils, celery, carrot, ...   7.0   \n",
       "1  [Combine first 9 ingredients in heavy medium s...  23.0   \n",
       "2  [In a large heavy saucepan cook diced fennel a...   7.0   \n",
       "3  [Heat oil in heavy large skillet over medium-h...   NaN   \n",
       "4  [Preheat oven to 350°F. Lightly grease 8x8x2-i...  32.0   \n",
       "\n",
       "                       date  \\\n",
       "0 2006-09-01 04:00:00+00:00   \n",
       "1 2004-08-20 04:00:00+00:00   \n",
       "2 2004-08-20 04:00:00+00:00   \n",
       "3 2009-03-27 04:00:00+00:00   \n",
       "4 2004-08-20 04:00:00+00:00   \n",
       "\n",
       "                                          categories  calories  \\\n",
       "0  [Sandwich, Bean, Fruit, Tomato, turkey, Vegeta...     426.0   \n",
       "1  [Food Processor, Onion, Pork, Bake, Bastille D...     403.0   \n",
       "2  [Soup/Stew, Dairy, Potato, Vegetable, Fennel, ...     165.0   \n",
       "3  [Fish, Olive, Tomato, Sauté, Low Fat, Low Cal,...       NaN   \n",
       "4  [Cheese, Dairy, Pasta, Vegetable, Side, Bake, ...     547.0   \n",
       "\n",
       "                                                desc  protein  rating  \\\n",
       "0                                               None     30.0   2.500   \n",
       "1  This uses the same ingredients found in boudin...     18.0   4.375   \n",
       "2                                               None      6.0   3.750   \n",
       "3  The Sicilian-style tomato sauce has tons of Me...      NaN   5.000   \n",
       "4                                               None     20.0   3.125   \n",
       "\n",
       "                                         title  \\\n",
       "0              Lentil, Apple, and Turkey Wrap    \n",
       "1  Boudin Blanc Terrine with Red Onion Confit    \n",
       "2                Potato and Fennel Soup Hodge    \n",
       "3             Mahi-Mahi in Tomato Olive Sauce    \n",
       "4                    Spinach Noodle Casserole    \n",
       "\n",
       "                                         ingredients  sodium  \\\n",
       "0  [4 cups low-sodium vegetable or chicken stock,...   559.0   \n",
       "1  [1 1/2 cups whipping cream, 2 medium onions, c...  1439.0   \n",
       "2  [1 fennel bulb (sometimes called anise), stalk...   165.0   \n",
       "3  [2 tablespoons extra-virgin olive oil, 1 cup c...     NaN   \n",
       "4  [1 12-ounce package frozen spinach soufflé, th...   452.0   \n",
       "\n",
       "                                         ing_cleaned  \n",
       "0  [Freshly ground black pepper, Fuji apple, carr...  \n",
       "1  [Bay leaves, Cracked peppercorns, French bread...  \n",
       "2  [chicken broth, fennel bulb stalks discarded b...  \n",
       "3  [Country style white bread thick slices toaste...  \n",
       "4  [extra wide egg noodles cooked, frozen spinach...  "
      ]
     },
     "execution_count": 98,
     "metadata": {},
     "output_type": "execute_result"
    }
   ],
   "source": [
    "df.head()"
   ]
  },
  {
   "cell_type": "markdown",
   "id": "296d9fdf",
   "metadata": {
    "heading_collapsed": true
   },
   "source": [
    "#### Clean ingredients"
   ]
  },
  {
   "cell_type": "code",
   "execution_count": 10,
   "id": "d2c709f2",
   "metadata": {
    "hidden": true
   },
   "outputs": [],
   "source": [
    "units = ['ounce','oz', 'cup', 'teaspoon', 'tablespoon', 'tbsp','tsp',\n",
    "         'gram', 'quart','qt', 'lb', 'pound',\n",
    "         'l','ml','g','gram', 'inch','inches','cm']\n",
    "\n",
    "descriptions= ['large', 'medium','small','quarter',\n",
    "              'pkg','package','bottle','stick','cube','can','piece','pinch of',\n",
    "               'bit', 'goodquality'  ]      \n",
    "\n",
    "preparations = ['chopped', 'shredded', 'diced', 'minced', 'crushed','peeled',\n",
    "                'cored','seeded','squeezed','sliced', 'drained', 'grated','packed',\n",
    "                'wellstirred','divided','added',\n",
    "                'chilled','thawed','cut into','halved',\n",
    "                'thinly', 'finely','fine','lightly' , 'coarse','coarsely','freshly','firmly',\n",
    "               'plus more for seasoning','plus more for drizzling','room temperature','to taste',\n",
    "               'available at specialty foods shops some supermarkets',\n",
    "               'special equipment an instantread thermometer']\n",
    "\n",
    "connective = ['a','the','or', 'and','plus','to','of','more','with','about','for','well']\n",
    "\n",
    "# Not sure what to do with 'whole'"
   ]
  },
  {
   "cell_type": "code",
   "execution_count": 11,
   "id": "cf563b88",
   "metadata": {
    "hidden": true
   },
   "outputs": [],
   "source": [
    "def remove_plurals(ing):\n",
    "    doc = nlp(ing)\n",
    "    for token in doc:\n",
    "        if token.tag_=='NNS': \n",
    "            ing=re.sub(token.text,token.lemma_,ing)\n",
    "    return ing\n",
    "\n",
    "\n",
    "def pre_process(s):\n",
    "    original_string = s\n",
    "    for u in units+descriptions:\n",
    "        ex=r'\\b{}\\b|\\b{}s\\b'.format(u,u)\n",
    "        s=re.sub(ex,'',s)\n",
    "    for w in preparations+connective:\n",
    "        ex=r'\\b{}\\b'.format(w)\n",
    "        s=re.sub(ex,'',s)\n",
    "    s=re.sub('-',' ',s)    \n",
    "    s=re.sub(r'\\(.*?\\)','',s)\n",
    "    s=re.sub(r'[^A-Za-z\\s]','',s)\n",
    "    s=re.sub(r'\\s+',r' ',s)\n",
    "    \n",
    "    s=remove_plurals(s)\n",
    "    \n",
    "    return s.strip()"
   ]
  },
  {
   "cell_type": "code",
   "execution_count": 12,
   "id": "af40cab9",
   "metadata": {
    "hidden": true
   },
   "outputs": [
    {
     "data": {
      "text/plain": [
       "datetime.timedelta(seconds=1416, microseconds=790598)"
      ]
     },
     "execution_count": 12,
     "metadata": {},
     "output_type": "execute_result"
    }
   ],
   "source": [
    "first_time = datetime.datetime.now()\n",
    "\n",
    "df['ing_cleaned']=df.ingredients.apply(lambda list_ing: sorted([pre_process(s) for s in list_ing]))        \n",
    "        \n",
    "later_time = datetime.datetime.now()\n",
    "later_time - first_time\n"
   ]
  },
  {
   "cell_type": "code",
   "execution_count": 13,
   "id": "9829b4d2",
   "metadata": {
    "hidden": true
   },
   "outputs": [],
   "source": [
    "df['ing_cleaned_all']=df.ing_cleaned.apply(lambda l: \" \".join(l))"
   ]
  },
  {
   "cell_type": "code",
   "execution_count": 51,
   "id": "e2f99cc4",
   "metadata": {
    "hidden": true
   },
   "outputs": [
    {
     "data": {
      "text/html": [
       "<div>\n",
       "<style scoped>\n",
       "    .dataframe tbody tr th:only-of-type {\n",
       "        vertical-align: middle;\n",
       "    }\n",
       "\n",
       "    .dataframe tbody tr th {\n",
       "        vertical-align: top;\n",
       "    }\n",
       "\n",
       "    .dataframe thead th {\n",
       "        text-align: right;\n",
       "    }\n",
       "</style>\n",
       "<table border=\"1\" class=\"dataframe\">\n",
       "  <thead>\n",
       "    <tr style=\"text-align: right;\">\n",
       "      <th></th>\n",
       "      <th>directions</th>\n",
       "      <th>fat</th>\n",
       "      <th>date</th>\n",
       "      <th>categories</th>\n",
       "      <th>calories</th>\n",
       "      <th>desc</th>\n",
       "      <th>protein</th>\n",
       "      <th>rating</th>\n",
       "      <th>title</th>\n",
       "      <th>ingredients</th>\n",
       "      <th>...</th>\n",
       "      <th>num_cat</th>\n",
       "      <th>title_words</th>\n",
       "      <th>ing_cleaned</th>\n",
       "      <th>ing_cleaned_all</th>\n",
       "      <th>ing_index</th>\n",
       "      <th>ing_assoc</th>\n",
       "      <th>ing_assoc_index</th>\n",
       "      <th>ing_assoc_list</th>\n",
       "      <th>ing_assoc_index_list</th>\n",
       "      <th>recipe_id</th>\n",
       "    </tr>\n",
       "  </thead>\n",
       "  <tbody>\n",
       "    <tr>\n",
       "      <th>0</th>\n",
       "      <td>[1. Place the stock, lentils, celery, carrot, ...</td>\n",
       "      <td>7.0</td>\n",
       "      <td>2006-09-01 04:00:00</td>\n",
       "      <td>[Sandwich, Bean, Fruit, Tomato, turkey, Vegeta...</td>\n",
       "      <td>426.0</td>\n",
       "      <td>None</td>\n",
       "      <td>30.0</td>\n",
       "      <td>2.500</td>\n",
       "      <td>Lentil, Apple, and Turkey Wrap</td>\n",
       "      <td>[4 cups low-sodium vegetable or chicken stock,...</td>\n",
       "      <td>...</td>\n",
       "      <td>11</td>\n",
       "      <td>[lentil, apple, and, turkey, wrap]</td>\n",
       "      <td>[carrot, dried brown lentil, dried french gree...</td>\n",
       "      <td>carrot dried brown lentil dried french green l...</td>\n",
       "      <td>[23, 5199, 2504, 11, 1230, 13, 2505, 9, 84, 52...</td>\n",
       "      <td>[[carrot], [brown lentil], [green lentil], [ol...</td>\n",
       "      <td>[[45], [2337], [2352], [7, 8, 53, 69, 70], [13...</td>\n",
       "      <td>[apple, bibb lettuce, black pepper, breast, br...</td>\n",
       "      <td>[0, 1, 5, 7, 8, 10, 14, 15, 16, 19, 20, 32, 45...</td>\n",
       "      <td>0</td>\n",
       "    </tr>\n",
       "    <tr>\n",
       "      <th>1</th>\n",
       "      <td>[Combine first 9 ingredients in heavy medium s...</td>\n",
       "      <td>23.0</td>\n",
       "      <td>2004-08-20 04:00:00</td>\n",
       "      <td>[Food Processor, Onion, Pork, Bake, Bastille D...</td>\n",
       "      <td>403.0</td>\n",
       "      <td>This uses the same ingredients found in boudin...</td>\n",
       "      <td>18.0</td>\n",
       "      <td>4.375</td>\n",
       "      <td>Boudin Blanc Terrine with Red Onion Confit</td>\n",
       "      <td>[1 1/2 cups whipping cream, 2 medium onions, c...</td>\n",
       "      <td>...</td>\n",
       "      <td>11</td>\n",
       "      <td>[boudin, blanc, terrine, with, red, onion, con...</td>\n",
       "      <td>[all purpose flour, bay leaves, bay leaves, bu...</td>\n",
       "      <td>all purpose flour bay leaves bay leaves butter...</td>\n",
       "      <td>[6, 85, 85, 15, 462, 10022, 210, 210, 189, 10,...</td>\n",
       "      <td>[[flour], [bay leaves, bay], [bay leaves, bay]...</td>\n",
       "      <td>[[5], [173, 184], [173, 184], [2], [15, 47, 20...</td>\n",
       "      <td>[baguette, bay, bay leaves, bread, broth, butt...</td>\n",
       "      <td>[0, 1, 2, 3, 4, 5, 6, 7, 8, 9, 13, 15, 17, 21,...</td>\n",
       "      <td>1</td>\n",
       "    </tr>\n",
       "    <tr>\n",
       "      <th>2</th>\n",
       "      <td>[In a large heavy saucepan cook diced fennel a...</td>\n",
       "      <td>7.0</td>\n",
       "      <td>2004-08-20 04:00:00</td>\n",
       "      <td>[Soup/Stew, Dairy, Potato, Vegetable, Fennel, ...</td>\n",
       "      <td>165.0</td>\n",
       "      <td>None</td>\n",
       "      <td>6.0</td>\n",
       "      <td>3.750</td>\n",
       "      <td>Potato and Fennel Soup Hodge</td>\n",
       "      <td>[1 fennel bulb (sometimes called anise), stalk...</td>\n",
       "      <td>...</td>\n",
       "      <td>7</td>\n",
       "      <td>[potato, and, fennel, soup, hodge]</td>\n",
       "      <td>[chicken broth, fennel bulb stalk discarded bu...</td>\n",
       "      <td>chicken broth fennel bulb stalk discarded bulb...</td>\n",
       "      <td>[81, 10024, 42, 7, 100, 4]</td>\n",
       "      <td>[[chicken, chicken broth, broth], [garnish, fe...</td>\n",
       "      <td>[[15, 47, 201], [66, 256, 773, 2019], [11], [6...</td>\n",
       "      <td>[broth, bulb, butter, chicken, chicken broth, ...</td>\n",
       "      <td>[2, 6, 11, 15, 28, 33, 47, 66, 201, 256, 548, ...</td>\n",
       "      <td>2</td>\n",
       "    </tr>\n",
       "    <tr>\n",
       "      <th>3</th>\n",
       "      <td>[Heat oil in heavy large skillet over medium-h...</td>\n",
       "      <td>NaN</td>\n",
       "      <td>2009-03-27 04:00:00</td>\n",
       "      <td>[Fish, Olive, Tomato, Sauté, Low Fat, Low Cal,...</td>\n",
       "      <td>NaN</td>\n",
       "      <td>The Sicilian-style tomato sauce has tons of Me...</td>\n",
       "      <td>NaN</td>\n",
       "      <td>5.000</td>\n",
       "      <td>Mahi-Mahi in Tomato Olive Sauce</td>\n",
       "      <td>[2 tablespoons extra-virgin olive oil, 1 cup c...</td>\n",
       "      <td>...</td>\n",
       "      <td>17</td>\n",
       "      <td>[mahi-mahi, in, tomato, olive, sauce]</td>\n",
       "      <td>[anchovy paste, country style white bread thic...</td>\n",
       "      <td>anchovy paste country style white bread thick ...</td>\n",
       "      <td>[476, 10025, 20, 11, 173, 10026, 1913, 7, 67, ...</td>\n",
       "      <td>[[paste, anchovy, anchovy paste], [bread, whit...</td>\n",
       "      <td>[[505, 1082, 1581], [51, 377], [62, 74, 138, 1...</td>\n",
       "      <td>[anchovy, anchovy paste, basil, bread, dry, dr...</td>\n",
       "      <td>[3, 6, 7, 8, 16, 43, 50, 51, 53, 54, 62, 69, 7...</td>\n",
       "      <td>3</td>\n",
       "    </tr>\n",
       "    <tr>\n",
       "      <th>4</th>\n",
       "      <td>[Preheat oven to 350°F. Lightly grease 8x8x2-i...</td>\n",
       "      <td>32.0</td>\n",
       "      <td>2004-08-20 04:00:00</td>\n",
       "      <td>[Cheese, Dairy, Pasta, Vegetable, Side, Bake, ...</td>\n",
       "      <td>547.0</td>\n",
       "      <td>None</td>\n",
       "      <td>20.0</td>\n",
       "      <td>3.125</td>\n",
       "      <td>Spinach Noodle Casserole</td>\n",
       "      <td>[1 12-ounce package frozen spinach soufflé, th...</td>\n",
       "      <td>...</td>\n",
       "      <td>11</td>\n",
       "      <td>[spinach, noodle, casserole]</td>\n",
       "      <td>[extra wide egg noodle cooked, frozen spinach ...</td>\n",
       "      <td>extra wide egg noodle cooked frozen spinach so...</td>\n",
       "      <td>[10028, 5202, 86, 2177, 346, 38]</td>\n",
       "      <td>[[egg, noodle, egg noodle, wide egg noodle], [...</td>\n",
       "      <td>[[9, 147, 443, 1283], [80, 396], [60, 199], [5...</td>\n",
       "      <td>[cheddar, cheddar cheese, cheese, cream, egg, ...</td>\n",
       "      <td>[9, 12, 13, 35, 37, 42, 60, 80, 147, 199, 257,...</td>\n",
       "      <td>4</td>\n",
       "    </tr>\n",
       "  </tbody>\n",
       "</table>\n",
       "<p>5 rows × 23 columns</p>\n",
       "</div>"
      ],
      "text/plain": [
       "                                          directions   fat  \\\n",
       "0  [1. Place the stock, lentils, celery, carrot, ...   7.0   \n",
       "1  [Combine first 9 ingredients in heavy medium s...  23.0   \n",
       "2  [In a large heavy saucepan cook diced fennel a...   7.0   \n",
       "3  [Heat oil in heavy large skillet over medium-h...   NaN   \n",
       "4  [Preheat oven to 350°F. Lightly grease 8x8x2-i...  32.0   \n",
       "\n",
       "                 date                                         categories  \\\n",
       "0 2006-09-01 04:00:00  [Sandwich, Bean, Fruit, Tomato, turkey, Vegeta...   \n",
       "1 2004-08-20 04:00:00  [Food Processor, Onion, Pork, Bake, Bastille D...   \n",
       "2 2004-08-20 04:00:00  [Soup/Stew, Dairy, Potato, Vegetable, Fennel, ...   \n",
       "3 2009-03-27 04:00:00  [Fish, Olive, Tomato, Sauté, Low Fat, Low Cal,...   \n",
       "4 2004-08-20 04:00:00  [Cheese, Dairy, Pasta, Vegetable, Side, Bake, ...   \n",
       "\n",
       "   calories                                               desc  protein  \\\n",
       "0     426.0                                               None     30.0   \n",
       "1     403.0  This uses the same ingredients found in boudin...     18.0   \n",
       "2     165.0                                               None      6.0   \n",
       "3       NaN  The Sicilian-style tomato sauce has tons of Me...      NaN   \n",
       "4     547.0                                               None     20.0   \n",
       "\n",
       "   rating                                       title  \\\n",
       "0   2.500              Lentil, Apple, and Turkey Wrap   \n",
       "1   4.375  Boudin Blanc Terrine with Red Onion Confit   \n",
       "2   3.750                Potato and Fennel Soup Hodge   \n",
       "3   5.000             Mahi-Mahi in Tomato Olive Sauce   \n",
       "4   3.125                    Spinach Noodle Casserole   \n",
       "\n",
       "                                         ingredients  ...  num_cat  \\\n",
       "0  [4 cups low-sodium vegetable or chicken stock,...  ...       11   \n",
       "1  [1 1/2 cups whipping cream, 2 medium onions, c...  ...       11   \n",
       "2  [1 fennel bulb (sometimes called anise), stalk...  ...        7   \n",
       "3  [2 tablespoons extra-virgin olive oil, 1 cup c...  ...       17   \n",
       "4  [1 12-ounce package frozen spinach soufflé, th...  ...       11   \n",
       "\n",
       "                                         title_words  \\\n",
       "0                 [lentil, apple, and, turkey, wrap]   \n",
       "1  [boudin, blanc, terrine, with, red, onion, con...   \n",
       "2                 [potato, and, fennel, soup, hodge]   \n",
       "3              [mahi-mahi, in, tomato, olive, sauce]   \n",
       "4                       [spinach, noodle, casserole]   \n",
       "\n",
       "                                         ing_cleaned  \\\n",
       "0  [carrot, dried brown lentil, dried french gree...   \n",
       "1  [all purpose flour, bay leaves, bay leaves, bu...   \n",
       "2  [chicken broth, fennel bulb stalk discarded bu...   \n",
       "3  [anchovy paste, country style white bread thic...   \n",
       "4  [extra wide egg noodle cooked, frozen spinach ...   \n",
       "\n",
       "                                     ing_cleaned_all  \\\n",
       "0  carrot dried brown lentil dried french green l...   \n",
       "1  all purpose flour bay leaves bay leaves butter...   \n",
       "2  chicken broth fennel bulb stalk discarded bulb...   \n",
       "3  anchovy paste country style white bread thick ...   \n",
       "4  extra wide egg noodle cooked frozen spinach so...   \n",
       "\n",
       "                                           ing_index  \\\n",
       "0  [23, 5199, 2504, 11, 1230, 13, 2505, 9, 84, 52...   \n",
       "1  [6, 85, 85, 15, 462, 10022, 210, 210, 189, 10,...   \n",
       "2                         [81, 10024, 42, 7, 100, 4]   \n",
       "3  [476, 10025, 20, 11, 173, 10026, 1913, 7, 67, ...   \n",
       "4                   [10028, 5202, 86, 2177, 346, 38]   \n",
       "\n",
       "                                           ing_assoc  \\\n",
       "0  [[carrot], [brown lentil], [green lentil], [ol...   \n",
       "1  [[flour], [bay leaves, bay], [bay leaves, bay]...   \n",
       "2  [[chicken, chicken broth, broth], [garnish, fe...   \n",
       "3  [[paste, anchovy, anchovy paste], [bread, whit...   \n",
       "4  [[egg, noodle, egg noodle, wide egg noodle], [...   \n",
       "\n",
       "                                     ing_assoc_index  \\\n",
       "0  [[45], [2337], [2352], [7, 8, 53, 69, 70], [13...   \n",
       "1  [[5], [173, 184], [173, 184], [2], [15, 47, 20...   \n",
       "2  [[15, 47, 201], [66, 256, 773, 2019], [11], [6...   \n",
       "3  [[505, 1082, 1581], [51, 377], [62, 74, 138, 1...   \n",
       "4  [[9, 147, 443, 1283], [80, 396], [60, 199], [5...   \n",
       "\n",
       "                                      ing_assoc_list  \\\n",
       "0  [apple, bibb lettuce, black pepper, breast, br...   \n",
       "1  [baguette, bay, bay leaves, bread, broth, butt...   \n",
       "2  [broth, bulb, butter, chicken, chicken broth, ...   \n",
       "3  [anchovy, anchovy paste, basil, bread, dry, dr...   \n",
       "4  [cheddar, cheddar cheese, cheese, cream, egg, ...   \n",
       "\n",
       "                                ing_assoc_index_list recipe_id  \n",
       "0  [0, 1, 5, 7, 8, 10, 14, 15, 16, 19, 20, 32, 45...         0  \n",
       "1  [0, 1, 2, 3, 4, 5, 6, 7, 8, 9, 13, 15, 17, 21,...         1  \n",
       "2  [2, 6, 11, 15, 28, 33, 47, 66, 201, 256, 548, ...         2  \n",
       "3  [3, 6, 7, 8, 16, 43, 50, 51, 53, 54, 62, 69, 7...         3  \n",
       "4  [9, 12, 13, 35, 37, 42, 60, 80, 147, 199, 257,...         4  \n",
       "\n",
       "[5 rows x 23 columns]"
      ]
     },
     "execution_count": 51,
     "metadata": {},
     "output_type": "execute_result"
    }
   ],
   "source": [
    "df['recipe_id'] = list(df.index)\n",
    "df.head()"
   ]
  },
  {
   "cell_type": "code",
   "execution_count": 52,
   "id": "37de1e68",
   "metadata": {
    "hidden": true
   },
   "outputs": [],
   "source": [
    "#df.to_csv(save_dir+'epicurious_ing_cleaned.csv')\n",
    "df.to_json(save_dir+'epicurious_ing_cleaned.json')"
   ]
  },
  {
   "cell_type": "markdown",
   "id": "5dcaf144",
   "metadata": {
    "heading_collapsed": true,
    "hidden": true
   },
   "source": [
    "###### tests"
   ]
  },
  {
   "cell_type": "code",
   "execution_count": 10,
   "id": "d1eca9c8",
   "metadata": {
    "hidden": true
   },
   "outputs": [
    {
     "name": "stdout",
     "output_type": "stream",
     "text": [
      "4 cups low-sodium vegetable or chicken stock ---> low sodium vegetable chicken stock\n",
      "1 cup dried brown lentils ---> dried brown lentils\n",
      "1/2 cup dried french green lentils ---> dried french green lentils\n",
      "2 stalks celery, chopped ---> stalks celery\n",
      "1 large carrot, peeled and chopped ---> carrot\n",
      "1 sprig fresh thyme ---> sprig fresh thyme\n",
      "1 teaspoon kosher salt ---> kosher salt\n",
      "1 medium tomato, cored, seeded, and diced ---> tomato\n",
      "1 small fuji apple, cored and diced ---> fuji apple\n",
      "1 tablespoon freshly squeezed lemon juice ---> lemon juice\n",
      "2 teaspoons extra-virgin olive oil ---> extra virgin olive oil\n",
      "freshly ground black pepper to taste ---> ground black pepper\n",
      "3 sheets whole-wheat lavash, cut in half crosswise, or 6 (12-inch) flour tortillas ---> sheets whole wheat lavash cut in half crosswise flour tortillas\n",
      "3/4 pound turkey breast, thinly sliced ---> turkey breast\n",
      "1/2 head bibb lettuce ---> head bibb lettuce\n"
     ]
    }
   ],
   "source": [
    "ingredients = df.ingredients.iloc[0]\n",
    "for i in ingredients:\n",
    "    print(i,'--->',clean_replace_units(i))"
   ]
  },
  {
   "cell_type": "code",
   "execution_count": 12,
   "id": "a612463b",
   "metadata": {
    "hidden": true
   },
   "outputs": [
    {
     "data": {
      "text/plain": [
       "'Freshly ground black pepper '"
      ]
     },
     "execution_count": 12,
     "metadata": {},
     "output_type": "execute_result"
    }
   ],
   "source": [
    "s='Freshly ounce ground black pepper to taste ounces l (andgd)'\n",
    "s=re.sub(r'\\bto taste\\b','',s)\n",
    "s=re.sub(r'\\bounce\\b|\\bounces\\b','',s)\n",
    "s=re.sub(r'\\bl\\b',r'',s)\n",
    "s=re.sub(r'\\(.*?\\)','',s)\n",
    "s=re.sub(r'\\s+',r' ',s)\n",
    "s"
   ]
  },
  {
   "cell_type": "code",
   "execution_count": 13,
   "id": "beb4be3a",
   "metadata": {
    "hidden": true
   },
   "outputs": [
    {
     "data": {
      "text/plain": [
       "['Fresh']"
      ]
     },
     "execution_count": 13,
     "metadata": {},
     "output_type": "execute_result"
    }
   ],
   "source": [
    "result = re.findall('fresh','Fresh',re.IGNORECASE)\n",
    "result"
   ]
  },
  {
   "cell_type": "code",
   "execution_count": 11,
   "id": "3dd6eeb3",
   "metadata": {
    "hidden": true
   },
   "outputs": [
    {
     "name": "stdout",
     "output_type": "stream",
     "text": [
      "['4 cups low-sodium vegetable or chicken stock', '1 cup dried brown lentils', '1/2 cup dried french green lentils', '2 stalks celery, chopped', '1 large carrot, peeled and chopped', '1 sprig fresh thyme', '1 teaspoon kosher salt', '1 medium tomato, cored, seeded, and diced', '1 small fuji apple, cored and diced', '1 tablespoon freshly squeezed lemon juice', '2 teaspoons extra-virgin olive oil', 'freshly ground black pepper to taste', '3 sheets whole-wheat lavash, cut in half crosswise, or 6 (12-inch) flour tortillas', '3/4 pound turkey breast, thinly sliced', '1/2 head bibb lettuce']\n",
      "['carrot', 'dried brown lentils', 'dried french green lentils', 'extra virgin olive oil', 'fuji apple', 'ground black pepper', 'head bibb lettuce', 'kosher salt', 'lemon juice', 'low sodium vegetable chicken stock', 'sheets whole wheat lavash cut in half crosswise flour tortillas', 'sprig fresh thyme', 'stalks celery', 'tomato', 'turkey breast']\n"
     ]
    }
   ],
   "source": [
    "print(df.ingredients.iloc[0])\n",
    "print(df.ing_cleaned.iloc[0])"
   ]
  },
  {
   "cell_type": "code",
   "execution_count": null,
   "id": "26e94acd",
   "metadata": {
    "hidden": true
   },
   "outputs": [],
   "source": [
    "# NEED TO COME BACK TO THOSE PROBLEM CASES LATER\n",
    "\n",
    "'half'\n",
    "'all purpose':'allpurpose'\n",
    "'egg yolk','egg white' plurals whole eggs\n",
    "'quality'\n",
    "'dash','dashes','beaten','crumbled','dusting','toasted','fine'\n",
    "'scrubbed debearded','lightly beaten''\n",
    "water, ice\n",
    "orange peel, orange lemon\n",
    "\n",
    "colors: red /green bell pepper / \n",
    "    \n",
    "pressed  quartered lengthwise rinsed if desired\n",
    "broth \n",
    "additional\n",
    " mixture is available at specialty foods stores some supermarkets \n",
    "    combination\n",
    "    accompaniment\n",
    "     cut crosswise into thin slices\n",
    "sliced\n",
    "quartered lengthwise\n",
    "pitted\n",
    "extra virgin olive oil\n",
    "if fresh dried in same sentence pick dried\n",
    "crumbled\n",
    " cooked according directions\n",
    "canned\n",
    "\n",
    "sentence with or\n"
   ]
  },
  {
   "cell_type": "markdown",
   "id": "0a753b3a",
   "metadata": {
    "heading_collapsed": true,
    "hidden": true
   },
   "source": [
    "##### Stats"
   ]
  },
  {
   "cell_type": "code",
   "execution_count": 18,
   "id": "1f79bc35",
   "metadata": {
    "hidden": true
   },
   "outputs": [],
   "source": [
    "# CATEGORIES\n",
    "\n",
    "all_cat=df.categories.sum()"
   ]
  },
  {
   "cell_type": "code",
   "execution_count": 19,
   "id": "0d61b3f2",
   "metadata": {
    "hidden": true
   },
   "outputs": [
    {
     "data": {
      "text/plain": [
       "(244585, 674)"
      ]
     },
     "execution_count": 19,
     "metadata": {},
     "output_type": "execute_result"
    }
   ],
   "source": [
    "unique_cat = list(set(all_cat))\n",
    "len(all_cat),len(unique_cat)"
   ]
  },
  {
   "cell_type": "code",
   "execution_count": 20,
   "id": "7e3b1422",
   "metadata": {
    "hidden": true
   },
   "outputs": [],
   "source": [
    "c_cat = Counter(all_cat)"
   ]
  },
  {
   "cell_type": "code",
   "execution_count": 21,
   "id": "a7f70031",
   "metadata": {
    "hidden": true,
    "scrolled": true
   },
   "outputs": [
    {
     "data": {
      "text/plain": [
       "[('Bon Appétit', 9355),\n",
       " ('Peanut Free', 8390),\n",
       " ('Soy Free', 8088),\n",
       " ('Tree Nut Free', 7044),\n",
       " ('Vegetarian', 6846),\n",
       " ('Gourmet', 6648),\n",
       " ('Kosher', 6175),\n",
       " ('Pescatarian', 6042),\n",
       " ('Quick & Easy', 5372),\n",
       " ('Wheat/Gluten-Free', 4906),\n",
       " ('Bake', 4413),\n",
       " ('Summer', 4151),\n",
       " ('Dessert', 3573),\n",
       " ('Dairy Free', 3206),\n",
       " ('Side', 3151),\n",
       " ('No Sugar Added', 3132),\n",
       " ('Winter', 3099),\n",
       " ('Fall', 3015),\n",
       " ('Dinner', 2705),\n",
       " ('Sugar Conscious', 2466),\n",
       " ('Healthy', 2351),\n",
       " ('Kidney Friendly', 2313),\n",
       " ('Onion', 2238),\n",
       " ('Tomato', 2140),\n",
       " ('Vegetable', 2087),\n",
       " ('Sauté', 2044),\n",
       " ('Milk/Cream', 1995),\n",
       " ('Fruit', 1958),\n",
       " ('Vegan', 1851),\n",
       " ('Kid-Friendly', 1791),\n",
       " ('Egg', 1768),\n",
       " ('Spring', 1715),\n",
       " ('Herb', 1681),\n",
       " ('Garlic', 1643),\n",
       " ('Salad', 1516),\n",
       " ('Dairy', 1496),\n",
       " ('Thanksgiving', 1458),\n",
       " ('Appetizer', 1372),\n",
       " ('Lunch', 1359),\n",
       " ('Cheese', 1355),\n",
       " ('Chicken', 1344),\n",
       " ('Roast', 1320),\n",
       " ('No-Cook', 1251),\n",
       " ('Soup/Stew', 1164),\n",
       " ('Cocktail Party', 1154),\n",
       " ('Ginger', 1146),\n",
       " ('Potato', 1128),\n",
       " ('Chill', 1126),\n",
       " ('Lemon', 1104),\n",
       " ('Grill/Barbecue', 1104)]"
      ]
     },
     "execution_count": 21,
     "metadata": {},
     "output_type": "execute_result"
    }
   ],
   "source": [
    "c_cat.most_common(50)"
   ]
  },
  {
   "cell_type": "code",
   "execution_count": null,
   "id": "d29de500",
   "metadata": {
    "hidden": true
   },
   "outputs": [],
   "source": []
  },
  {
   "cell_type": "code",
   "execution_count": null,
   "id": "07b46220",
   "metadata": {
    "hidden": true
   },
   "outputs": [],
   "source": []
  },
  {
   "cell_type": "code",
   "execution_count": 26,
   "id": "bae684e5",
   "metadata": {
    "hidden": true,
    "scrolled": true
   },
   "outputs": [
    {
     "data": {
      "text/html": [
       "<div>\n",
       "<style scoped>\n",
       "    .dataframe tbody tr th:only-of-type {\n",
       "        vertical-align: middle;\n",
       "    }\n",
       "\n",
       "    .dataframe tbody tr th {\n",
       "        vertical-align: top;\n",
       "    }\n",
       "\n",
       "    .dataframe thead th {\n",
       "        text-align: right;\n",
       "    }\n",
       "</style>\n",
       "<table border=\"1\" class=\"dataframe\">\n",
       "  <thead>\n",
       "    <tr style=\"text-align: right;\">\n",
       "      <th></th>\n",
       "      <th>directions</th>\n",
       "      <th>fat</th>\n",
       "      <th>date</th>\n",
       "      <th>categories</th>\n",
       "      <th>calories</th>\n",
       "      <th>desc</th>\n",
       "      <th>protein</th>\n",
       "      <th>rating</th>\n",
       "      <th>title</th>\n",
       "      <th>ingredients</th>\n",
       "      <th>sodium</th>\n",
       "      <th>num_dir</th>\n",
       "      <th>num_ing</th>\n",
       "      <th>num_cat</th>\n",
       "      <th>title_words</th>\n",
       "      <th>ing_cleaned</th>\n",
       "    </tr>\n",
       "  </thead>\n",
       "  <tbody>\n",
       "    <tr>\n",
       "      <th>20121</th>\n",
       "      <td>[1. Preheat the oven to 400°F. Spray a baking ...</td>\n",
       "      <td>70.0</td>\n",
       "      <td>2014-03-21 04:00:00+00:00</td>\n",
       "      <td>[Chicken, Poultry, Bake, Passover, Fennel, Sha...</td>\n",
       "      <td>1086.0</td>\n",
       "      <td>Kosher Status: Poultry</td>\n",
       "      <td>78.0</td>\n",
       "      <td>5.0</td>\n",
       "      <td>Crispy Salt and Pepper Chicken with Caramelize...</td>\n",
       "      <td>[cooking spray, one 3 1/2-pound chicken, cut i...</td>\n",
       "      <td>1323.0</td>\n",
       "      <td>2</td>\n",
       "      <td>11</td>\n",
       "      <td>6</td>\n",
       "      <td>[crispy, salt, and, pepper, chicken, with, car...</td>\n",
       "      <td>[cooking spray, fennel bulbs trimmed slices, f...</td>\n",
       "    </tr>\n",
       "    <tr>\n",
       "      <th>10630</th>\n",
       "      <td>[Pat chicken dry and sprinkle with pepper and ...</td>\n",
       "      <td>59.0</td>\n",
       "      <td>2006-05-16 20:13:33+00:00</td>\n",
       "      <td>[Chicken, Tomato, Quick &amp; Easy, Prune, White W...</td>\n",
       "      <td>940.0</td>\n",
       "      <td>The simplicity and speed of this dish belie it...</td>\n",
       "      <td>65.0</td>\n",
       "      <td>5.0</td>\n",
       "      <td>Chicken with Tomatoes and Prunes</td>\n",
       "      <td>[1 (3-lb) chicken, cut into 8 pieces, 1/4 teas...</td>\n",
       "      <td>1264.0</td>\n",
       "      <td>3</td>\n",
       "      <td>11</td>\n",
       "      <td>8</td>\n",
       "      <td>[chicken, with, tomatoes, and, prunes]</td>\n",
       "      <td>[black pepper, chicken, cinnamon, dry white wi...</td>\n",
       "    </tr>\n",
       "    <tr>\n",
       "      <th>3782</th>\n",
       "      <td>[Mix onion, garlic, ginger, gochujang, soy sau...</td>\n",
       "      <td>NaN</td>\n",
       "      <td>2016-03-01 21:26:00+00:00</td>\n",
       "      <td>[Bon Appétit, Chicken, Dinner, Sesame Oil, Gin...</td>\n",
       "      <td>NaN</td>\n",
       "      <td>Long-grain rice is not starchy enough to hold ...</td>\n",
       "      <td>NaN</td>\n",
       "      <td>5.0</td>\n",
       "      <td>Gochujang-Braised Chicken and Crispy Rice</td>\n",
       "      <td>[1 small onion, finely chopped, 8 garlic clove...</td>\n",
       "      <td>NaN</td>\n",
       "      <td>5</td>\n",
       "      <td>19</td>\n",
       "      <td>9</td>\n",
       "      <td>[gochujang-braised, chicken, and, crispy, rice]</td>\n",
       "      <td>[chicken drumsticks patted dry, cooked shortgr...</td>\n",
       "    </tr>\n",
       "    <tr>\n",
       "      <th>9583</th>\n",
       "      <td>[1. Marinate the chicken: In a medium bowl, st...</td>\n",
       "      <td>11.0</td>\n",
       "      <td>2013-07-02 04:00:00+00:00</td>\n",
       "      <td>[Chicken, Stir-Fry, Dinner, Soy Sauce, Chile P...</td>\n",
       "      <td>259.0</td>\n",
       "      <td>This highly addictive stir-fried chicken conti...</td>\n",
       "      <td>30.0</td>\n",
       "      <td>5.0</td>\n",
       "      <td>Kung Pao Chicken</td>\n",
       "      <td>[1 tablespoon soy sauce, 2 teaspoons chinese r...</td>\n",
       "      <td>371.0</td>\n",
       "      <td>4</td>\n",
       "      <td>17</td>\n",
       "      <td>9</td>\n",
       "      <td>[kung, pao, chicken]</td>\n",
       "      <td>[boneless skinless chicken breasts thighs, chi...</td>\n",
       "    </tr>\n",
       "    <tr>\n",
       "      <th>15322</th>\n",
       "      <td>[1. The day before, using 4 cloves of the garl...</td>\n",
       "      <td>NaN</td>\n",
       "      <td>2015-02-04 04:00:00+00:00</td>\n",
       "      <td>[Slow Cooker, Chicken, Citrus, Olive, Poultry,...</td>\n",
       "      <td>NaN</td>\n",
       "      <td>(Djej Emshmel)</td>\n",
       "      <td>NaN</td>\n",
       "      <td>5.0</td>\n",
       "      <td>Chicken with Lemons and Olives Emshmel</td>\n",
       "      <td>[2 to 3 chickens, whole or quartered, with the...</td>\n",
       "      <td>NaN</td>\n",
       "      <td>12</td>\n",
       "      <td>19</td>\n",
       "      <td>6</td>\n",
       "      <td>[chicken, with, lemons, and, olives, emshmel]</td>\n",
       "      <td>[bowl, casserole cover, chickens whole quarter...</td>\n",
       "    </tr>\n",
       "    <tr>\n",
       "      <th>...</th>\n",
       "      <td>...</td>\n",
       "      <td>...</td>\n",
       "      <td>...</td>\n",
       "      <td>...</td>\n",
       "      <td>...</td>\n",
       "      <td>...</td>\n",
       "      <td>...</td>\n",
       "      <td>...</td>\n",
       "      <td>...</td>\n",
       "      <td>...</td>\n",
       "      <td>...</td>\n",
       "      <td>...</td>\n",
       "      <td>...</td>\n",
       "      <td>...</td>\n",
       "      <td>...</td>\n",
       "      <td>...</td>\n",
       "    </tr>\n",
       "    <tr>\n",
       "      <th>16776</th>\n",
       "      <td>[Rinse the chicken backs and necks well under ...</td>\n",
       "      <td>14.0</td>\n",
       "      <td>2013-03-19 04:00:00+00:00</td>\n",
       "      <td>[Chicken, Celery, Fennel, Leek, Shallot, Simme...</td>\n",
       "      <td>153.0</td>\n",
       "      <td>Editor's Note: This recipe goes with Daniel Hu...</td>\n",
       "      <td>7.0</td>\n",
       "      <td>0.0</td>\n",
       "      <td>Chicken Stock</td>\n",
       "      <td>[10 pounds chicken backs and necks, 15 pounds ...</td>\n",
       "      <td>35.0</td>\n",
       "      <td>1</td>\n",
       "      <td>10</td>\n",
       "      <td>7</td>\n",
       "      <td>[chicken, stock]</td>\n",
       "      <td>[bay leaf, celery, celery root, chicken backs ...</td>\n",
       "    </tr>\n",
       "    <tr>\n",
       "      <th>4912</th>\n",
       "      <td>[In a sauté pan over moderate heat, toast the ...</td>\n",
       "      <td>NaN</td>\n",
       "      <td>2012-07-30 04:00:00+00:00</td>\n",
       "      <td>[Chicken, Rice, Fry, Poach, Dinner, Tomatillo,...</td>\n",
       "      <td>NaN</td>\n",
       "      <td>This recipe is part of the Epicurious Online C...</td>\n",
       "      <td>NaN</td>\n",
       "      <td>0.0</td>\n",
       "      <td>Green Pipiân Mole with Chicken</td>\n",
       "      <td>[1 cup pumpkin seeds, 1 cup vegetable stock or...</td>\n",
       "      <td>NaN</td>\n",
       "      <td>6</td>\n",
       "      <td>17</td>\n",
       "      <td>12</td>\n",
       "      <td>[green, pipiân, mole, with, chicken]</td>\n",
       "      <td>[canola vegetable oil, clove garlic, cooked wh...</td>\n",
       "    </tr>\n",
       "    <tr>\n",
       "      <th>6624</th>\n",
       "      <td>[Brown the chicken pieces in the butter, turni...</td>\n",
       "      <td>NaN</td>\n",
       "      <td>2004-08-20 04:00:00+00:00</td>\n",
       "      <td>[Wine, Chicken, Poultry, Sauté, Hot Pepper, Wh...</td>\n",
       "      <td>NaN</td>\n",
       "      <td>None</td>\n",
       "      <td>NaN</td>\n",
       "      <td>0.0</td>\n",
       "      <td>Mexican Chicken Sauté</td>\n",
       "      <td>[3 1/2 to 4 pound chicken, quartered, 4-6 tabl...</td>\n",
       "      <td>NaN</td>\n",
       "      <td>1</td>\n",
       "      <td>8</td>\n",
       "      <td>8</td>\n",
       "      <td>[mexican, chicken, sauté]</td>\n",
       "      <td>[butter, chicken quartered, garlic clove, garn...</td>\n",
       "    </tr>\n",
       "    <tr>\n",
       "      <th>560</th>\n",
       "      <td>[Whisk chile, oil, lime juice, soy sauce, brow...</td>\n",
       "      <td>39.0</td>\n",
       "      <td>2013-04-05 04:00:00+00:00</td>\n",
       "      <td>[]</td>\n",
       "      <td>508.0</td>\n",
       "      <td>Although it's reason alone to keep a rotisseri...</td>\n",
       "      <td>25.0</td>\n",
       "      <td>NaN</td>\n",
       "      <td>Asian Chicken and Cabbage Salad</td>\n",
       "      <td>[1 red jalapeño or fresno chile with some seed...</td>\n",
       "      <td>538.0</td>\n",
       "      <td>1</td>\n",
       "      <td>16</td>\n",
       "      <td>0</td>\n",
       "      <td>[asian, chicken, and, cabbage, salad]</td>\n",
       "      <td>[baby spinach, carrots, dryroasted peanuts, fi...</td>\n",
       "    </tr>\n",
       "    <tr>\n",
       "      <th>19119</th>\n",
       "      <td>[Use a fork to prick the chicken breasts all o...</td>\n",
       "      <td>28.0</td>\n",
       "      <td>2013-05-21 04:00:00+00:00</td>\n",
       "      <td>[]</td>\n",
       "      <td>462.0</td>\n",
       "      <td>If there's one dish guaranteed to be on every ...</td>\n",
       "      <td>42.0</td>\n",
       "      <td>NaN</td>\n",
       "      <td>Chicken Tikka Masala</td>\n",
       "      <td>[1 1/2 pounds boneless, skinless chicken breas...</td>\n",
       "      <td>704.0</td>\n",
       "      <td>6</td>\n",
       "      <td>22</td>\n",
       "      <td>0</td>\n",
       "      <td>[chicken, tikka, masala]</td>\n",
       "      <td>[boneless skinless chicken breasts, canned tom...</td>\n",
       "    </tr>\n",
       "  </tbody>\n",
       "</table>\n",
       "<p>1249 rows × 16 columns</p>\n",
       "</div>"
      ],
      "text/plain": [
       "                                              directions   fat  \\\n",
       "20121  [1. Preheat the oven to 400°F. Spray a baking ...  70.0   \n",
       "10630  [Pat chicken dry and sprinkle with pepper and ...  59.0   \n",
       "3782   [Mix onion, garlic, ginger, gochujang, soy sau...   NaN   \n",
       "9583   [1. Marinate the chicken: In a medium bowl, st...  11.0   \n",
       "15322  [1. The day before, using 4 cloves of the garl...   NaN   \n",
       "...                                                  ...   ...   \n",
       "16776  [Rinse the chicken backs and necks well under ...  14.0   \n",
       "4912   [In a sauté pan over moderate heat, toast the ...   NaN   \n",
       "6624   [Brown the chicken pieces in the butter, turni...   NaN   \n",
       "560    [Whisk chile, oil, lime juice, soy sauce, brow...  39.0   \n",
       "19119  [Use a fork to prick the chicken breasts all o...  28.0   \n",
       "\n",
       "                           date  \\\n",
       "20121 2014-03-21 04:00:00+00:00   \n",
       "10630 2006-05-16 20:13:33+00:00   \n",
       "3782  2016-03-01 21:26:00+00:00   \n",
       "9583  2013-07-02 04:00:00+00:00   \n",
       "15322 2015-02-04 04:00:00+00:00   \n",
       "...                         ...   \n",
       "16776 2013-03-19 04:00:00+00:00   \n",
       "4912  2012-07-30 04:00:00+00:00   \n",
       "6624  2004-08-20 04:00:00+00:00   \n",
       "560   2013-04-05 04:00:00+00:00   \n",
       "19119 2013-05-21 04:00:00+00:00   \n",
       "\n",
       "                                              categories  calories  \\\n",
       "20121  [Chicken, Poultry, Bake, Passover, Fennel, Sha...    1086.0   \n",
       "10630  [Chicken, Tomato, Quick & Easy, Prune, White W...     940.0   \n",
       "3782   [Bon Appétit, Chicken, Dinner, Sesame Oil, Gin...       NaN   \n",
       "9583   [Chicken, Stir-Fry, Dinner, Soy Sauce, Chile P...     259.0   \n",
       "15322  [Slow Cooker, Chicken, Citrus, Olive, Poultry,...       NaN   \n",
       "...                                                  ...       ...   \n",
       "16776  [Chicken, Celery, Fennel, Leek, Shallot, Simme...     153.0   \n",
       "4912   [Chicken, Rice, Fry, Poach, Dinner, Tomatillo,...       NaN   \n",
       "6624   [Wine, Chicken, Poultry, Sauté, Hot Pepper, Wh...       NaN   \n",
       "560                                                   []     508.0   \n",
       "19119                                                 []     462.0   \n",
       "\n",
       "                                                    desc  protein  rating  \\\n",
       "20121                             Kosher Status: Poultry     78.0     5.0   \n",
       "10630  The simplicity and speed of this dish belie it...     65.0     5.0   \n",
       "3782   Long-grain rice is not starchy enough to hold ...      NaN     5.0   \n",
       "9583   This highly addictive stir-fried chicken conti...     30.0     5.0   \n",
       "15322                                     (Djej Emshmel)      NaN     5.0   \n",
       "...                                                  ...      ...     ...   \n",
       "16776  Editor's Note: This recipe goes with Daniel Hu...      7.0     0.0   \n",
       "4912   This recipe is part of the Epicurious Online C...      NaN     0.0   \n",
       "6624                                                None      NaN     0.0   \n",
       "560    Although it's reason alone to keep a rotisseri...     25.0     NaN   \n",
       "19119  If there's one dish guaranteed to be on every ...     42.0     NaN   \n",
       "\n",
       "                                                   title  \\\n",
       "20121  Crispy Salt and Pepper Chicken with Caramelize...   \n",
       "10630                  Chicken with Tomatoes and Prunes    \n",
       "3782          Gochujang-Braised Chicken and Crispy Rice    \n",
       "9583                                   Kung Pao Chicken    \n",
       "15322            Chicken with Lemons and Olives Emshmel    \n",
       "...                                                  ...   \n",
       "16776                                     Chicken Stock    \n",
       "4912                     Green Pipiân Mole with Chicken    \n",
       "6624                              Mexican Chicken Sauté    \n",
       "560                     Asian Chicken and Cabbage Salad    \n",
       "19119                              Chicken Tikka Masala    \n",
       "\n",
       "                                             ingredients  sodium  num_dir  \\\n",
       "20121  [cooking spray, one 3 1/2-pound chicken, cut i...  1323.0        2   \n",
       "10630  [1 (3-lb) chicken, cut into 8 pieces, 1/4 teas...  1264.0        3   \n",
       "3782   [1 small onion, finely chopped, 8 garlic clove...     NaN        5   \n",
       "9583   [1 tablespoon soy sauce, 2 teaspoons chinese r...   371.0        4   \n",
       "15322  [2 to 3 chickens, whole or quartered, with the...     NaN       12   \n",
       "...                                                  ...     ...      ...   \n",
       "16776  [10 pounds chicken backs and necks, 15 pounds ...    35.0        1   \n",
       "4912   [1 cup pumpkin seeds, 1 cup vegetable stock or...     NaN        6   \n",
       "6624   [3 1/2 to 4 pound chicken, quartered, 4-6 tabl...     NaN        1   \n",
       "560    [1 red jalapeño or fresno chile with some seed...   538.0        1   \n",
       "19119  [1 1/2 pounds boneless, skinless chicken breas...   704.0        6   \n",
       "\n",
       "       num_ing  num_cat                                        title_words  \\\n",
       "20121       11        6  [crispy, salt, and, pepper, chicken, with, car...   \n",
       "10630       11        8             [chicken, with, tomatoes, and, prunes]   \n",
       "3782        19        9    [gochujang-braised, chicken, and, crispy, rice]   \n",
       "9583        17        9                               [kung, pao, chicken]   \n",
       "15322       19        6      [chicken, with, lemons, and, olives, emshmel]   \n",
       "...        ...      ...                                                ...   \n",
       "16776       10        7                                   [chicken, stock]   \n",
       "4912        17       12               [green, pipiân, mole, with, chicken]   \n",
       "6624         8        8                          [mexican, chicken, sauté]   \n",
       "560         16        0              [asian, chicken, and, cabbage, salad]   \n",
       "19119       22        0                           [chicken, tikka, masala]   \n",
       "\n",
       "                                             ing_cleaned  \n",
       "20121  [cooking spray, fennel bulbs trimmed slices, f...  \n",
       "10630  [black pepper, chicken, cinnamon, dry white wi...  \n",
       "3782   [chicken drumsticks patted dry, cooked shortgr...  \n",
       "9583   [boneless skinless chicken breasts thighs, chi...  \n",
       "15322  [bowl, casserole cover, chickens whole quarter...  \n",
       "...                                                  ...  \n",
       "16776  [bay leaf, celery, celery root, chicken backs ...  \n",
       "4912   [canola vegetable oil, clove garlic, cooked wh...  \n",
       "6624   [butter, chicken quartered, garlic clove, garn...  \n",
       "560    [baby spinach, carrots, dryroasted peanuts, fi...  \n",
       "19119  [boneless skinless chicken breasts, canned tom...  \n",
       "\n",
       "[1249 rows x 16 columns]"
      ]
     },
     "execution_count": 26,
     "metadata": {},
     "output_type": "execute_result"
    }
   ],
   "source": [
    "df[df.title.str.contains('Chicken',case=False)].sort_values('rating',ascending=False)"
   ]
  },
  {
   "cell_type": "code",
   "execution_count": 36,
   "id": "cdf23ec5",
   "metadata": {
    "hidden": true
   },
   "outputs": [
    {
     "data": {
      "text/plain": [
       "1220"
      ]
     },
     "execution_count": 36,
     "metadata": {},
     "output_type": "execute_result"
    }
   ],
   "source": [
    "# KEYWORDS MATCHING EXACTLY THE WORDS IN THE TITLE\n",
    "keywords=['Chicken','Eggplant','Zucchini']\n",
    "\n",
    "def test_keywords(word,list_):\n",
    "    if word.lower() in list_: return True\n",
    "    else: return False\n",
    "    \n",
    "df_sel = df[df.title_words.apply(lambda l: test_keywords(keywords[0],l))].copy()\n",
    "len(df_sel)"
   ]
  },
  {
   "cell_type": "markdown",
   "id": "0f963c0c",
   "metadata": {
    "heading_collapsed": true
   },
   "source": [
    "#### From categories"
   ]
  },
  {
   "cell_type": "code",
   "execution_count": 105,
   "id": "fcf68652",
   "metadata": {
    "hidden": true
   },
   "outputs": [
    {
     "data": {
      "text/plain": [
       "19380    [Smoothie, Blender, Berry, Citrus, Fruit, Brea...\n",
       "Name: categories, dtype: object"
      ]
     },
     "execution_count": 105,
     "metadata": {},
     "output_type": "execute_result"
    }
   ],
   "source": [
    "max_cat=max(df.num_cat)\n",
    "df[df.num_cat==max(df.num_cat)].categories"
   ]
  },
  {
   "cell_type": "code",
   "execution_count": 51,
   "id": "f5c900c3",
   "metadata": {
    "hidden": true
   },
   "outputs": [],
   "source": [
    "def cat_list_order(c,i):\n",
    "    if i<len(c): return c[i]\n",
    "    else: return ''"
   ]
  },
  {
   "cell_type": "code",
   "execution_count": 53,
   "id": "84abf4c4",
   "metadata": {
    "hidden": true,
    "scrolled": true
   },
   "outputs": [
    {
     "data": {
      "text/html": [
       "<div>\n",
       "<style scoped>\n",
       "    .dataframe tbody tr th:only-of-type {\n",
       "        vertical-align: middle;\n",
       "    }\n",
       "\n",
       "    .dataframe tbody tr th {\n",
       "        vertical-align: top;\n",
       "    }\n",
       "\n",
       "    .dataframe thead th {\n",
       "        text-align: right;\n",
       "    }\n",
       "</style>\n",
       "<table border=\"1\" class=\"dataframe\">\n",
       "  <thead>\n",
       "    <tr style=\"text-align: right;\">\n",
       "      <th></th>\n",
       "      <th>directions</th>\n",
       "      <th>fat</th>\n",
       "      <th>date</th>\n",
       "      <th>categories</th>\n",
       "      <th>calories</th>\n",
       "      <th>desc</th>\n",
       "      <th>protein</th>\n",
       "      <th>rating</th>\n",
       "      <th>title</th>\n",
       "      <th>ingredients</th>\n",
       "      <th>...</th>\n",
       "      <th>category_27</th>\n",
       "      <th>category_28</th>\n",
       "      <th>category_29</th>\n",
       "      <th>category_30</th>\n",
       "      <th>category_31</th>\n",
       "      <th>category_32</th>\n",
       "      <th>category_33</th>\n",
       "      <th>category_34</th>\n",
       "      <th>category_35</th>\n",
       "      <th>category_36</th>\n",
       "    </tr>\n",
       "  </thead>\n",
       "  <tbody>\n",
       "    <tr>\n",
       "      <th>0</th>\n",
       "      <td>[1. Place the stock, lentils, celery, carrot, ...</td>\n",
       "      <td>7.0</td>\n",
       "      <td>2006-09-01 04:00:00+00:00</td>\n",
       "      <td>[Sandwich, Bean, Fruit, Tomato, turkey, Vegeta...</td>\n",
       "      <td>426.0</td>\n",
       "      <td>None</td>\n",
       "      <td>30.0</td>\n",
       "      <td>2.500</td>\n",
       "      <td>Lentil, Apple, and Turkey Wrap</td>\n",
       "      <td>[4 cups low-sodium vegetable or chicken stock,...</td>\n",
       "      <td>...</td>\n",
       "      <td></td>\n",
       "      <td></td>\n",
       "      <td></td>\n",
       "      <td></td>\n",
       "      <td></td>\n",
       "      <td></td>\n",
       "      <td></td>\n",
       "      <td></td>\n",
       "      <td></td>\n",
       "      <td></td>\n",
       "    </tr>\n",
       "    <tr>\n",
       "      <th>1</th>\n",
       "      <td>[Combine first 9 ingredients in heavy medium s...</td>\n",
       "      <td>23.0</td>\n",
       "      <td>2004-08-20 04:00:00+00:00</td>\n",
       "      <td>[Food Processor, Onion, Pork, Bake, Bastille D...</td>\n",
       "      <td>403.0</td>\n",
       "      <td>This uses the same ingredients found in boudin...</td>\n",
       "      <td>18.0</td>\n",
       "      <td>4.375</td>\n",
       "      <td>Boudin Blanc Terrine with Red Onion Confit</td>\n",
       "      <td>[1 1/2 cups whipping cream, 2 medium onions, c...</td>\n",
       "      <td>...</td>\n",
       "      <td></td>\n",
       "      <td></td>\n",
       "      <td></td>\n",
       "      <td></td>\n",
       "      <td></td>\n",
       "      <td></td>\n",
       "      <td></td>\n",
       "      <td></td>\n",
       "      <td></td>\n",
       "      <td></td>\n",
       "    </tr>\n",
       "    <tr>\n",
       "      <th>2</th>\n",
       "      <td>[In a large heavy saucepan cook diced fennel a...</td>\n",
       "      <td>7.0</td>\n",
       "      <td>2004-08-20 04:00:00+00:00</td>\n",
       "      <td>[Soup/Stew, Dairy, Potato, Vegetable, Fennel, ...</td>\n",
       "      <td>165.0</td>\n",
       "      <td>None</td>\n",
       "      <td>6.0</td>\n",
       "      <td>3.750</td>\n",
       "      <td>Potato and Fennel Soup Hodge</td>\n",
       "      <td>[1 fennel bulb (sometimes called anise), stalk...</td>\n",
       "      <td>...</td>\n",
       "      <td></td>\n",
       "      <td></td>\n",
       "      <td></td>\n",
       "      <td></td>\n",
       "      <td></td>\n",
       "      <td></td>\n",
       "      <td></td>\n",
       "      <td></td>\n",
       "      <td></td>\n",
       "      <td></td>\n",
       "    </tr>\n",
       "    <tr>\n",
       "      <th>3</th>\n",
       "      <td>[Heat oil in heavy large skillet over medium-h...</td>\n",
       "      <td>NaN</td>\n",
       "      <td>2009-03-27 04:00:00+00:00</td>\n",
       "      <td>[Fish, Olive, Tomato, Sauté, Low Fat, Low Cal,...</td>\n",
       "      <td>NaN</td>\n",
       "      <td>The Sicilian-style tomato sauce has tons of Me...</td>\n",
       "      <td>NaN</td>\n",
       "      <td>5.000</td>\n",
       "      <td>Mahi-Mahi in Tomato Olive Sauce</td>\n",
       "      <td>[2 tablespoons extra-virgin olive oil, 1 cup c...</td>\n",
       "      <td>...</td>\n",
       "      <td></td>\n",
       "      <td></td>\n",
       "      <td></td>\n",
       "      <td></td>\n",
       "      <td></td>\n",
       "      <td></td>\n",
       "      <td></td>\n",
       "      <td></td>\n",
       "      <td></td>\n",
       "      <td></td>\n",
       "    </tr>\n",
       "    <tr>\n",
       "      <th>4</th>\n",
       "      <td>[Preheat oven to 350°F. Lightly grease 8x8x2-i...</td>\n",
       "      <td>32.0</td>\n",
       "      <td>2004-08-20 04:00:00+00:00</td>\n",
       "      <td>[Cheese, Dairy, Pasta, Vegetable, Side, Bake, ...</td>\n",
       "      <td>547.0</td>\n",
       "      <td>None</td>\n",
       "      <td>20.0</td>\n",
       "      <td>3.125</td>\n",
       "      <td>Spinach Noodle Casserole</td>\n",
       "      <td>[1 12-ounce package frozen spinach soufflé, th...</td>\n",
       "      <td>...</td>\n",
       "      <td></td>\n",
       "      <td></td>\n",
       "      <td></td>\n",
       "      <td></td>\n",
       "      <td></td>\n",
       "      <td></td>\n",
       "      <td></td>\n",
       "      <td></td>\n",
       "      <td></td>\n",
       "      <td></td>\n",
       "    </tr>\n",
       "    <tr>\n",
       "      <th>...</th>\n",
       "      <td>...</td>\n",
       "      <td>...</td>\n",
       "      <td>...</td>\n",
       "      <td>...</td>\n",
       "      <td>...</td>\n",
       "      <td>...</td>\n",
       "      <td>...</td>\n",
       "      <td>...</td>\n",
       "      <td>...</td>\n",
       "      <td>...</td>\n",
       "      <td>...</td>\n",
       "      <td>...</td>\n",
       "      <td>...</td>\n",
       "      <td>...</td>\n",
       "      <td>...</td>\n",
       "      <td>...</td>\n",
       "      <td>...</td>\n",
       "      <td>...</td>\n",
       "      <td>...</td>\n",
       "      <td>...</td>\n",
       "      <td>...</td>\n",
       "    </tr>\n",
       "    <tr>\n",
       "      <th>20125</th>\n",
       "      <td>[Beat whites in a bowl with an electric mixer ...</td>\n",
       "      <td>2.0</td>\n",
       "      <td>2004-08-20 04:00:00+00:00</td>\n",
       "      <td>[Mixer, Cheese, Egg, Fry, Cocktail Party, Parm...</td>\n",
       "      <td>28.0</td>\n",
       "      <td>None</td>\n",
       "      <td>2.0</td>\n",
       "      <td>3.125</td>\n",
       "      <td>Parmesan Puffs</td>\n",
       "      <td>[2 large egg whites, 3 oz parmigiano-reggiano,...</td>\n",
       "      <td>...</td>\n",
       "      <td></td>\n",
       "      <td></td>\n",
       "      <td></td>\n",
       "      <td></td>\n",
       "      <td></td>\n",
       "      <td></td>\n",
       "      <td></td>\n",
       "      <td></td>\n",
       "      <td></td>\n",
       "      <td></td>\n",
       "    </tr>\n",
       "    <tr>\n",
       "      <th>20126</th>\n",
       "      <td>[Bring broth to simmer in saucepan.Remove from...</td>\n",
       "      <td>28.0</td>\n",
       "      <td>2008-02-28 22:06:54+00:00</td>\n",
       "      <td>[Side, Kid-Friendly, High Fiber, Dinner, Parme...</td>\n",
       "      <td>671.0</td>\n",
       "      <td>Cooking the artichokes with the rice infuses t...</td>\n",
       "      <td>22.0</td>\n",
       "      <td>4.375</td>\n",
       "      <td>Artichoke and Parmesan Risotto</td>\n",
       "      <td>[5 1/2 cups (or more) low-salt chicken broth, ...</td>\n",
       "      <td>...</td>\n",
       "      <td></td>\n",
       "      <td></td>\n",
       "      <td></td>\n",
       "      <td></td>\n",
       "      <td></td>\n",
       "      <td></td>\n",
       "      <td></td>\n",
       "      <td></td>\n",
       "      <td></td>\n",
       "      <td></td>\n",
       "    </tr>\n",
       "    <tr>\n",
       "      <th>20127</th>\n",
       "      <td>[Using a sharp knife, cut a shallow X in botto...</td>\n",
       "      <td>38.0</td>\n",
       "      <td>2005-10-21 18:21:20+00:00</td>\n",
       "      <td>[Onion, Poultry, turkey, Vegetable, Bake, Kid-...</td>\n",
       "      <td>563.0</td>\n",
       "      <td>None</td>\n",
       "      <td>31.0</td>\n",
       "      <td>4.375</td>\n",
       "      <td>Turkey Cream Puff Pie</td>\n",
       "      <td>[1 small tomato, 1 small onion, finely chopped...</td>\n",
       "      <td>...</td>\n",
       "      <td></td>\n",
       "      <td></td>\n",
       "      <td></td>\n",
       "      <td></td>\n",
       "      <td></td>\n",
       "      <td></td>\n",
       "      <td></td>\n",
       "      <td></td>\n",
       "      <td></td>\n",
       "      <td></td>\n",
       "    </tr>\n",
       "    <tr>\n",
       "      <th>20128</th>\n",
       "      <td>[Heat 2 tablespoons oil in heavy medium skille...</td>\n",
       "      <td>24.0</td>\n",
       "      <td>2004-08-20 04:00:00+00:00</td>\n",
       "      <td>[Milk/Cream, Citrus, Dairy, Fish, Garlic, Past...</td>\n",
       "      <td>631.0</td>\n",
       "      <td>Sharon Hooykaas of Los Alamitos, California, w...</td>\n",
       "      <td>45.0</td>\n",
       "      <td>4.375</td>\n",
       "      <td>Snapper on Angel Hair with Citrus Cream</td>\n",
       "      <td>[4 tablespoons olive oil, 4 shallots, thinly s...</td>\n",
       "      <td>...</td>\n",
       "      <td></td>\n",
       "      <td></td>\n",
       "      <td></td>\n",
       "      <td></td>\n",
       "      <td></td>\n",
       "      <td></td>\n",
       "      <td></td>\n",
       "      <td></td>\n",
       "      <td></td>\n",
       "      <td></td>\n",
       "    </tr>\n",
       "    <tr>\n",
       "      <th>20129</th>\n",
       "      <td>[Position rack in bottom third of oven and pre...</td>\n",
       "      <td>10.0</td>\n",
       "      <td>2004-08-20 04:00:00+00:00</td>\n",
       "      <td>[Pork, Bake, Roast, Christmas, Ham, Winter, Bo...</td>\n",
       "      <td>560.0</td>\n",
       "      <td>Although labeled fully cooked, the ham will st...</td>\n",
       "      <td>73.0</td>\n",
       "      <td>4.375</td>\n",
       "      <td>Baked Ham with Marmalade-Horseradish Glaze</td>\n",
       "      <td>[1 18-pound fully cooked bone-in smoked ham, r...</td>\n",
       "      <td>...</td>\n",
       "      <td></td>\n",
       "      <td></td>\n",
       "      <td></td>\n",
       "      <td></td>\n",
       "      <td></td>\n",
       "      <td></td>\n",
       "      <td></td>\n",
       "      <td></td>\n",
       "      <td></td>\n",
       "      <td></td>\n",
       "    </tr>\n",
       "  </tbody>\n",
       "</table>\n",
       "<p>20111 rows × 53 columns</p>\n",
       "</div>"
      ],
      "text/plain": [
       "                                              directions   fat  \\\n",
       "0      [1. Place the stock, lentils, celery, carrot, ...   7.0   \n",
       "1      [Combine first 9 ingredients in heavy medium s...  23.0   \n",
       "2      [In a large heavy saucepan cook diced fennel a...   7.0   \n",
       "3      [Heat oil in heavy large skillet over medium-h...   NaN   \n",
       "4      [Preheat oven to 350°F. Lightly grease 8x8x2-i...  32.0   \n",
       "...                                                  ...   ...   \n",
       "20125  [Beat whites in a bowl with an electric mixer ...   2.0   \n",
       "20126  [Bring broth to simmer in saucepan.Remove from...  28.0   \n",
       "20127  [Using a sharp knife, cut a shallow X in botto...  38.0   \n",
       "20128  [Heat 2 tablespoons oil in heavy medium skille...  24.0   \n",
       "20129  [Position rack in bottom third of oven and pre...  10.0   \n",
       "\n",
       "                           date  \\\n",
       "0     2006-09-01 04:00:00+00:00   \n",
       "1     2004-08-20 04:00:00+00:00   \n",
       "2     2004-08-20 04:00:00+00:00   \n",
       "3     2009-03-27 04:00:00+00:00   \n",
       "4     2004-08-20 04:00:00+00:00   \n",
       "...                         ...   \n",
       "20125 2004-08-20 04:00:00+00:00   \n",
       "20126 2008-02-28 22:06:54+00:00   \n",
       "20127 2005-10-21 18:21:20+00:00   \n",
       "20128 2004-08-20 04:00:00+00:00   \n",
       "20129 2004-08-20 04:00:00+00:00   \n",
       "\n",
       "                                              categories  calories  \\\n",
       "0      [Sandwich, Bean, Fruit, Tomato, turkey, Vegeta...     426.0   \n",
       "1      [Food Processor, Onion, Pork, Bake, Bastille D...     403.0   \n",
       "2      [Soup/Stew, Dairy, Potato, Vegetable, Fennel, ...     165.0   \n",
       "3      [Fish, Olive, Tomato, Sauté, Low Fat, Low Cal,...       NaN   \n",
       "4      [Cheese, Dairy, Pasta, Vegetable, Side, Bake, ...     547.0   \n",
       "...                                                  ...       ...   \n",
       "20125  [Mixer, Cheese, Egg, Fry, Cocktail Party, Parm...      28.0   \n",
       "20126  [Side, Kid-Friendly, High Fiber, Dinner, Parme...     671.0   \n",
       "20127  [Onion, Poultry, turkey, Vegetable, Bake, Kid-...     563.0   \n",
       "20128  [Milk/Cream, Citrus, Dairy, Fish, Garlic, Past...     631.0   \n",
       "20129  [Pork, Bake, Roast, Christmas, Ham, Winter, Bo...     560.0   \n",
       "\n",
       "                                                    desc  protein  rating  \\\n",
       "0                                                   None     30.0   2.500   \n",
       "1      This uses the same ingredients found in boudin...     18.0   4.375   \n",
       "2                                                   None      6.0   3.750   \n",
       "3      The Sicilian-style tomato sauce has tons of Me...      NaN   5.000   \n",
       "4                                                   None     20.0   3.125   \n",
       "...                                                  ...      ...     ...   \n",
       "20125                                               None      2.0   3.125   \n",
       "20126  Cooking the artichokes with the rice infuses t...     22.0   4.375   \n",
       "20127                                               None     31.0   4.375   \n",
       "20128  Sharon Hooykaas of Los Alamitos, California, w...     45.0   4.375   \n",
       "20129  Although labeled fully cooked, the ham will st...     73.0   4.375   \n",
       "\n",
       "                                             title  \\\n",
       "0                  Lentil, Apple, and Turkey Wrap    \n",
       "1      Boudin Blanc Terrine with Red Onion Confit    \n",
       "2                    Potato and Fennel Soup Hodge    \n",
       "3                 Mahi-Mahi in Tomato Olive Sauce    \n",
       "4                        Spinach Noodle Casserole    \n",
       "...                                            ...   \n",
       "20125                              Parmesan Puffs    \n",
       "20126              Artichoke and Parmesan Risotto    \n",
       "20127                       Turkey Cream Puff Pie    \n",
       "20128     Snapper on Angel Hair with Citrus Cream    \n",
       "20129  Baked Ham with Marmalade-Horseradish Glaze    \n",
       "\n",
       "                                             ingredients  ...  category_27  \\\n",
       "0      [4 cups low-sodium vegetable or chicken stock,...  ...                \n",
       "1      [1 1/2 cups whipping cream, 2 medium onions, c...  ...                \n",
       "2      [1 fennel bulb (sometimes called anise), stalk...  ...                \n",
       "3      [2 tablespoons extra-virgin olive oil, 1 cup c...  ...                \n",
       "4      [1 12-ounce package frozen spinach soufflé, th...  ...                \n",
       "...                                                  ...  ...          ...   \n",
       "20125  [2 large egg whites, 3 oz parmigiano-reggiano,...  ...                \n",
       "20126  [5 1/2 cups (or more) low-salt chicken broth, ...  ...                \n",
       "20127  [1 small tomato, 1 small onion, finely chopped...  ...                \n",
       "20128  [4 tablespoons olive oil, 4 shallots, thinly s...  ...                \n",
       "20129  [1 18-pound fully cooked bone-in smoked ham, r...  ...                \n",
       "\n",
       "       category_28  category_29  category_30 category_31 category_32  \\\n",
       "0                                                                      \n",
       "1                                                                      \n",
       "2                                                                      \n",
       "3                                                                      \n",
       "4                                                                      \n",
       "...            ...          ...          ...         ...         ...   \n",
       "20125                                                                  \n",
       "20126                                                                  \n",
       "20127                                                                  \n",
       "20128                                                                  \n",
       "20129                                                                  \n",
       "\n",
       "      category_33 category_34 category_35 category_36  \n",
       "0                                                      \n",
       "1                                                      \n",
       "2                                                      \n",
       "3                                                      \n",
       "4                                                      \n",
       "...           ...         ...         ...         ...  \n",
       "20125                                                  \n",
       "20126                                                  \n",
       "20127                                                  \n",
       "20128                                                  \n",
       "20129                                                  \n",
       "\n",
       "[20111 rows x 53 columns]"
      ]
     },
     "execution_count": 53,
     "metadata": {},
     "output_type": "execute_result"
    }
   ],
   "source": [
    "df_test=df.copy()\n",
    "for i in range(max(df_test.num_cat)):\n",
    "    df_test['category_%i'%i]= df_test.categories.apply(lambda c: cat_list_order(c,i))\n",
    "df_test"
   ]
  },
  {
   "cell_type": "code",
   "execution_count": 120,
   "id": "0e522f4b",
   "metadata": {
    "hidden": true
   },
   "outputs": [],
   "source": [
    "## CATEGORIES\n",
    "\n",
    "df_test=df.copy()\n",
    "for cat in unique_cat:\n",
    "    df_test['category_'+cat]=0"
   ]
  },
  {
   "cell_type": "code",
   "execution_count": 121,
   "id": "506eb6ba",
   "metadata": {
    "hidden": true
   },
   "outputs": [
    {
     "data": {
      "text/plain": [
       "datetime.timedelta(seconds=70, microseconds=783317)"
      ]
     },
     "execution_count": 121,
     "metadata": {},
     "output_type": "execute_result"
    }
   ],
   "source": [
    "first_time = datetime.datetime.now()\n",
    "\n",
    "for ind in df_test.index:\n",
    "    for c in df_test.loc[ind]['categories']:\n",
    "        new_cat = 'category_'+c\n",
    "        df_test.loc[ind,new_cat]=1\n",
    "        \n",
    "        \n",
    "later_time = datetime.datetime.now()\n",
    "later_time - first_time"
   ]
  },
  {
   "cell_type": "markdown",
   "id": "c26cad9b",
   "metadata": {
    "heading_collapsed": true,
    "scrolled": true
   },
   "source": [
    "#### Keyword search"
   ]
  },
  {
   "cell_type": "code",
   "execution_count": 6,
   "id": "5c9ec3c0",
   "metadata": {
    "hidden": true
   },
   "outputs": [],
   "source": [
    "# KEYWORDS MATCHING \n",
    "keywords=['Chicken','Eggplant','Zucchini']"
   ]
  },
  {
   "cell_type": "code",
   "execution_count": 70,
   "id": "b4690d12",
   "metadata": {
    "hidden": true
   },
   "outputs": [
    {
     "name": "stdout",
     "output_type": "stream",
     "text": [
      "Recipies that have one of those ingredients\n",
      "Chicken 1249\n",
      "Eggplant 178\n",
      "Zucchini 171\n"
     ]
    }
   ],
   "source": [
    "# FROM FIND IN TITLE\n",
    "\n",
    "def test_title(word,title):\n",
    "    word=word.lower()\n",
    "    title=title.lower()\n",
    "    if title.find(word)>=0: return True\n",
    "    else: return False\n",
    "\n",
    "print('Recipies that have one of those ingredients')\n",
    "for kw in keywords:\n",
    "    df_sel = df[df.title.apply(lambda l: test_title(kw,l))]\n",
    "    print(kw,len(df_sel))   "
   ]
  },
  {
   "cell_type": "code",
   "execution_count": 71,
   "id": "864baee1",
   "metadata": {
    "hidden": true
   },
   "outputs": [
    {
     "name": "stdout",
     "output_type": "stream",
     "text": [
      "Eggplant 178\n",
      "Zucchini 4\n",
      "Chicken 0\n"
     ]
    },
    {
     "data": {
      "text/html": [
       "<div>\n",
       "<style scoped>\n",
       "    .dataframe tbody tr th:only-of-type {\n",
       "        vertical-align: middle;\n",
       "    }\n",
       "\n",
       "    .dataframe tbody tr th {\n",
       "        vertical-align: top;\n",
       "    }\n",
       "\n",
       "    .dataframe thead th {\n",
       "        text-align: right;\n",
       "    }\n",
       "</style>\n",
       "<table border=\"1\" class=\"dataframe\">\n",
       "  <thead>\n",
       "    <tr style=\"text-align: right;\">\n",
       "      <th></th>\n",
       "      <th>directions</th>\n",
       "      <th>fat</th>\n",
       "      <th>date</th>\n",
       "      <th>categories</th>\n",
       "      <th>calories</th>\n",
       "      <th>desc</th>\n",
       "      <th>protein</th>\n",
       "      <th>rating</th>\n",
       "      <th>title</th>\n",
       "      <th>ingredients</th>\n",
       "      <th>sodium</th>\n",
       "      <th>num_dir</th>\n",
       "      <th>num_ing</th>\n",
       "      <th>num_cat</th>\n",
       "      <th>title_words</th>\n",
       "      <th>ing_cleaned</th>\n",
       "      <th>ing_cleaned_all</th>\n",
       "    </tr>\n",
       "  </thead>\n",
       "  <tbody>\n",
       "  </tbody>\n",
       "</table>\n",
       "</div>"
      ],
      "text/plain": [
       "Empty DataFrame\n",
       "Columns: [directions, fat, date, categories, calories, desc, protein, rating, title, ingredients, sodium, num_dir, num_ing, num_cat, title_words, ing_cleaned, ing_cleaned_all]\n",
       "Index: []"
      ]
     },
     "execution_count": 71,
     "metadata": {},
     "output_type": "execute_result"
    }
   ],
   "source": [
    "keywords=['Eggplant','Zucchini','Chicken']\n",
    "df_sel=df.copy()\n",
    "for kw in keywords:\n",
    "    df_sel = df_sel[df_sel.title.apply(lambda l: test_title(kw,l))]\n",
    "    print(kw,len(df_sel)) \n",
    "df_sel"
   ]
  },
  {
   "cell_type": "code",
   "execution_count": 7,
   "id": "6d8a9800",
   "metadata": {
    "hidden": true
   },
   "outputs": [],
   "source": [
    "# FROM MATCHING STRINGS\n",
    "def match_string(keywords,title,how='any'):\n",
    "    found=0\n",
    "    for pattern in keywords:\n",
    "        if re.search(pattern,title, re.IGNORECASE): \n",
    "            if how=='any': return True\n",
    "            if how=='all': found+=1\n",
    "    if found==len(keywords): return True\n",
    "    else: return False\n",
    "    "
   ]
  },
  {
   "cell_type": "code",
   "execution_count": 73,
   "id": "55bbe67e",
   "metadata": {
    "hidden": true
   },
   "outputs": [
    {
     "data": {
      "text/plain": [
       "1586"
      ]
     },
     "execution_count": 73,
     "metadata": {},
     "output_type": "execute_result"
    }
   ],
   "source": [
    "# TITLE ANY\n",
    "keywords=['Chicken','Eggplant','Zucchini']\n",
    "mask = df.title.apply(lambda t: match_string(keywords,t,'any'))\n",
    "len(df[mask])"
   ]
  },
  {
   "cell_type": "code",
   "execution_count": 74,
   "id": "f280c513",
   "metadata": {
    "hidden": true,
    "scrolled": true
   },
   "outputs": [
    {
     "data": {
      "text/plain": [
       "0"
      ]
     },
     "execution_count": 74,
     "metadata": {},
     "output_type": "execute_result"
    }
   ],
   "source": [
    "# TITLE ALL\n",
    "keywords=['Chicken','Eggplant','Zucchini']\n",
    "mask = df.title.apply(lambda t: match_string(keywords,t,'all'))\n",
    "len(df[mask])"
   ]
  },
  {
   "cell_type": "code",
   "execution_count": 19,
   "id": "43c8f2a0",
   "metadata": {
    "hidden": true,
    "scrolled": true
   },
   "outputs": [
    {
     "data": {
      "text/html": [
       "<div>\n",
       "<style scoped>\n",
       "    .dataframe tbody tr th:only-of-type {\n",
       "        vertical-align: middle;\n",
       "    }\n",
       "\n",
       "    .dataframe tbody tr th {\n",
       "        vertical-align: top;\n",
       "    }\n",
       "\n",
       "    .dataframe thead th {\n",
       "        text-align: right;\n",
       "    }\n",
       "</style>\n",
       "<table border=\"1\" class=\"dataframe\">\n",
       "  <thead>\n",
       "    <tr style=\"text-align: right;\">\n",
       "      <th></th>\n",
       "      <th>directions</th>\n",
       "      <th>fat</th>\n",
       "      <th>date</th>\n",
       "      <th>categories</th>\n",
       "      <th>calories</th>\n",
       "      <th>desc</th>\n",
       "      <th>protein</th>\n",
       "      <th>rating</th>\n",
       "      <th>title</th>\n",
       "      <th>ingredients</th>\n",
       "      <th>...</th>\n",
       "      <th>num_ing</th>\n",
       "      <th>num_cat</th>\n",
       "      <th>title_words</th>\n",
       "      <th>ing_cleaned</th>\n",
       "      <th>ing_cleaned_all</th>\n",
       "      <th>ing_index</th>\n",
       "      <th>ing_assoc</th>\n",
       "      <th>ing_assoc_index</th>\n",
       "      <th>ing_assoc_list</th>\n",
       "      <th>ing_assoc_index_list</th>\n",
       "    </tr>\n",
       "  </thead>\n",
       "  <tbody>\n",
       "    <tr>\n",
       "      <th>2983</th>\n",
       "      <td>[Prepare barbecue (high heat). Combine first 5...</td>\n",
       "      <td>NaN</td>\n",
       "      <td>2004-08-20 04:00:00</td>\n",
       "      <td>[Salad, Chicken, Poultry, Low Fat, Eggplant, A...</td>\n",
       "      <td>NaN</td>\n",
       "      <td>None</td>\n",
       "      <td>NaN</td>\n",
       "      <td>5.000</td>\n",
       "      <td>Grilled Chicken Salad Provencal</td>\n",
       "      <td>[1 tablespoon olive oil, 1 tablespoon canned u...</td>\n",
       "      <td>...</td>\n",
       "      <td>14</td>\n",
       "      <td>11</td>\n",
       "      <td>[grilled, chicken, salad, provencal]</td>\n",
       "      <td>[additional balsamic vinegar red wine vinegar,...</td>\n",
       "      <td>additional balsamic vinegar red wine vinegar b...</td>\n",
       "      <td>[13464, 547, 6619, 1756, 740, 13465, 4314, 162...</td>\n",
       "      <td>[[vinegar, wine, wine vinegar, red wine, red, ...</td>\n",
       "      <td>[[17, 74, 85, 95, 145, 166, 180], [17, 74, 85,...</td>\n",
       "      <td>[arugula, balsamic vinegar, basil, bell pepper...</td>\n",
       "      <td>[1, 3, 7, 8, 15, 17, 23, 46, 47, 52, 53, 54, 5...</td>\n",
       "    </tr>\n",
       "    <tr>\n",
       "      <th>12592</th>\n",
       "      <td>[Put oven racks in upper and lower thirds of o...</td>\n",
       "      <td>19.0</td>\n",
       "      <td>2006-08-21 17:14:11</td>\n",
       "      <td>[Herb, Olive, Onion, Tomato, Vegetable, Side, ...</td>\n",
       "      <td>311.0</td>\n",
       "      <td>The deep flavors in this lush and hearty dish ...</td>\n",
       "      <td>7.0</td>\n",
       "      <td>5.000</td>\n",
       "      <td>Mediterranean Eggplant and Barley Salad</td>\n",
       "      <td>[1 1/2 pound eggplant, cut into 1/2-inch cubes...</td>\n",
       "      <td>...</td>\n",
       "      <td>21</td>\n",
       "      <td>17</td>\n",
       "      <td>[mediterranean, eggplant, and, barley, salad]</td>\n",
       "      <td>[accompaniment ricotta salata cut crosswise in...</td>\n",
       "      <td>accompaniment ricotta salata cut crosswise int...</td>\n",
       "      <td>[24874, 22, 109, 991, 286, 11, 110, 8, 72, 3, ...</td>\n",
       "      <td>[[ricotta, crosswise, accompaniment, ricotta s...</td>\n",
       "      <td>[[245, 339, 915, 1924], [1, 10], [58], [16, 26...</td>\n",
       "      <td>[accompaniment, barley, black olive, black pep...</td>\n",
       "      <td>[0, 1, 3, 4, 6, 7, 8, 10, 14, 15, 16, 19, 21, ...</td>\n",
       "    </tr>\n",
       "    <tr>\n",
       "      <th>14697</th>\n",
       "      <td>[Combine first 7 ingredients in large glass ba...</td>\n",
       "      <td>NaN</td>\n",
       "      <td>2004-08-20 04:00:00</td>\n",
       "      <td>[Chicken, Poultry, Marinate, Eggplant, Bell Pe...</td>\n",
       "      <td>NaN</td>\n",
       "      <td>A marinade of balsamic vinegar, olive oil, hon...</td>\n",
       "      <td>NaN</td>\n",
       "      <td>4.375</td>\n",
       "      <td>Grilled Chicken and Vegetables with Wild Rice</td>\n",
       "      <td>[1 1/2 cups balsamic vinegar, 1/2 cup olive oi...</td>\n",
       "      <td>...</td>\n",
       "      <td>15</td>\n",
       "      <td>10</td>\n",
       "      <td>[grilled, chicken, and, vegetables, with, wild...</td>\n",
       "      <td>[additional fresh oregano, additional fresh sa...</td>\n",
       "      <td>additional fresh oregano additional fresh sage...</td>\n",
       "      <td>[27337, 9665, 52, 716, 1211, 93, 24, 29, 27338...</td>\n",
       "      <td>[[oregano, fresh, fresh oregano], [sage, fresh...</td>\n",
       "      <td>[[43, 1067, 2095], [294, 1067, 3070], [17, 166...</td>\n",
       "      <td>[allspice, balsamic vinegar, bell pepper, bone...</td>\n",
       "      <td>[1, 6, 7, 8, 15, 17, 43, 49, 53, 57, 72, 87, 8...</td>\n",
       "    </tr>\n",
       "    <tr>\n",
       "      <th>16541</th>\n",
       "      <td>[1. Grease the slow cooker with cooking spray....</td>\n",
       "      <td>26.0</td>\n",
       "      <td>2013-03-01 04:00:00</td>\n",
       "      <td>[Slow Cooker, Tomato, Vegetarian, Dinner, Goat...</td>\n",
       "      <td>550.0</td>\n",
       "      <td>Parmigiano-Reggiano adds salty, nutty richness...</td>\n",
       "      <td>18.0</td>\n",
       "      <td>3.750</td>\n",
       "      <td>Slow-Cooked Ratatouille Over Goat Cheese Polenta</td>\n",
       "      <td>[cooking spray, 2 large eggplants, peeled and ...</td>\n",
       "      <td>...</td>\n",
       "      <td>21</td>\n",
       "      <td>19</td>\n",
       "      <td>[slow-cooked, ratatouille, over, goat, cheese,...</td>\n",
       "      <td>[all purpose flour, cooking spray, eggplant, f...</td>\n",
       "      <td>all purpose flour cooking spray eggplant fresh...</td>\n",
       "      <td>[6, 1079, 286, 136, 846, 166, 33, 9864, 9864, ...</td>\n",
       "      <td>[[flour], [cooking spray], [eggplant], [basil,...</td>\n",
       "      <td>[[5], [163], [433], [54, 197, 1007, 1067, 2269...</td>\n",
       "      <td>[basil, basil leaves, bell pepper, black peppe...</td>\n",
       "      <td>[0, 1, 2, 3, 5, 6, 10, 12, 15, 16, 28, 52, 54,...</td>\n",
       "    </tr>\n",
       "    <tr>\n",
       "      <th>18453</th>\n",
       "      <td>[Heat oil in heavy large pot or Dutch oven ove...</td>\n",
       "      <td>NaN</td>\n",
       "      <td>2004-08-20 04:00:00</td>\n",
       "      <td>[Cheese, Herb, Vegetable, Low Fat, Quick &amp; Eas...</td>\n",
       "      <td>NaN</td>\n",
       "      <td>Warm pita bread would make a delicious accompa...</td>\n",
       "      <td>NaN</td>\n",
       "      <td>3.125</td>\n",
       "      <td>Couscous à la Greque</td>\n",
       "      <td>[1 tablespoon olive oil, 1 red onion, chopped,...</td>\n",
       "      <td>...</td>\n",
       "      <td>14</td>\n",
       "      <td>11</td>\n",
       "      <td>[couscous, à, la, greque]</td>\n",
       "      <td>[canned unsalted chicken broth, couscous, drie...</td>\n",
       "      <td>canned unsalted chicken broth couscous dried o...</td>\n",
       "      <td>[740, 394, 219, 140, 1177, 72, 1396, 3, 5778, ...</td>\n",
       "      <td>[[chicken, chicken broth, broth], [couscous], ...</td>\n",
       "      <td>[[15, 47, 201], [628], [43, 128], [52, 174], [...</td>\n",
       "      <td>[artichoke, artichoke heart, bell pepper, brot...</td>\n",
       "      <td>[1, 3, 6, 7, 8, 12, 15, 16, 23, 43, 46, 47, 52...</td>\n",
       "    </tr>\n",
       "    <tr>\n",
       "      <th>19589</th>\n",
       "      <td>[Brush zucchini, eggplants, tomatoes, and pepp...</td>\n",
       "      <td>NaN</td>\n",
       "      <td>2005-07-05 22:27:30</td>\n",
       "      <td>[Tomato, Appetizer, Sauté, Low Fat, Vegetarian...</td>\n",
       "      <td>NaN</td>\n",
       "      <td>Head north of Sunset, and you will happen upon...</td>\n",
       "      <td>NaN</td>\n",
       "      <td>3.750</td>\n",
       "      <td>Grilled Vegetable Flatbreads Stuffed with Zucc...</td>\n",
       "      <td>[2 zucchini, cut into 1/3-inch slices, 2 eggpl...</td>\n",
       "      <td>...</td>\n",
       "      <td>14</td>\n",
       "      <td>19</td>\n",
       "      <td>[grilled, vegetable, flatbreads, stuffed, with...</td>\n",
       "      <td>[beefsteak heirloom tomato slice, eggplant sli...</td>\n",
       "      <td>beefsteak heirloom tomato slice eggplant slice...</td>\n",
       "      <td>[33201, 33202, 11, 33203, 50, 69, 33204, 2, 7,...</td>\n",
       "      <td>[[tomato, heirloom tomato], [eggplant], [olive...</td>\n",
       "      <td>[[16, 1914], [433], [7, 8, 53, 69, 70], [2301,...</td>\n",
       "      <td>[bean, bell pepper, broth, chicken, chicken br...</td>\n",
       "      <td>[1, 6, 7, 8, 14, 15, 16, 21, 31, 47, 52, 53, 5...</td>\n",
       "    </tr>\n",
       "  </tbody>\n",
       "</table>\n",
       "<p>6 rows × 22 columns</p>\n",
       "</div>"
      ],
      "text/plain": [
       "                                              directions   fat  \\\n",
       "2983   [Prepare barbecue (high heat). Combine first 5...   NaN   \n",
       "12592  [Put oven racks in upper and lower thirds of o...  19.0   \n",
       "14697  [Combine first 7 ingredients in large glass ba...   NaN   \n",
       "16541  [1. Grease the slow cooker with cooking spray....  26.0   \n",
       "18453  [Heat oil in heavy large pot or Dutch oven ove...   NaN   \n",
       "19589  [Brush zucchini, eggplants, tomatoes, and pepp...   NaN   \n",
       "\n",
       "                     date                                         categories  \\\n",
       "2983  2004-08-20 04:00:00  [Salad, Chicken, Poultry, Low Fat, Eggplant, A...   \n",
       "12592 2006-08-21 17:14:11  [Herb, Olive, Onion, Tomato, Vegetable, Side, ...   \n",
       "14697 2004-08-20 04:00:00  [Chicken, Poultry, Marinate, Eggplant, Bell Pe...   \n",
       "16541 2013-03-01 04:00:00  [Slow Cooker, Tomato, Vegetarian, Dinner, Goat...   \n",
       "18453 2004-08-20 04:00:00  [Cheese, Herb, Vegetable, Low Fat, Quick & Eas...   \n",
       "19589 2005-07-05 22:27:30  [Tomato, Appetizer, Sauté, Low Fat, Vegetarian...   \n",
       "\n",
       "       calories                                               desc  protein  \\\n",
       "2983        NaN                                               None      NaN   \n",
       "12592     311.0  The deep flavors in this lush and hearty dish ...      7.0   \n",
       "14697       NaN  A marinade of balsamic vinegar, olive oil, hon...      NaN   \n",
       "16541     550.0  Parmigiano-Reggiano adds salty, nutty richness...     18.0   \n",
       "18453       NaN  Warm pita bread would make a delicious accompa...      NaN   \n",
       "19589       NaN  Head north of Sunset, and you will happen upon...      NaN   \n",
       "\n",
       "       rating                                              title  \\\n",
       "2983    5.000                    Grilled Chicken Salad Provencal   \n",
       "12592   5.000            Mediterranean Eggplant and Barley Salad   \n",
       "14697   4.375      Grilled Chicken and Vegetables with Wild Rice   \n",
       "16541   3.750   Slow-Cooked Ratatouille Over Goat Cheese Polenta   \n",
       "18453   3.125                               Couscous à la Greque   \n",
       "19589   3.750  Grilled Vegetable Flatbreads Stuffed with Zucc...   \n",
       "\n",
       "                                             ingredients  ...  num_ing  \\\n",
       "2983   [1 tablespoon olive oil, 1 tablespoon canned u...  ...       14   \n",
       "12592  [1 1/2 pound eggplant, cut into 1/2-inch cubes...  ...       21   \n",
       "14697  [1 1/2 cups balsamic vinegar, 1/2 cup olive oi...  ...       15   \n",
       "16541  [cooking spray, 2 large eggplants, peeled and ...  ...       21   \n",
       "18453  [1 tablespoon olive oil, 1 red onion, chopped,...  ...       14   \n",
       "19589  [2 zucchini, cut into 1/3-inch slices, 2 eggpl...  ...       14   \n",
       "\n",
       "       num_cat                                        title_words  \\\n",
       "2983        11               [grilled, chicken, salad, provencal]   \n",
       "12592       17      [mediterranean, eggplant, and, barley, salad]   \n",
       "14697       10  [grilled, chicken, and, vegetables, with, wild...   \n",
       "16541       19  [slow-cooked, ratatouille, over, goat, cheese,...   \n",
       "18453       11                          [couscous, à, la, greque]   \n",
       "19589       19  [grilled, vegetable, flatbreads, stuffed, with...   \n",
       "\n",
       "                                             ing_cleaned  \\\n",
       "2983   [additional balsamic vinegar red wine vinegar,...   \n",
       "12592  [accompaniment ricotta salata cut crosswise in...   \n",
       "14697  [additional fresh oregano, additional fresh sa...   \n",
       "16541  [all purpose flour, cooking spray, eggplant, f...   \n",
       "18453  [canned unsalted chicken broth, couscous, drie...   \n",
       "19589  [beefsteak heirloom tomato slice, eggplant sli...   \n",
       "\n",
       "                                         ing_cleaned_all  \\\n",
       "2983   additional balsamic vinegar red wine vinegar b...   \n",
       "12592  accompaniment ricotta salata cut crosswise int...   \n",
       "14697  additional fresh oregano additional fresh sage...   \n",
       "16541  all purpose flour cooking spray eggplant fresh...   \n",
       "18453  canned unsalted chicken broth couscous dried o...   \n",
       "19589  beefsteak heirloom tomato slice eggplant slice...   \n",
       "\n",
       "                                               ing_index  \\\n",
       "2983   [13464, 547, 6619, 1756, 740, 13465, 4314, 162...   \n",
       "12592  [24874, 22, 109, 991, 286, 11, 110, 8, 72, 3, ...   \n",
       "14697  [27337, 9665, 52, 716, 1211, 93, 24, 29, 27338...   \n",
       "16541  [6, 1079, 286, 136, 846, 166, 33, 9864, 9864, ...   \n",
       "18453  [740, 394, 219, 140, 1177, 72, 1396, 3, 5778, ...   \n",
       "19589  [33201, 33202, 11, 33203, 50, 69, 33204, 2, 7,...   \n",
       "\n",
       "                                               ing_assoc  \\\n",
       "2983   [[vinegar, wine, wine vinegar, red wine, red, ...   \n",
       "12592  [[ricotta, crosswise, accompaniment, ricotta s...   \n",
       "14697  [[oregano, fresh, fresh oregano], [sage, fresh...   \n",
       "16541  [[flour], [cooking spray], [eggplant], [basil,...   \n",
       "18453  [[chicken, chicken broth, broth], [couscous], ...   \n",
       "19589  [[tomato, heirloom tomato], [eggplant], [olive...   \n",
       "\n",
       "                                         ing_assoc_index  \\\n",
       "2983   [[17, 74, 85, 95, 145, 166, 180], [17, 74, 85,...   \n",
       "12592  [[245, 339, 915, 1924], [1, 10], [58], [16, 26...   \n",
       "14697  [[43, 1067, 2095], [294, 1067, 3070], [17, 166...   \n",
       "16541  [[5], [163], [433], [54, 197, 1007, 1067, 2269...   \n",
       "18453  [[15, 47, 201], [628], [43, 128], [52, 174], [...   \n",
       "19589  [[16, 1914], [433], [7, 8, 53, 69, 70], [2301,...   \n",
       "\n",
       "                                          ing_assoc_list  \\\n",
       "2983   [arugula, balsamic vinegar, basil, bell pepper...   \n",
       "12592  [accompaniment, barley, black olive, black pep...   \n",
       "14697  [allspice, balsamic vinegar, bell pepper, bone...   \n",
       "16541  [basil, basil leaves, bell pepper, black peppe...   \n",
       "18453  [artichoke, artichoke heart, bell pepper, brot...   \n",
       "19589  [bean, bell pepper, broth, chicken, chicken br...   \n",
       "\n",
       "                                    ing_assoc_index_list  \n",
       "2983   [1, 3, 7, 8, 15, 17, 23, 46, 47, 52, 53, 54, 5...  \n",
       "12592  [0, 1, 3, 4, 6, 7, 8, 10, 14, 15, 16, 19, 21, ...  \n",
       "14697  [1, 6, 7, 8, 15, 17, 43, 49, 53, 57, 72, 87, 8...  \n",
       "16541  [0, 1, 2, 3, 5, 6, 10, 12, 15, 16, 28, 52, 54,...  \n",
       "18453  [1, 3, 6, 7, 8, 12, 15, 16, 23, 43, 46, 47, 52...  \n",
       "19589  [1, 6, 7, 8, 14, 15, 16, 21, 31, 47, 52, 53, 5...  \n",
       "\n",
       "[6 rows x 22 columns]"
      ]
     },
     "execution_count": 19,
     "metadata": {},
     "output_type": "execute_result"
    }
   ],
   "source": [
    "# FROM MATCHING INGREDIENTS\n",
    "keywords=['Chicken','Eggplant','Zucchini']\n",
    "mask = df.ing_cleaned_all.apply(lambda t: match_string(keywords,t,'all'))\n",
    "df[mask]"
   ]
  },
  {
   "cell_type": "code",
   "execution_count": 20,
   "id": "c3cd731f",
   "metadata": {
    "hidden": true,
    "scrolled": true
   },
   "outputs": [
    {
     "name": "stdout",
     "output_type": "stream",
     "text": [
      "['Grilled Chicken Salad Provencal', 'Mediterranean Eggplant and Barley Salad', 'Grilled Chicken and Vegetables with Wild Rice', 'Slow-Cooked Ratatouille Over Goat Cheese Polenta', 'Couscous à la Greque', 'Grilled Vegetable Flatbreads Stuffed with Zucchini, Eggplant, and Tomato']\n"
     ]
    }
   ],
   "source": [
    "print(list(df[mask].title))"
   ]
  },
  {
   "cell_type": "code",
   "execution_count": 10,
   "id": "57f5e422",
   "metadata": {
    "hidden": true,
    "scrolled": true
   },
   "outputs": [
    {
     "name": "stdout",
     "output_type": "stream",
     "text": [
      "Grilled Chicken Salad Provencal\n",
      "    You will also need: \n",
      "    additional balsamic vinegar red wine vinegar\n",
      "    balsamic vinegar red wine vinegar\n",
      "    boneless skinless chicken breast trimmed\n",
      "    bunch arugula\n",
      "    canned unsalted chicken broth\n",
      "    crookneck squash quartered lengthwise\n",
      "    curly endive\n",
      "    garlic clove pressed\n",
      "    herbes de provence crumbled\n",
      "    herbes de provence dried herb mixture is available at specialty food store some supermarket combination dried thyme basil savor fennel seed be used\n",
      "    japanese eggplant quartered lengthwise\n",
      "    olive oil\n",
      "    red green bell pepper lengthwise\n",
      "    zucchini quartered lengthwise\n",
      "\n"
     ]
    }
   ],
   "source": [
    "for ind in df[mask].index[:1]:\n",
    "    print(df.loc[ind,'title'])\n",
    "    print('    You will also need: \\n    '+'\\n    '.join(df.loc[ind,'ing_cleaned'])+'\\n')"
   ]
  },
  {
   "cell_type": "code",
   "execution_count": 21,
   "id": "8d08df44",
   "metadata": {
    "hidden": true
   },
   "outputs": [
    {
     "data": {
      "text/plain": [
       "[{'title': 'Grilled Chicken Salad Provencal'},\n",
       " {'title': 'Mediterranean Eggplant and Barley Salad'},\n",
       " {'title': 'Grilled Chicken and Vegetables with Wild Rice'},\n",
       " {'title': 'Slow-Cooked Ratatouille Over Goat Cheese Polenta'},\n",
       " {'title': 'Couscous à la Greque'},\n",
       " {'title': 'Grilled Vegetable Flatbreads Stuffed with Zucchini, Eggplant, and Tomato'}]"
      ]
     },
     "execution_count": 21,
     "metadata": {},
     "output_type": "execute_result"
    }
   ],
   "source": [
    "df[mask][['title']].to_dict('records')"
   ]
  },
  {
   "cell_type": "markdown",
   "id": "cf00964b",
   "metadata": {
    "heading_collapsed": true
   },
   "source": [
    "#### From cleaned ingredient list"
   ]
  },
  {
   "cell_type": "code",
   "execution_count": 15,
   "id": "244da85d",
   "metadata": {
    "hidden": true
   },
   "outputs": [],
   "source": [
    "# INGREDIENTS\n",
    "all_ing_cleaned = df.ing_cleaned.sum()"
   ]
  },
  {
   "cell_type": "code",
   "execution_count": 23,
   "id": "68b8c871",
   "metadata": {
    "hidden": true
   },
   "outputs": [
    {
     "data": {
      "text/plain": [
       "('salt', 5693)"
      ]
     },
     "execution_count": 23,
     "metadata": {},
     "output_type": "execute_result"
    }
   ],
   "source": [
    "c_ingr = Counter(all_ing_cleaned)\n",
    "len(c_ingr.most_common())"
   ]
  },
  {
   "cell_type": "code",
   "execution_count": 24,
   "id": "ef41545d",
   "metadata": {
    "hidden": true
   },
   "outputs": [
    {
     "data": {
      "text/plain": [
       "(199030, 33797)"
      ]
     },
     "execution_count": 24,
     "metadata": {},
     "output_type": "execute_result"
    }
   ],
   "source": [
    "unique_ingr = [c[0] for c in c_ingr.most_common()]\n",
    "\n",
    "len(all_ing_cleaned),len(unique_ingr)"
   ]
  },
  {
   "cell_type": "code",
   "execution_count": null,
   "id": "750e1944",
   "metadata": {
    "hidden": true
   },
   "outputs": [],
   "source": []
  },
  {
   "cell_type": "code",
   "execution_count": 128,
   "id": "e9c958cd",
   "metadata": {
    "hidden": true
   },
   "outputs": [],
   "source": [
    "c_ingr_all = Counter(all_ing_list)"
   ]
  },
  {
   "cell_type": "code",
   "execution_count": 138,
   "id": "cf10bf1b",
   "metadata": {
    "hidden": true
   },
   "outputs": [
    {
     "data": {
      "text/plain": [
       "[('1/2 teaspoon salt', 1266),\n",
       " ('1/4 teaspoon salt', 963),\n",
       " ('2 tablespoons olive oil', 947),\n",
       " ('1 teaspoon salt', 859),\n",
       " ('1 tablespoon olive oil', 640),\n",
       " ('1/2 cup sugar', 589),\n",
       " ('2 large eggs', 568),\n",
       " ('2 tablespoons fresh lemon juice', 544),\n",
       " ('kosher salt', 536),\n",
       " ('1/4 cup olive oil', 470)]"
      ]
     },
     "execution_count": 138,
     "metadata": {},
     "output_type": "execute_result"
    }
   ],
   "source": [
    "c_ingr_all.most_common(10)"
   ]
  },
  {
   "cell_type": "code",
   "execution_count": null,
   "id": "ca7a5a8f",
   "metadata": {
    "hidden": true
   },
   "outputs": [],
   "source": []
  },
  {
   "cell_type": "markdown",
   "id": "3d15da7e",
   "metadata": {
    "heading_collapsed": true
   },
   "source": [
    "#### Mapping unique ingredients to cleaned list"
   ]
  },
  {
   "cell_type": "code",
   "execution_count": 25,
   "id": "2a22e1b7",
   "metadata": {
    "hidden": true
   },
   "outputs": [],
   "source": [
    "df_map=pd.DataFrame({'original_unique':unique_ingr,'original_ind':range(len(unique_ingr))})\n",
    "df_cleaned=pd.DataFrame({'cleaned':cleaned_ing,'cleaned_ind':range(len(cleaned_ing))})\n"
   ]
  },
  {
   "cell_type": "code",
   "execution_count": 26,
   "id": "a130ae6a",
   "metadata": {
    "hidden": true
   },
   "outputs": [
    {
     "data": {
      "text/html": [
       "<div>\n",
       "<style scoped>\n",
       "    .dataframe tbody tr th:only-of-type {\n",
       "        vertical-align: middle;\n",
       "    }\n",
       "\n",
       "    .dataframe tbody tr th {\n",
       "        vertical-align: top;\n",
       "    }\n",
       "\n",
       "    .dataframe thead th {\n",
       "        text-align: right;\n",
       "    }\n",
       "</style>\n",
       "<table border=\"1\" class=\"dataframe\">\n",
       "  <thead>\n",
       "    <tr style=\"text-align: right;\">\n",
       "      <th></th>\n",
       "      <th>cleaned</th>\n",
       "      <th>cleaned_ind</th>\n",
       "    </tr>\n",
       "  </thead>\n",
       "  <tbody>\n",
       "    <tr>\n",
       "      <th>0</th>\n",
       "      <td>salt</td>\n",
       "      <td>0</td>\n",
       "    </tr>\n",
       "    <tr>\n",
       "      <th>1</th>\n",
       "      <td>pepper</td>\n",
       "      <td>1</td>\n",
       "    </tr>\n",
       "    <tr>\n",
       "      <th>2</th>\n",
       "      <td>butter</td>\n",
       "      <td>2</td>\n",
       "    </tr>\n",
       "    <tr>\n",
       "      <th>3</th>\n",
       "      <td>garlic</td>\n",
       "      <td>3</td>\n",
       "    </tr>\n",
       "    <tr>\n",
       "      <th>4</th>\n",
       "      <td>sugar</td>\n",
       "      <td>4</td>\n",
       "    </tr>\n",
       "    <tr>\n",
       "      <th>...</th>\n",
       "      <td>...</td>\n",
       "      <td>...</td>\n",
       "    </tr>\n",
       "    <tr>\n",
       "      <th>3335</th>\n",
       "      <td>poblano chilie</td>\n",
       "      <td>3335</td>\n",
       "    </tr>\n",
       "    <tr>\n",
       "      <th>3336</th>\n",
       "      <td>crystal hot sauce</td>\n",
       "      <td>3336</td>\n",
       "    </tr>\n",
       "    <tr>\n",
       "      <th>3337</th>\n",
       "      <td>watercress leave</td>\n",
       "      <td>3337</td>\n",
       "    </tr>\n",
       "    <tr>\n",
       "      <th>3338</th>\n",
       "      <td>emeril essence</td>\n",
       "      <td>3338</td>\n",
       "    </tr>\n",
       "    <tr>\n",
       "      <th>3339</th>\n",
       "      <td>corn flake cereal</td>\n",
       "      <td>3339</td>\n",
       "    </tr>\n",
       "  </tbody>\n",
       "</table>\n",
       "<p>3340 rows × 2 columns</p>\n",
       "</div>"
      ],
      "text/plain": [
       "                cleaned  cleaned_ind\n",
       "0                  salt            0\n",
       "1                pepper            1\n",
       "2                butter            2\n",
       "3                garlic            3\n",
       "4                 sugar            4\n",
       "...                 ...          ...\n",
       "3335     poblano chilie         3335\n",
       "3336  crystal hot sauce         3336\n",
       "3337   watercress leave         3337\n",
       "3338     emeril essence         3338\n",
       "3339  corn flake cereal         3339\n",
       "\n",
       "[3340 rows x 2 columns]"
      ]
     },
     "execution_count": 26,
     "metadata": {},
     "output_type": "execute_result"
    }
   ],
   "source": [
    "df_cleaned"
   ]
  },
  {
   "cell_type": "code",
   "execution_count": 108,
   "id": "94e5bc8c",
   "metadata": {
    "hidden": true,
    "scrolled": true
   },
   "outputs": [],
   "source": [
    "#for i in range(len(cleaned_ing)): df_map['C'+str(i)]=0\n"
   ]
  },
  {
   "cell_type": "code",
   "execution_count": 56,
   "id": "f6366f10",
   "metadata": {
    "hidden": true
   },
   "outputs": [
    {
     "data": {
      "text/plain": [
       "datetime.timedelta(seconds=2290, microseconds=514261)"
      ]
     },
     "execution_count": 56,
     "metadata": {},
     "output_type": "execute_result"
    }
   ],
   "source": [
    "df_map['assoc']=[ [] for _ in range(len(df_map.index)) ]\n",
    "df_map['assoc_index']=[ [] for _ in range(len(df_map.index)) ]\n",
    "\n",
    "first_time = datetime.datetime.now()\n",
    "\n",
    "\n",
    "def map_ingredient(r,clean,ind_cleaned):\n",
    "    for index_map in df_map.index:\n",
    "        ing = df_map.original_unique.loc[index_map]\n",
    "        if r.findall(ing):\n",
    "            df_map.loc[index_map,'assoc'].append(clean)\n",
    "            df_map.loc[index_map,'assoc_index'].append(ind_cleaned)\n",
    "            #df_map.loc[index_map,'C'+str(ind_cleaned)]=1\n",
    "\n",
    "\n",
    "for ind_cleaned in df_cleaned.index:\n",
    "    clean = df_cleaned.cleaned.loc[ind_cleaned]\n",
    "    r = re.compile(r'\\b{}\\b'.format(clean),re.IGNORECASE)\n",
    "    map_ingredient(r,clean,ind_cleaned)\n",
    "\n",
    "        \n",
    "later_time = datetime.datetime.now()\n",
    "later_time - first_time\n",
    "\n"
   ]
  },
  {
   "cell_type": "code",
   "execution_count": 57,
   "id": "757be381",
   "metadata": {
    "hidden": true
   },
   "outputs": [
    {
     "data": {
      "text/html": [
       "<div>\n",
       "<style scoped>\n",
       "    .dataframe tbody tr th:only-of-type {\n",
       "        vertical-align: middle;\n",
       "    }\n",
       "\n",
       "    .dataframe tbody tr th {\n",
       "        vertical-align: top;\n",
       "    }\n",
       "\n",
       "    .dataframe thead th {\n",
       "        text-align: right;\n",
       "    }\n",
       "</style>\n",
       "<table border=\"1\" class=\"dataframe\">\n",
       "  <thead>\n",
       "    <tr style=\"text-align: right;\">\n",
       "      <th></th>\n",
       "      <th>original_unique</th>\n",
       "      <th>original_ind</th>\n",
       "      <th>assoc</th>\n",
       "      <th>assoc_index</th>\n",
       "    </tr>\n",
       "  </thead>\n",
       "  <tbody>\n",
       "    <tr>\n",
       "      <th>0</th>\n",
       "      <td>salt</td>\n",
       "      <td>0</td>\n",
       "      <td>[salt]</td>\n",
       "      <td>[0]</td>\n",
       "    </tr>\n",
       "    <tr>\n",
       "      <th>1</th>\n",
       "      <td>sugar</td>\n",
       "      <td>1</td>\n",
       "      <td>[sugar]</td>\n",
       "      <td>[4]</td>\n",
       "    </tr>\n",
       "    <tr>\n",
       "      <th>2</th>\n",
       "      <td>olive oil</td>\n",
       "      <td>2</td>\n",
       "      <td>[olive oil, olive, oil]</td>\n",
       "      <td>[7, 8, 53]</td>\n",
       "    </tr>\n",
       "    <tr>\n",
       "      <th>3</th>\n",
       "      <td>garlic clove</td>\n",
       "      <td>3</td>\n",
       "      <td>[garlic, garlic clove, clove]</td>\n",
       "      <td>[3, 23, 46]</td>\n",
       "    </tr>\n",
       "    <tr>\n",
       "      <th>4</th>\n",
       "      <td>unsalted butter</td>\n",
       "      <td>4</td>\n",
       "      <td>[butter, unsalted butter]</td>\n",
       "      <td>[2, 28]</td>\n",
       "    </tr>\n",
       "  </tbody>\n",
       "</table>\n",
       "</div>"
      ],
      "text/plain": [
       "   original_unique  original_ind                          assoc  assoc_index\n",
       "0             salt             0                         [salt]          [0]\n",
       "1            sugar             1                        [sugar]          [4]\n",
       "2        olive oil             2        [olive oil, olive, oil]   [7, 8, 53]\n",
       "3     garlic clove             3  [garlic, garlic clove, clove]  [3, 23, 46]\n",
       "4  unsalted butter             4      [butter, unsalted butter]      [2, 28]"
      ]
     },
     "execution_count": 57,
     "metadata": {},
     "output_type": "execute_result"
    }
   ],
   "source": [
    "df_map.head()"
   ]
  },
  {
   "cell_type": "code",
   "execution_count": 58,
   "id": "dc6cc2dc",
   "metadata": {
    "hidden": true,
    "scrolled": true
   },
   "outputs": [],
   "source": [
    "df_map.to_json(save_dir+'mapped_ing.json')"
   ]
  },
  {
   "cell_type": "code",
   "execution_count": 67,
   "id": "91852681",
   "metadata": {
    "hidden": true
   },
   "outputs": [
    {
     "data": {
      "text/html": [
       "<div>\n",
       "<style scoped>\n",
       "    .dataframe tbody tr th:only-of-type {\n",
       "        vertical-align: middle;\n",
       "    }\n",
       "\n",
       "    .dataframe tbody tr th {\n",
       "        vertical-align: top;\n",
       "    }\n",
       "\n",
       "    .dataframe thead th {\n",
       "        text-align: right;\n",
       "    }\n",
       "</style>\n",
       "<table border=\"1\" class=\"dataframe\">\n",
       "  <thead>\n",
       "    <tr style=\"text-align: right;\">\n",
       "      <th></th>\n",
       "      <th>original_unique</th>\n",
       "      <th>original_ind</th>\n",
       "      <th>assoc</th>\n",
       "      <th>assoc_index</th>\n",
       "    </tr>\n",
       "  </thead>\n",
       "  <tbody>\n",
       "    <tr>\n",
       "      <th>188</th>\n",
       "      <td>zucchini</td>\n",
       "      <td>188</td>\n",
       "      <td>[zucchini]</td>\n",
       "      <td>[134]</td>\n",
       "    </tr>\n",
       "    <tr>\n",
       "      <th>574</th>\n",
       "      <td>zucchini trimmed</td>\n",
       "      <td>574</td>\n",
       "      <td>[zucchini]</td>\n",
       "      <td>[134]</td>\n",
       "    </tr>\n",
       "    <tr>\n",
       "      <th>1597</th>\n",
       "      <td>zucchini lengthwise</td>\n",
       "      <td>1597</td>\n",
       "      <td>[zucchini]</td>\n",
       "      <td>[134]</td>\n",
       "    </tr>\n",
       "    <tr>\n",
       "      <th>2235</th>\n",
       "      <td>zucchini thick round</td>\n",
       "      <td>2235</td>\n",
       "      <td>[zucchini]</td>\n",
       "      <td>[134]</td>\n",
       "    </tr>\n",
       "    <tr>\n",
       "      <th>2366</th>\n",
       "      <td>zucchini trimmed cut lengthwise into thick slice</td>\n",
       "      <td>2366</td>\n",
       "      <td>[zucchini]</td>\n",
       "      <td>[134]</td>\n",
       "    </tr>\n",
       "    <tr>\n",
       "      <th>...</th>\n",
       "      <td>...</td>\n",
       "      <td>...</td>\n",
       "      <td>...</td>\n",
       "      <td>...</td>\n",
       "    </tr>\n",
       "    <tr>\n",
       "      <th>32872</th>\n",
       "      <td>trimmed baby zucchini</td>\n",
       "      <td>32872</td>\n",
       "      <td>[zucchini]</td>\n",
       "      <td>[134]</td>\n",
       "    </tr>\n",
       "    <tr>\n",
       "      <th>32886</th>\n",
       "      <td>zucchini trimmed cut on sharp diagonal into th...</td>\n",
       "      <td>32886</td>\n",
       "      <td>[zucchini]</td>\n",
       "      <td>[134]</td>\n",
       "    </tr>\n",
       "    <tr>\n",
       "      <th>33065</th>\n",
       "      <td>zucchini lengthwise cut crosswise into thick</td>\n",
       "      <td>33065</td>\n",
       "      <td>[zucchini, crosswise]</td>\n",
       "      <td>[134, 339]</td>\n",
       "    </tr>\n",
       "    <tr>\n",
       "      <th>33073</th>\n",
       "      <td>zucchini trimmed lengthwise crosswise</td>\n",
       "      <td>33073</td>\n",
       "      <td>[zucchini, crosswise]</td>\n",
       "      <td>[134, 339]</td>\n",
       "    </tr>\n",
       "    <tr>\n",
       "      <th>33172</th>\n",
       "      <td>extra virgin olive oil additional brushing zuc...</td>\n",
       "      <td>33172</td>\n",
       "      <td>[olive oil, olive, oil, virgin olive oil, extr...</td>\n",
       "      <td>[7, 8, 53, 69, 70, 134]</td>\n",
       "    </tr>\n",
       "  </tbody>\n",
       "</table>\n",
       "<p>175 rows × 4 columns</p>\n",
       "</div>"
      ],
      "text/plain": [
       "                                         original_unique  original_ind  \\\n",
       "188                                             zucchini           188   \n",
       "574                                     zucchini trimmed           574   \n",
       "1597                                 zucchini lengthwise          1597   \n",
       "2235                                zucchini thick round          2235   \n",
       "2366    zucchini trimmed cut lengthwise into thick slice          2366   \n",
       "...                                                  ...           ...   \n",
       "32872                              trimmed baby zucchini         32872   \n",
       "32886  zucchini trimmed cut on sharp diagonal into th...         32886   \n",
       "33065       zucchini lengthwise cut crosswise into thick         33065   \n",
       "33073              zucchini trimmed lengthwise crosswise         33073   \n",
       "33172  extra virgin olive oil additional brushing zuc...         33172   \n",
       "\n",
       "                                                   assoc  \\\n",
       "188                                           [zucchini]   \n",
       "574                                           [zucchini]   \n",
       "1597                                          [zucchini]   \n",
       "2235                                          [zucchini]   \n",
       "2366                                          [zucchini]   \n",
       "...                                                  ...   \n",
       "32872                                         [zucchini]   \n",
       "32886                                         [zucchini]   \n",
       "33065                              [zucchini, crosswise]   \n",
       "33073                              [zucchini, crosswise]   \n",
       "33172  [olive oil, olive, oil, virgin olive oil, extr...   \n",
       "\n",
       "                   assoc_index  \n",
       "188                      [134]  \n",
       "574                      [134]  \n",
       "1597                     [134]  \n",
       "2235                     [134]  \n",
       "2366                     [134]  \n",
       "...                        ...  \n",
       "32872                    [134]  \n",
       "32886                    [134]  \n",
       "33065               [134, 339]  \n",
       "33073               [134, 339]  \n",
       "33172  [7, 8, 53, 69, 70, 134]  \n",
       "\n",
       "[175 rows x 4 columns]"
      ]
     },
     "execution_count": 67,
     "metadata": {},
     "output_type": "execute_result"
    }
   ],
   "source": [
    "kw='zucchini'\n",
    "df_map[df_map.original_unique.str.contains(kw)]"
   ]
  },
  {
   "cell_type": "code",
   "execution_count": null,
   "id": "f6f48a84",
   "metadata": {
    "hidden": true,
    "scrolled": true
   },
   "outputs": [],
   "source": []
  },
  {
   "cell_type": "code",
   "execution_count": null,
   "id": "ae898165",
   "metadata": {
    "hidden": true
   },
   "outputs": [],
   "source": []
  },
  {
   "cell_type": "code",
   "execution_count": 59,
   "id": "3d224264",
   "metadata": {
    "hidden": true
   },
   "outputs": [
    {
     "data": {
      "text/plain": [
       "1676"
      ]
     },
     "execution_count": 59,
     "metadata": {},
     "output_type": "execute_result"
    }
   ],
   "source": [
    "missing = [i for i in df_map.index if len(df_map.iloc[i]['assoc_index'])==0]\n",
    "len(missing)"
   ]
  },
  {
   "cell_type": "code",
   "execution_count": 62,
   "id": "6b5187ec",
   "metadata": {
    "hidden": true
   },
   "outputs": [
    {
     "data": {
      "text/html": [
       "<div>\n",
       "<style scoped>\n",
       "    .dataframe tbody tr th:only-of-type {\n",
       "        vertical-align: middle;\n",
       "    }\n",
       "\n",
       "    .dataframe tbody tr th {\n",
       "        vertical-align: top;\n",
       "    }\n",
       "\n",
       "    .dataframe thead th {\n",
       "        text-align: right;\n",
       "    }\n",
       "</style>\n",
       "<table border=\"1\" class=\"dataframe\">\n",
       "  <thead>\n",
       "    <tr style=\"text-align: right;\">\n",
       "      <th></th>\n",
       "      <th>original_unique</th>\n",
       "      <th>original_ind</th>\n",
       "      <th>assoc</th>\n",
       "      <th>assoc_index</th>\n",
       "    </tr>\n",
       "  </thead>\n",
       "  <tbody>\n",
       "    <tr>\n",
       "      <th>5</th>\n",
       "      <td>water</td>\n",
       "      <td>5</td>\n",
       "      <td>[]</td>\n",
       "      <td>[]</td>\n",
       "    </tr>\n",
       "    <tr>\n",
       "      <th>232</th>\n",
       "      <td>crme frache</td>\n",
       "      <td>232</td>\n",
       "      <td>[]</td>\n",
       "      <td>[]</td>\n",
       "    </tr>\n",
       "    <tr>\n",
       "      <th>242</th>\n",
       "      <td>parsnip</td>\n",
       "      <td>242</td>\n",
       "      <td>[]</td>\n",
       "      <td>[]</td>\n",
       "    </tr>\n",
       "    <tr>\n",
       "      <th>243</th>\n",
       "      <td>walnuts toasted</td>\n",
       "      <td>243</td>\n",
       "      <td>[]</td>\n",
       "      <td>[]</td>\n",
       "    </tr>\n",
       "    <tr>\n",
       "      <th>255</th>\n",
       "      <td>old fashioned oats</td>\n",
       "      <td>255</td>\n",
       "      <td>[]</td>\n",
       "      <td>[]</td>\n",
       "    </tr>\n",
       "    <tr>\n",
       "      <th>281</th>\n",
       "      <td>oranges</td>\n",
       "      <td>281</td>\n",
       "      <td>[]</td>\n",
       "      <td>[]</td>\n",
       "    </tr>\n",
       "    <tr>\n",
       "      <th>313</th>\n",
       "      <td>jalapeo</td>\n",
       "      <td>313</td>\n",
       "      <td>[]</td>\n",
       "      <td>[]</td>\n",
       "    </tr>\n",
       "    <tr>\n",
       "      <th>331</th>\n",
       "      <td>tabasco</td>\n",
       "      <td>331</td>\n",
       "      <td>[]</td>\n",
       "      <td>[]</td>\n",
       "    </tr>\n",
       "    <tr>\n",
       "      <th>472</th>\n",
       "      <td>lukewarm water</td>\n",
       "      <td>472</td>\n",
       "      <td>[]</td>\n",
       "      <td>[]</td>\n",
       "    </tr>\n",
       "    <tr>\n",
       "      <th>535</th>\n",
       "      <td>crumbled feta</td>\n",
       "      <td>535</td>\n",
       "      <td>[]</td>\n",
       "      <td>[]</td>\n",
       "    </tr>\n",
       "    <tr>\n",
       "      <th>554</th>\n",
       "      <td>gruyre</td>\n",
       "      <td>554</td>\n",
       "      <td>[]</td>\n",
       "      <td>[]</td>\n",
       "    </tr>\n",
       "    <tr>\n",
       "      <th>582</th>\n",
       "      <td>available at specialty food shop some supermarket</td>\n",
       "      <td>582</td>\n",
       "      <td>[]</td>\n",
       "      <td>[]</td>\n",
       "    </tr>\n",
       "    <tr>\n",
       "      <th>587</th>\n",
       "      <td>feta crumbled</td>\n",
       "      <td>587</td>\n",
       "      <td>[]</td>\n",
       "      <td>[]</td>\n",
       "    </tr>\n",
       "    <tr>\n",
       "      <th>631</th>\n",
       "      <td>special equipment parchment paper</td>\n",
       "      <td>631</td>\n",
       "      <td>[]</td>\n",
       "      <td>[]</td>\n",
       "    </tr>\n",
       "    <tr>\n",
       "      <th>695</th>\n",
       "      <td>fettuccine</td>\n",
       "      <td>695</td>\n",
       "      <td>[]</td>\n",
       "      <td>[]</td>\n",
       "    </tr>\n",
       "    <tr>\n",
       "      <th>701</th>\n",
       "      <td></td>\n",
       "      <td>701</td>\n",
       "      <td>[]</td>\n",
       "      <td>[]</td>\n",
       "    </tr>\n",
       "    <tr>\n",
       "      <th>717</th>\n",
       "      <td>deep fry thermometer</td>\n",
       "      <td>717</td>\n",
       "      <td>[]</td>\n",
       "      <td>[]</td>\n",
       "    </tr>\n",
       "    <tr>\n",
       "      <th>752</th>\n",
       "      <td>special equipment cheesecloth</td>\n",
       "      <td>752</td>\n",
       "      <td>[]</td>\n",
       "      <td>[]</td>\n",
       "    </tr>\n",
       "    <tr>\n",
       "      <th>788</th>\n",
       "      <td>dried organo crumbled</td>\n",
       "      <td>788</td>\n",
       "      <td>[]</td>\n",
       "      <td>[]</td>\n",
       "    </tr>\n",
       "    <tr>\n",
       "      <th>864</th>\n",
       "      <td>metal skewer</td>\n",
       "      <td>864</td>\n",
       "      <td>[]</td>\n",
       "      <td>[]</td>\n",
       "    </tr>\n",
       "  </tbody>\n",
       "</table>\n",
       "</div>"
      ],
      "text/plain": [
       "                                       original_unique  original_ind assoc  \\\n",
       "5                                                water             5    []   \n",
       "232                                        crme frache           232    []   \n",
       "242                                            parsnip           242    []   \n",
       "243                                    walnuts toasted           243    []   \n",
       "255                                 old fashioned oats           255    []   \n",
       "281                                            oranges           281    []   \n",
       "313                                            jalapeo           313    []   \n",
       "331                                            tabasco           331    []   \n",
       "472                                     lukewarm water           472    []   \n",
       "535                                      crumbled feta           535    []   \n",
       "554                                             gruyre           554    []   \n",
       "582  available at specialty food shop some supermarket           582    []   \n",
       "587                                      feta crumbled           587    []   \n",
       "631                  special equipment parchment paper           631    []   \n",
       "695                                         fettuccine           695    []   \n",
       "701                                                              701    []   \n",
       "717                               deep fry thermometer           717    []   \n",
       "752                      special equipment cheesecloth           752    []   \n",
       "788                              dried organo crumbled           788    []   \n",
       "864                                       metal skewer           864    []   \n",
       "\n",
       "    assoc_index  \n",
       "5            []  \n",
       "232          []  \n",
       "242          []  \n",
       "243          []  \n",
       "255          []  \n",
       "281          []  \n",
       "313          []  \n",
       "331          []  \n",
       "472          []  \n",
       "535          []  \n",
       "554          []  \n",
       "582          []  \n",
       "587          []  \n",
       "631          []  \n",
       "695          []  \n",
       "701          []  \n",
       "717          []  \n",
       "752          []  \n",
       "788          []  \n",
       "864          []  "
      ]
     },
     "execution_count": 62,
     "metadata": {},
     "output_type": "execute_result"
    }
   ],
   "source": [
    "df_map.loc[missing].head(20)"
   ]
  },
  {
   "cell_type": "code",
   "execution_count": 64,
   "id": "f34b2189",
   "metadata": {
    "hidden": true
   },
   "outputs": [
    {
     "data": {
      "text/plain": [
       "'walnut toasted'"
      ]
     },
     "execution_count": 64,
     "metadata": {},
     "output_type": "execute_result"
    }
   ],
   "source": [
    "remove_plurals('walnuts toasted')"
   ]
  },
  {
   "cell_type": "markdown",
   "id": "ff2c5696",
   "metadata": {
    "heading_collapsed": true
   },
   "source": [
    "#### Map cleaned and unique to the recipe df"
   ]
  },
  {
   "cell_type": "code",
   "execution_count": 93,
   "id": "61ba429f",
   "metadata": {
    "hidden": true
   },
   "outputs": [
    {
     "data": {
      "text/html": [
       "<div>\n",
       "<style scoped>\n",
       "    .dataframe tbody tr th:only-of-type {\n",
       "        vertical-align: middle;\n",
       "    }\n",
       "\n",
       "    .dataframe tbody tr th {\n",
       "        vertical-align: top;\n",
       "    }\n",
       "\n",
       "    .dataframe thead th {\n",
       "        text-align: right;\n",
       "    }\n",
       "</style>\n",
       "<table border=\"1\" class=\"dataframe\">\n",
       "  <thead>\n",
       "    <tr style=\"text-align: right;\">\n",
       "      <th></th>\n",
       "      <th>directions</th>\n",
       "      <th>fat</th>\n",
       "      <th>date</th>\n",
       "      <th>categories</th>\n",
       "      <th>calories</th>\n",
       "      <th>desc</th>\n",
       "      <th>protein</th>\n",
       "      <th>rating</th>\n",
       "      <th>title</th>\n",
       "      <th>ingredients</th>\n",
       "      <th>sodium</th>\n",
       "      <th>num_dir</th>\n",
       "      <th>num_ing</th>\n",
       "      <th>num_cat</th>\n",
       "      <th>title_words</th>\n",
       "      <th>ing_cleaned</th>\n",
       "      <th>ing_cleaned_all</th>\n",
       "    </tr>\n",
       "  </thead>\n",
       "  <tbody>\n",
       "    <tr>\n",
       "      <th>0</th>\n",
       "      <td>[1. Place the stock, lentils, celery, carrot, ...</td>\n",
       "      <td>7.0</td>\n",
       "      <td>2006-09-01 04:00:00+00:00</td>\n",
       "      <td>[Sandwich, Bean, Fruit, Tomato, turkey, Vegeta...</td>\n",
       "      <td>426.0</td>\n",
       "      <td>None</td>\n",
       "      <td>30.0</td>\n",
       "      <td>2.500</td>\n",
       "      <td>Lentil, Apple, and Turkey Wrap</td>\n",
       "      <td>[4 cups low-sodium vegetable or chicken stock,...</td>\n",
       "      <td>559.0</td>\n",
       "      <td>3</td>\n",
       "      <td>15</td>\n",
       "      <td>11</td>\n",
       "      <td>[lentil, apple, and, turkey, wrap]</td>\n",
       "      <td>[carrot, dried brown lentil, dried french gree...</td>\n",
       "      <td>carrot dried brown lentil dried french green l...</td>\n",
       "    </tr>\n",
       "    <tr>\n",
       "      <th>1</th>\n",
       "      <td>[Combine first 9 ingredients in heavy medium s...</td>\n",
       "      <td>23.0</td>\n",
       "      <td>2004-08-20 04:00:00+00:00</td>\n",
       "      <td>[Food Processor, Onion, Pork, Bake, Bastille D...</td>\n",
       "      <td>403.0</td>\n",
       "      <td>This uses the same ingredients found in boudin...</td>\n",
       "      <td>18.0</td>\n",
       "      <td>4.375</td>\n",
       "      <td>Boudin Blanc Terrine with Red Onion Confit</td>\n",
       "      <td>[1 1/2 cups whipping cream, 2 medium onions, c...</td>\n",
       "      <td>1439.0</td>\n",
       "      <td>5</td>\n",
       "      <td>28</td>\n",
       "      <td>11</td>\n",
       "      <td>[boudin, blanc, terrine, with, red, onion, con...</td>\n",
       "      <td>[all purpose flour, bay leaves, bay leaves, bu...</td>\n",
       "      <td>all purpose flour bay leaves bay leaves butter...</td>\n",
       "    </tr>\n",
       "    <tr>\n",
       "      <th>2</th>\n",
       "      <td>[In a large heavy saucepan cook diced fennel a...</td>\n",
       "      <td>7.0</td>\n",
       "      <td>2004-08-20 04:00:00+00:00</td>\n",
       "      <td>[Soup/Stew, Dairy, Potato, Vegetable, Fennel, ...</td>\n",
       "      <td>165.0</td>\n",
       "      <td>None</td>\n",
       "      <td>6.0</td>\n",
       "      <td>3.750</td>\n",
       "      <td>Potato and Fennel Soup Hodge</td>\n",
       "      <td>[1 fennel bulb (sometimes called anise), stalk...</td>\n",
       "      <td>165.0</td>\n",
       "      <td>2</td>\n",
       "      <td>6</td>\n",
       "      <td>7</td>\n",
       "      <td>[potato, and, fennel, soup, hodge]</td>\n",
       "      <td>[chicken broth, fennel bulb stalk discarded bu...</td>\n",
       "      <td>chicken broth fennel bulb stalk discarded bulb...</td>\n",
       "    </tr>\n",
       "    <tr>\n",
       "      <th>3</th>\n",
       "      <td>[Heat oil in heavy large skillet over medium-h...</td>\n",
       "      <td>NaN</td>\n",
       "      <td>2009-03-27 04:00:00+00:00</td>\n",
       "      <td>[Fish, Olive, Tomato, Sauté, Low Fat, Low Cal,...</td>\n",
       "      <td>NaN</td>\n",
       "      <td>The Sicilian-style tomato sauce has tons of Me...</td>\n",
       "      <td>NaN</td>\n",
       "      <td>5.000</td>\n",
       "      <td>Mahi-Mahi in Tomato Olive Sauce</td>\n",
       "      <td>[2 tablespoons extra-virgin olive oil, 1 cup c...</td>\n",
       "      <td>NaN</td>\n",
       "      <td>2</td>\n",
       "      <td>10</td>\n",
       "      <td>17</td>\n",
       "      <td>[mahi-mahi, in, tomato, olive, sauce]</td>\n",
       "      <td>[anchovy paste, country style white bread thic...</td>\n",
       "      <td>anchovy paste country style white bread thick ...</td>\n",
       "    </tr>\n",
       "    <tr>\n",
       "      <th>4</th>\n",
       "      <td>[Preheat oven to 350°F. Lightly grease 8x8x2-i...</td>\n",
       "      <td>32.0</td>\n",
       "      <td>2004-08-20 04:00:00+00:00</td>\n",
       "      <td>[Cheese, Dairy, Pasta, Vegetable, Side, Bake, ...</td>\n",
       "      <td>547.0</td>\n",
       "      <td>None</td>\n",
       "      <td>20.0</td>\n",
       "      <td>3.125</td>\n",
       "      <td>Spinach Noodle Casserole</td>\n",
       "      <td>[1 12-ounce package frozen spinach soufflé, th...</td>\n",
       "      <td>452.0</td>\n",
       "      <td>1</td>\n",
       "      <td>6</td>\n",
       "      <td>11</td>\n",
       "      <td>[spinach, noodle, casserole]</td>\n",
       "      <td>[extra wide egg noodle cooked, frozen spinach ...</td>\n",
       "      <td>extra wide egg noodle cooked frozen spinach so...</td>\n",
       "    </tr>\n",
       "  </tbody>\n",
       "</table>\n",
       "</div>"
      ],
      "text/plain": [
       "                                          directions   fat  \\\n",
       "0  [1. Place the stock, lentils, celery, carrot, ...   7.0   \n",
       "1  [Combine first 9 ingredients in heavy medium s...  23.0   \n",
       "2  [In a large heavy saucepan cook diced fennel a...   7.0   \n",
       "3  [Heat oil in heavy large skillet over medium-h...   NaN   \n",
       "4  [Preheat oven to 350°F. Lightly grease 8x8x2-i...  32.0   \n",
       "\n",
       "                       date  \\\n",
       "0 2006-09-01 04:00:00+00:00   \n",
       "1 2004-08-20 04:00:00+00:00   \n",
       "2 2004-08-20 04:00:00+00:00   \n",
       "3 2009-03-27 04:00:00+00:00   \n",
       "4 2004-08-20 04:00:00+00:00   \n",
       "\n",
       "                                          categories  calories  \\\n",
       "0  [Sandwich, Bean, Fruit, Tomato, turkey, Vegeta...     426.0   \n",
       "1  [Food Processor, Onion, Pork, Bake, Bastille D...     403.0   \n",
       "2  [Soup/Stew, Dairy, Potato, Vegetable, Fennel, ...     165.0   \n",
       "3  [Fish, Olive, Tomato, Sauté, Low Fat, Low Cal,...       NaN   \n",
       "4  [Cheese, Dairy, Pasta, Vegetable, Side, Bake, ...     547.0   \n",
       "\n",
       "                                                desc  protein  rating  \\\n",
       "0                                               None     30.0   2.500   \n",
       "1  This uses the same ingredients found in boudin...     18.0   4.375   \n",
       "2                                               None      6.0   3.750   \n",
       "3  The Sicilian-style tomato sauce has tons of Me...      NaN   5.000   \n",
       "4                                               None     20.0   3.125   \n",
       "\n",
       "                                        title  \\\n",
       "0              Lentil, Apple, and Turkey Wrap   \n",
       "1  Boudin Blanc Terrine with Red Onion Confit   \n",
       "2                Potato and Fennel Soup Hodge   \n",
       "3             Mahi-Mahi in Tomato Olive Sauce   \n",
       "4                    Spinach Noodle Casserole   \n",
       "\n",
       "                                         ingredients  sodium  num_dir  \\\n",
       "0  [4 cups low-sodium vegetable or chicken stock,...   559.0        3   \n",
       "1  [1 1/2 cups whipping cream, 2 medium onions, c...  1439.0        5   \n",
       "2  [1 fennel bulb (sometimes called anise), stalk...   165.0        2   \n",
       "3  [2 tablespoons extra-virgin olive oil, 1 cup c...     NaN        2   \n",
       "4  [1 12-ounce package frozen spinach soufflé, th...   452.0        1   \n",
       "\n",
       "   num_ing  num_cat                                        title_words  \\\n",
       "0       15       11                 [lentil, apple, and, turkey, wrap]   \n",
       "1       28       11  [boudin, blanc, terrine, with, red, onion, con...   \n",
       "2        6        7                 [potato, and, fennel, soup, hodge]   \n",
       "3       10       17              [mahi-mahi, in, tomato, olive, sauce]   \n",
       "4        6       11                       [spinach, noodle, casserole]   \n",
       "\n",
       "                                         ing_cleaned  \\\n",
       "0  [carrot, dried brown lentil, dried french gree...   \n",
       "1  [all purpose flour, bay leaves, bay leaves, bu...   \n",
       "2  [chicken broth, fennel bulb stalk discarded bu...   \n",
       "3  [anchovy paste, country style white bread thic...   \n",
       "4  [extra wide egg noodle cooked, frozen spinach ...   \n",
       "\n",
       "                                     ing_cleaned_all  \n",
       "0  carrot dried brown lentil dried french green l...  \n",
       "1  all purpose flour bay leaves bay leaves butter...  \n",
       "2  chicken broth fennel bulb stalk discarded bulb...  \n",
       "3  anchovy paste country style white bread thick ...  \n",
       "4  extra wide egg noodle cooked frozen spinach so...  "
      ]
     },
     "execution_count": 93,
     "metadata": {},
     "output_type": "execute_result"
    }
   ],
   "source": [
    "df.head()"
   ]
  },
  {
   "cell_type": "code",
   "execution_count": 145,
   "id": "33d52521",
   "metadata": {
    "hidden": true
   },
   "outputs": [],
   "source": [
    "df['ing_index']=''\n",
    "df['ing_assoc']=''\n",
    "df['ing_assoc_index']=''\n",
    "\n",
    "#df = df.drop(columns=['ing_index','ing_assoc','ing_assoc_index'])"
   ]
  },
  {
   "cell_type": "code",
   "execution_count": null,
   "id": "187bdff3",
   "metadata": {
    "hidden": true,
    "scrolled": true
   },
   "outputs": [],
   "source": []
  },
  {
   "cell_type": "code",
   "execution_count": 146,
   "id": "b3532e5b",
   "metadata": {
    "hidden": true,
    "scrolled": false
   },
   "outputs": [
    {
     "data": {
      "text/plain": [
       "datetime.timedelta(seconds=818, microseconds=839997)"
      ]
     },
     "execution_count": 146,
     "metadata": {},
     "output_type": "execute_result"
    }
   ],
   "source": [
    "first_time = datetime.datetime.now()\n",
    "\n",
    "\n",
    "for i in df.index:\n",
    "    ing_index=[]\n",
    "    ing_assoc=[]\n",
    "    ing_assoc_index=[]\n",
    "    for ing in df.ing_cleaned.loc[i]:\n",
    "        subselect  = df_map[df_map.original_unique==ing]\n",
    "        if len(subselect.index)>1: print(\"not unique entry\",ing)\n",
    "        ing_index.append( subselect.original_ind.iloc[0] )\n",
    "        ing_assoc.append( subselect.assoc.iloc[0]  )\n",
    "        ing_assoc_index.append( subselect.assoc_index.iloc[0] )\n",
    "        \n",
    "    df.at[i,'ing_index']=ing_index\n",
    "    df.at[i,'ing_assoc']=ing_assoc\n",
    "    df.at[i,'ing_assoc_index']=ing_assoc_index\n",
    "    \n",
    "    \n",
    "        \n",
    "        \n",
    "later_time = datetime.datetime.now()\n",
    "later_time - first_time"
   ]
  },
  {
   "cell_type": "code",
   "execution_count": 150,
   "id": "9c1da168",
   "metadata": {
    "hidden": true
   },
   "outputs": [
    {
     "data": {
      "text/plain": [
       "(20111, 20)"
      ]
     },
     "execution_count": 150,
     "metadata": {},
     "output_type": "execute_result"
    }
   ],
   "source": [
    "df.shape"
   ]
  },
  {
   "cell_type": "code",
   "execution_count": 147,
   "id": "066fbd7a",
   "metadata": {
    "hidden": true
   },
   "outputs": [
    {
     "data": {
      "text/html": [
       "<div>\n",
       "<style scoped>\n",
       "    .dataframe tbody tr th:only-of-type {\n",
       "        vertical-align: middle;\n",
       "    }\n",
       "\n",
       "    .dataframe tbody tr th {\n",
       "        vertical-align: top;\n",
       "    }\n",
       "\n",
       "    .dataframe thead th {\n",
       "        text-align: right;\n",
       "    }\n",
       "</style>\n",
       "<table border=\"1\" class=\"dataframe\">\n",
       "  <thead>\n",
       "    <tr style=\"text-align: right;\">\n",
       "      <th></th>\n",
       "      <th>directions</th>\n",
       "      <th>fat</th>\n",
       "      <th>date</th>\n",
       "      <th>categories</th>\n",
       "      <th>calories</th>\n",
       "      <th>desc</th>\n",
       "      <th>protein</th>\n",
       "      <th>rating</th>\n",
       "      <th>title</th>\n",
       "      <th>ingredients</th>\n",
       "      <th>sodium</th>\n",
       "      <th>num_dir</th>\n",
       "      <th>num_ing</th>\n",
       "      <th>num_cat</th>\n",
       "      <th>title_words</th>\n",
       "      <th>ing_cleaned</th>\n",
       "      <th>ing_cleaned_all</th>\n",
       "      <th>ing_index</th>\n",
       "      <th>ing_assoc</th>\n",
       "      <th>ing_assoc_index</th>\n",
       "    </tr>\n",
       "  </thead>\n",
       "  <tbody>\n",
       "    <tr>\n",
       "      <th>20125</th>\n",
       "      <td>[Beat whites in a bowl with an electric mixer ...</td>\n",
       "      <td>2.0</td>\n",
       "      <td>2004-08-20 04:00:00+00:00</td>\n",
       "      <td>[Mixer, Cheese, Egg, Fry, Cocktail Party, Parm...</td>\n",
       "      <td>28.0</td>\n",
       "      <td>None</td>\n",
       "      <td>2.0</td>\n",
       "      <td>3.125</td>\n",
       "      <td>Parmesan Puffs</td>\n",
       "      <td>[2 large egg whites, 3 oz parmigiano-reggiano,...</td>\n",
       "      <td>64.0</td>\n",
       "      <td>2</td>\n",
       "      <td>3</td>\n",
       "      <td>8</td>\n",
       "      <td>[parmesan, puffs]</td>\n",
       "      <td>[egg white, parmigiano reggiano, vegetable oil]</td>\n",
       "      <td>egg white parmigiano reggiano vegetable oil</td>\n",
       "      <td>[62, 175, 12]</td>\n",
       "      <td>[[egg, egg white], [parmigiano], [vegetable oi...</td>\n",
       "      <td>[[9, 148], [1092], [24, 53]]</td>\n",
       "    </tr>\n",
       "    <tr>\n",
       "      <th>20126</th>\n",
       "      <td>[Bring broth to simmer in saucepan.Remove from...</td>\n",
       "      <td>28.0</td>\n",
       "      <td>2008-02-28 22:06:54+00:00</td>\n",
       "      <td>[Side, Kid-Friendly, High Fiber, Dinner, Parme...</td>\n",
       "      <td>671.0</td>\n",
       "      <td>Cooking the artichokes with the rice infuses t...</td>\n",
       "      <td>22.0</td>\n",
       "      <td>4.375</td>\n",
       "      <td>Artichoke and Parmesan Risotto</td>\n",
       "      <td>[5 1/2 cups (or more) low-salt chicken broth, ...</td>\n",
       "      <td>583.0</td>\n",
       "      <td>2</td>\n",
       "      <td>8</td>\n",
       "      <td>16</td>\n",
       "      <td>[artichoke, and, parmesan, risotto]</td>\n",
       "      <td>[arborio rice, baby artichoke trimmed, butter,...</td>\n",
       "      <td>arborio rice baby artichoke trimmed butter dry...</td>\n",
       "      <td>[410, 9992, 15, 20, 11, 54, 7, 46]</td>\n",
       "      <td>[[rice, arborio rice], [artichoke, baby artich...</td>\n",
       "      <td>[[89, 771], [954, 2757], [2], [62, 74, 138, 16...</td>\n",
       "    </tr>\n",
       "    <tr>\n",
       "      <th>20127</th>\n",
       "      <td>[Using a sharp knife, cut a shallow X in botto...</td>\n",
       "      <td>38.0</td>\n",
       "      <td>2005-10-21 18:21:20+00:00</td>\n",
       "      <td>[Onion, Poultry, turkey, Vegetable, Bake, Kid-...</td>\n",
       "      <td>563.0</td>\n",
       "      <td>None</td>\n",
       "      <td>31.0</td>\n",
       "      <td>4.375</td>\n",
       "      <td>Turkey Cream Puff Pie</td>\n",
       "      <td>[1 small tomato, 1 small onion, finely chopped...</td>\n",
       "      <td>652.0</td>\n",
       "      <td>6</td>\n",
       "      <td>17</td>\n",
       "      <td>15</td>\n",
       "      <td>[turkey, cream, puff, pie]</td>\n",
       "      <td>[all purpose flour, all purpose flour sifted a...</td>\n",
       "      <td>all purpose flour all purpose flour sifted aft...</td>\n",
       "      <td>[6, 33792, 112, 993, 4441, 1467, 110, 7, 175, ...</td>\n",
       "      <td>[[flour], [flour], [butter, unsalted butter], ...</td>\n",
       "      <td>[[5], [5], [2, 28], [168, 803], [34, 138, 272,...</td>\n",
       "    </tr>\n",
       "    <tr>\n",
       "      <th>20128</th>\n",
       "      <td>[Heat 2 tablespoons oil in heavy medium skille...</td>\n",
       "      <td>24.0</td>\n",
       "      <td>2004-08-20 04:00:00+00:00</td>\n",
       "      <td>[Milk/Cream, Citrus, Dairy, Fish, Garlic, Past...</td>\n",
       "      <td>631.0</td>\n",
       "      <td>Sharon Hooykaas of Los Alamitos, California, w...</td>\n",
       "      <td>45.0</td>\n",
       "      <td>4.375</td>\n",
       "      <td>Snapper on Angel Hair with Citrus Cream</td>\n",
       "      <td>[4 tablespoons olive oil, 4 shallots, thinly s...</td>\n",
       "      <td>517.0</td>\n",
       "      <td>5</td>\n",
       "      <td>18</td>\n",
       "      <td>13</td>\n",
       "      <td>[snapper, on, angel, hair, with, citrus, cream]</td>\n",
       "      <td>[additional orange peel, all purpose flour, an...</td>\n",
       "      <td>additional orange peel all purpose flour angel...</td>\n",
       "      <td>[33794, 6, 2175, 387, 64, 16, 75, 3, 33795, 21...</td>\n",
       "      <td>[[orange, orange peel], [flour], [pasta, angel...</td>\n",
       "      <td>[[50, 539], [5], [99, 1010], [1104], [54, 1007...</td>\n",
       "    </tr>\n",
       "    <tr>\n",
       "      <th>20129</th>\n",
       "      <td>[Position rack in bottom third of oven and pre...</td>\n",
       "      <td>10.0</td>\n",
       "      <td>2004-08-20 04:00:00+00:00</td>\n",
       "      <td>[Pork, Bake, Roast, Christmas, Ham, Winter, Bo...</td>\n",
       "      <td>560.0</td>\n",
       "      <td>Although labeled fully cooked, the ham will st...</td>\n",
       "      <td>73.0</td>\n",
       "      <td>4.375</td>\n",
       "      <td>Baked Ham with Marmalade-Horseradish Glaze</td>\n",
       "      <td>[1 18-pound fully cooked bone-in smoked ham, r...</td>\n",
       "      <td>3698.0</td>\n",
       "      <td>3</td>\n",
       "      <td>7</td>\n",
       "      <td>7</td>\n",
       "      <td>[baked, ham, with, marmalade-horseradish, glaze]</td>\n",
       "      <td>[fresh orange juice, fully cooked bone in smok...</td>\n",
       "      <td>fresh orange juice fully cooked bone in smoked...</td>\n",
       "      <td>[75, 8475, 56, 488, 33796, 5, 113]</td>\n",
       "      <td>[[orange, orange juice, fresh, fresh orange ju...</td>\n",
       "      <td>[[50, 93, 1067, 3154, 3155], [198, 781, 1590],...</td>\n",
       "    </tr>\n",
       "  </tbody>\n",
       "</table>\n",
       "</div>"
      ],
      "text/plain": [
       "                                              directions   fat  \\\n",
       "20125  [Beat whites in a bowl with an electric mixer ...   2.0   \n",
       "20126  [Bring broth to simmer in saucepan.Remove from...  28.0   \n",
       "20127  [Using a sharp knife, cut a shallow X in botto...  38.0   \n",
       "20128  [Heat 2 tablespoons oil in heavy medium skille...  24.0   \n",
       "20129  [Position rack in bottom third of oven and pre...  10.0   \n",
       "\n",
       "                           date  \\\n",
       "20125 2004-08-20 04:00:00+00:00   \n",
       "20126 2008-02-28 22:06:54+00:00   \n",
       "20127 2005-10-21 18:21:20+00:00   \n",
       "20128 2004-08-20 04:00:00+00:00   \n",
       "20129 2004-08-20 04:00:00+00:00   \n",
       "\n",
       "                                              categories  calories  \\\n",
       "20125  [Mixer, Cheese, Egg, Fry, Cocktail Party, Parm...      28.0   \n",
       "20126  [Side, Kid-Friendly, High Fiber, Dinner, Parme...     671.0   \n",
       "20127  [Onion, Poultry, turkey, Vegetable, Bake, Kid-...     563.0   \n",
       "20128  [Milk/Cream, Citrus, Dairy, Fish, Garlic, Past...     631.0   \n",
       "20129  [Pork, Bake, Roast, Christmas, Ham, Winter, Bo...     560.0   \n",
       "\n",
       "                                                    desc  protein  rating  \\\n",
       "20125                                               None      2.0   3.125   \n",
       "20126  Cooking the artichokes with the rice infuses t...     22.0   4.375   \n",
       "20127                                               None     31.0   4.375   \n",
       "20128  Sharon Hooykaas of Los Alamitos, California, w...     45.0   4.375   \n",
       "20129  Although labeled fully cooked, the ham will st...     73.0   4.375   \n",
       "\n",
       "                                            title  \\\n",
       "20125                              Parmesan Puffs   \n",
       "20126              Artichoke and Parmesan Risotto   \n",
       "20127                       Turkey Cream Puff Pie   \n",
       "20128     Snapper on Angel Hair with Citrus Cream   \n",
       "20129  Baked Ham with Marmalade-Horseradish Glaze   \n",
       "\n",
       "                                             ingredients  sodium  num_dir  \\\n",
       "20125  [2 large egg whites, 3 oz parmigiano-reggiano,...    64.0        2   \n",
       "20126  [5 1/2 cups (or more) low-salt chicken broth, ...   583.0        2   \n",
       "20127  [1 small tomato, 1 small onion, finely chopped...   652.0        6   \n",
       "20128  [4 tablespoons olive oil, 4 shallots, thinly s...   517.0        5   \n",
       "20129  [1 18-pound fully cooked bone-in smoked ham, r...  3698.0        3   \n",
       "\n",
       "       num_ing  num_cat                                       title_words  \\\n",
       "20125        3        8                                 [parmesan, puffs]   \n",
       "20126        8       16               [artichoke, and, parmesan, risotto]   \n",
       "20127       17       15                        [turkey, cream, puff, pie]   \n",
       "20128       18       13   [snapper, on, angel, hair, with, citrus, cream]   \n",
       "20129        7        7  [baked, ham, with, marmalade-horseradish, glaze]   \n",
       "\n",
       "                                             ing_cleaned  \\\n",
       "20125    [egg white, parmigiano reggiano, vegetable oil]   \n",
       "20126  [arborio rice, baby artichoke trimmed, butter,...   \n",
       "20127  [all purpose flour, all purpose flour sifted a...   \n",
       "20128  [additional orange peel, all purpose flour, an...   \n",
       "20129  [fresh orange juice, fully cooked bone in smok...   \n",
       "\n",
       "                                         ing_cleaned_all  \\\n",
       "20125        egg white parmigiano reggiano vegetable oil   \n",
       "20126  arborio rice baby artichoke trimmed butter dry...   \n",
       "20127  all purpose flour all purpose flour sifted aft...   \n",
       "20128  additional orange peel all purpose flour angel...   \n",
       "20129  fresh orange juice fully cooked bone in smoked...   \n",
       "\n",
       "                                               ing_index  \\\n",
       "20125                                      [62, 175, 12]   \n",
       "20126                 [410, 9992, 15, 20, 11, 54, 7, 46]   \n",
       "20127  [6, 33792, 112, 993, 4441, 1467, 110, 7, 175, ...   \n",
       "20128  [33794, 6, 2175, 387, 64, 16, 75, 3, 33795, 21...   \n",
       "20129                 [75, 8475, 56, 488, 33796, 5, 113]   \n",
       "\n",
       "                                               ing_assoc  \\\n",
       "20125  [[egg, egg white], [parmigiano], [vegetable oi...   \n",
       "20126  [[rice, arborio rice], [artichoke, baby artich...   \n",
       "20127  [[flour], [flour], [butter, unsalted butter], ...   \n",
       "20128  [[orange, orange peel], [flour], [pasta, angel...   \n",
       "20129  [[orange, orange juice, fresh, fresh orange ju...   \n",
       "\n",
       "                                         ing_assoc_index  \n",
       "20125                       [[9, 148], [1092], [24, 53]]  \n",
       "20126  [[89, 771], [954, 2757], [2], [62, 74, 138, 16...  \n",
       "20127  [[5], [5], [2, 28], [168, 803], [34, 138, 272,...  \n",
       "20128  [[50, 539], [5], [99, 1010], [1104], [54, 1007...  \n",
       "20129  [[50, 93, 1067, 3154, 3155], [198, 781, 1590],...  "
      ]
     },
     "execution_count": 147,
     "metadata": {},
     "output_type": "execute_result"
    }
   ],
   "source": [
    "df.tail()"
   ]
  },
  {
   "cell_type": "code",
   "execution_count": 153,
   "id": "adc9c3f4",
   "metadata": {
    "hidden": true
   },
   "outputs": [],
   "source": [
    "def flatten_unique(lofl):\n",
    "    all_el = [item for sublist in lofl for item in sublist]\n",
    "    return sorted(list(set(all_el)))"
   ]
  },
  {
   "cell_type": "code",
   "execution_count": 154,
   "id": "0c695109",
   "metadata": {
    "hidden": true
   },
   "outputs": [],
   "source": [
    "df['ing_assoc_list']=df.ing_assoc.apply(flatten_unique)\n",
    "df['ing_assoc_index_list']=df.ing_assoc_index.apply(flatten_unique)"
   ]
  },
  {
   "cell_type": "code",
   "execution_count": 155,
   "id": "abf731bb",
   "metadata": {
    "hidden": true
   },
   "outputs": [
    {
     "data": {
      "text/html": [
       "<div>\n",
       "<style scoped>\n",
       "    .dataframe tbody tr th:only-of-type {\n",
       "        vertical-align: middle;\n",
       "    }\n",
       "\n",
       "    .dataframe tbody tr th {\n",
       "        vertical-align: top;\n",
       "    }\n",
       "\n",
       "    .dataframe thead th {\n",
       "        text-align: right;\n",
       "    }\n",
       "</style>\n",
       "<table border=\"1\" class=\"dataframe\">\n",
       "  <thead>\n",
       "    <tr style=\"text-align: right;\">\n",
       "      <th></th>\n",
       "      <th>directions</th>\n",
       "      <th>fat</th>\n",
       "      <th>date</th>\n",
       "      <th>categories</th>\n",
       "      <th>calories</th>\n",
       "      <th>desc</th>\n",
       "      <th>protein</th>\n",
       "      <th>rating</th>\n",
       "      <th>title</th>\n",
       "      <th>ingredients</th>\n",
       "      <th>...</th>\n",
       "      <th>num_ing</th>\n",
       "      <th>num_cat</th>\n",
       "      <th>title_words</th>\n",
       "      <th>ing_cleaned</th>\n",
       "      <th>ing_cleaned_all</th>\n",
       "      <th>ing_index</th>\n",
       "      <th>ing_assoc</th>\n",
       "      <th>ing_assoc_index</th>\n",
       "      <th>ing_assoc_list</th>\n",
       "      <th>ing_assoc_index_list</th>\n",
       "    </tr>\n",
       "  </thead>\n",
       "  <tbody>\n",
       "    <tr>\n",
       "      <th>0</th>\n",
       "      <td>[1. Place the stock, lentils, celery, carrot, ...</td>\n",
       "      <td>7.0</td>\n",
       "      <td>2006-09-01 04:00:00+00:00</td>\n",
       "      <td>[Sandwich, Bean, Fruit, Tomato, turkey, Vegeta...</td>\n",
       "      <td>426.0</td>\n",
       "      <td>None</td>\n",
       "      <td>30.0</td>\n",
       "      <td>2.500</td>\n",
       "      <td>Lentil, Apple, and Turkey Wrap</td>\n",
       "      <td>[4 cups low-sodium vegetable or chicken stock,...</td>\n",
       "      <td>...</td>\n",
       "      <td>15</td>\n",
       "      <td>11</td>\n",
       "      <td>[lentil, apple, and, turkey, wrap]</td>\n",
       "      <td>[carrot, dried brown lentil, dried french gree...</td>\n",
       "      <td>carrot dried brown lentil dried french green l...</td>\n",
       "      <td>[23, 5199, 2504, 11, 1230, 13, 2505, 9, 84, 52...</td>\n",
       "      <td>[[carrot], [brown lentil], [green lentil], [ol...</td>\n",
       "      <td>[[45], [2337], [2352], [7, 8, 53, 69, 70], [13...</td>\n",
       "      <td>[apple, bibb lettuce, black pepper, breast, br...</td>\n",
       "      <td>[0, 1, 5, 7, 8, 10, 14, 15, 16, 19, 20, 32, 45...</td>\n",
       "    </tr>\n",
       "    <tr>\n",
       "      <th>1</th>\n",
       "      <td>[Combine first 9 ingredients in heavy medium s...</td>\n",
       "      <td>23.0</td>\n",
       "      <td>2004-08-20 04:00:00+00:00</td>\n",
       "      <td>[Food Processor, Onion, Pork, Bake, Bastille D...</td>\n",
       "      <td>403.0</td>\n",
       "      <td>This uses the same ingredients found in boudin...</td>\n",
       "      <td>18.0</td>\n",
       "      <td>4.375</td>\n",
       "      <td>Boudin Blanc Terrine with Red Onion Confit</td>\n",
       "      <td>[1 1/2 cups whipping cream, 2 medium onions, c...</td>\n",
       "      <td>...</td>\n",
       "      <td>28</td>\n",
       "      <td>11</td>\n",
       "      <td>[boudin, blanc, terrine, with, red, onion, con...</td>\n",
       "      <td>[all purpose flour, bay leaves, bay leaves, bu...</td>\n",
       "      <td>all purpose flour bay leaves bay leaves butter...</td>\n",
       "      <td>[6, 85, 85, 15, 462, 10022, 210, 210, 189, 10,...</td>\n",
       "      <td>[[flour], [bay leaves, bay], [bay leaves, bay]...</td>\n",
       "      <td>[[5], [173, 184], [173, 184], [2], [15, 47, 20...</td>\n",
       "      <td>[baguette, bay, bay leaves, bread, broth, butt...</td>\n",
       "      <td>[0, 1, 2, 3, 4, 5, 6, 7, 8, 9, 13, 15, 17, 21,...</td>\n",
       "    </tr>\n",
       "    <tr>\n",
       "      <th>2</th>\n",
       "      <td>[In a large heavy saucepan cook diced fennel a...</td>\n",
       "      <td>7.0</td>\n",
       "      <td>2004-08-20 04:00:00+00:00</td>\n",
       "      <td>[Soup/Stew, Dairy, Potato, Vegetable, Fennel, ...</td>\n",
       "      <td>165.0</td>\n",
       "      <td>None</td>\n",
       "      <td>6.0</td>\n",
       "      <td>3.750</td>\n",
       "      <td>Potato and Fennel Soup Hodge</td>\n",
       "      <td>[1 fennel bulb (sometimes called anise), stalk...</td>\n",
       "      <td>...</td>\n",
       "      <td>6</td>\n",
       "      <td>7</td>\n",
       "      <td>[potato, and, fennel, soup, hodge]</td>\n",
       "      <td>[chicken broth, fennel bulb stalk discarded bu...</td>\n",
       "      <td>chicken broth fennel bulb stalk discarded bulb...</td>\n",
       "      <td>[81, 10024, 42, 7, 100, 4]</td>\n",
       "      <td>[[chicken, chicken broth, broth], [garnish, fe...</td>\n",
       "      <td>[[15, 47, 201], [66, 256, 773, 2019], [11], [6...</td>\n",
       "      <td>[broth, bulb, butter, chicken, chicken broth, ...</td>\n",
       "      <td>[2, 6, 11, 15, 28, 33, 47, 66, 201, 256, 548, ...</td>\n",
       "    </tr>\n",
       "    <tr>\n",
       "      <th>3</th>\n",
       "      <td>[Heat oil in heavy large skillet over medium-h...</td>\n",
       "      <td>NaN</td>\n",
       "      <td>2009-03-27 04:00:00+00:00</td>\n",
       "      <td>[Fish, Olive, Tomato, Sauté, Low Fat, Low Cal,...</td>\n",
       "      <td>NaN</td>\n",
       "      <td>The Sicilian-style tomato sauce has tons of Me...</td>\n",
       "      <td>NaN</td>\n",
       "      <td>5.000</td>\n",
       "      <td>Mahi-Mahi in Tomato Olive Sauce</td>\n",
       "      <td>[2 tablespoons extra-virgin olive oil, 1 cup c...</td>\n",
       "      <td>...</td>\n",
       "      <td>10</td>\n",
       "      <td>17</td>\n",
       "      <td>[mahi-mahi, in, tomato, olive, sauce]</td>\n",
       "      <td>[anchovy paste, country style white bread thic...</td>\n",
       "      <td>anchovy paste country style white bread thick ...</td>\n",
       "      <td>[476, 10025, 20, 11, 173, 10026, 1913, 7, 67, ...</td>\n",
       "      <td>[[paste, anchovy, anchovy paste], [bread, whit...</td>\n",
       "      <td>[[505, 1082, 1581], [51, 377], [62, 74, 138, 1...</td>\n",
       "      <td>[anchovy, anchovy paste, basil, bread, dry, dr...</td>\n",
       "      <td>[3, 6, 7, 8, 16, 43, 50, 51, 53, 54, 62, 69, 7...</td>\n",
       "    </tr>\n",
       "    <tr>\n",
       "      <th>4</th>\n",
       "      <td>[Preheat oven to 350°F. Lightly grease 8x8x2-i...</td>\n",
       "      <td>32.0</td>\n",
       "      <td>2004-08-20 04:00:00+00:00</td>\n",
       "      <td>[Cheese, Dairy, Pasta, Vegetable, Side, Bake, ...</td>\n",
       "      <td>547.0</td>\n",
       "      <td>None</td>\n",
       "      <td>20.0</td>\n",
       "      <td>3.125</td>\n",
       "      <td>Spinach Noodle Casserole</td>\n",
       "      <td>[1 12-ounce package frozen spinach soufflé, th...</td>\n",
       "      <td>...</td>\n",
       "      <td>6</td>\n",
       "      <td>11</td>\n",
       "      <td>[spinach, noodle, casserole]</td>\n",
       "      <td>[extra wide egg noodle cooked, frozen spinach ...</td>\n",
       "      <td>extra wide egg noodle cooked frozen spinach so...</td>\n",
       "      <td>[10028, 5202, 86, 2177, 346, 38]</td>\n",
       "      <td>[[egg, noodle, egg noodle, wide egg noodle], [...</td>\n",
       "      <td>[[9, 147, 443, 1283], [80, 396], [60, 199], [5...</td>\n",
       "      <td>[cheddar, cheddar cheese, cheese, cream, egg, ...</td>\n",
       "      <td>[9, 12, 13, 35, 37, 42, 60, 80, 147, 199, 257,...</td>\n",
       "    </tr>\n",
       "  </tbody>\n",
       "</table>\n",
       "<p>5 rows × 22 columns</p>\n",
       "</div>"
      ],
      "text/plain": [
       "                                          directions   fat  \\\n",
       "0  [1. Place the stock, lentils, celery, carrot, ...   7.0   \n",
       "1  [Combine first 9 ingredients in heavy medium s...  23.0   \n",
       "2  [In a large heavy saucepan cook diced fennel a...   7.0   \n",
       "3  [Heat oil in heavy large skillet over medium-h...   NaN   \n",
       "4  [Preheat oven to 350°F. Lightly grease 8x8x2-i...  32.0   \n",
       "\n",
       "                       date  \\\n",
       "0 2006-09-01 04:00:00+00:00   \n",
       "1 2004-08-20 04:00:00+00:00   \n",
       "2 2004-08-20 04:00:00+00:00   \n",
       "3 2009-03-27 04:00:00+00:00   \n",
       "4 2004-08-20 04:00:00+00:00   \n",
       "\n",
       "                                          categories  calories  \\\n",
       "0  [Sandwich, Bean, Fruit, Tomato, turkey, Vegeta...     426.0   \n",
       "1  [Food Processor, Onion, Pork, Bake, Bastille D...     403.0   \n",
       "2  [Soup/Stew, Dairy, Potato, Vegetable, Fennel, ...     165.0   \n",
       "3  [Fish, Olive, Tomato, Sauté, Low Fat, Low Cal,...       NaN   \n",
       "4  [Cheese, Dairy, Pasta, Vegetable, Side, Bake, ...     547.0   \n",
       "\n",
       "                                                desc  protein  rating  \\\n",
       "0                                               None     30.0   2.500   \n",
       "1  This uses the same ingredients found in boudin...     18.0   4.375   \n",
       "2                                               None      6.0   3.750   \n",
       "3  The Sicilian-style tomato sauce has tons of Me...      NaN   5.000   \n",
       "4                                               None     20.0   3.125   \n",
       "\n",
       "                                        title  \\\n",
       "0              Lentil, Apple, and Turkey Wrap   \n",
       "1  Boudin Blanc Terrine with Red Onion Confit   \n",
       "2                Potato and Fennel Soup Hodge   \n",
       "3             Mahi-Mahi in Tomato Olive Sauce   \n",
       "4                    Spinach Noodle Casserole   \n",
       "\n",
       "                                         ingredients  ...  num_ing  num_cat  \\\n",
       "0  [4 cups low-sodium vegetable or chicken stock,...  ...       15       11   \n",
       "1  [1 1/2 cups whipping cream, 2 medium onions, c...  ...       28       11   \n",
       "2  [1 fennel bulb (sometimes called anise), stalk...  ...        6        7   \n",
       "3  [2 tablespoons extra-virgin olive oil, 1 cup c...  ...       10       17   \n",
       "4  [1 12-ounce package frozen spinach soufflé, th...  ...        6       11   \n",
       "\n",
       "                                         title_words  \\\n",
       "0                 [lentil, apple, and, turkey, wrap]   \n",
       "1  [boudin, blanc, terrine, with, red, onion, con...   \n",
       "2                 [potato, and, fennel, soup, hodge]   \n",
       "3              [mahi-mahi, in, tomato, olive, sauce]   \n",
       "4                       [spinach, noodle, casserole]   \n",
       "\n",
       "                                         ing_cleaned  \\\n",
       "0  [carrot, dried brown lentil, dried french gree...   \n",
       "1  [all purpose flour, bay leaves, bay leaves, bu...   \n",
       "2  [chicken broth, fennel bulb stalk discarded bu...   \n",
       "3  [anchovy paste, country style white bread thic...   \n",
       "4  [extra wide egg noodle cooked, frozen spinach ...   \n",
       "\n",
       "                                     ing_cleaned_all  \\\n",
       "0  carrot dried brown lentil dried french green l...   \n",
       "1  all purpose flour bay leaves bay leaves butter...   \n",
       "2  chicken broth fennel bulb stalk discarded bulb...   \n",
       "3  anchovy paste country style white bread thick ...   \n",
       "4  extra wide egg noodle cooked frozen spinach so...   \n",
       "\n",
       "                                           ing_index  \\\n",
       "0  [23, 5199, 2504, 11, 1230, 13, 2505, 9, 84, 52...   \n",
       "1  [6, 85, 85, 15, 462, 10022, 210, 210, 189, 10,...   \n",
       "2                         [81, 10024, 42, 7, 100, 4]   \n",
       "3  [476, 10025, 20, 11, 173, 10026, 1913, 7, 67, ...   \n",
       "4                   [10028, 5202, 86, 2177, 346, 38]   \n",
       "\n",
       "                                           ing_assoc  \\\n",
       "0  [[carrot], [brown lentil], [green lentil], [ol...   \n",
       "1  [[flour], [bay leaves, bay], [bay leaves, bay]...   \n",
       "2  [[chicken, chicken broth, broth], [garnish, fe...   \n",
       "3  [[paste, anchovy, anchovy paste], [bread, whit...   \n",
       "4  [[egg, noodle, egg noodle, wide egg noodle], [...   \n",
       "\n",
       "                                     ing_assoc_index  \\\n",
       "0  [[45], [2337], [2352], [7, 8, 53, 69, 70], [13...   \n",
       "1  [[5], [173, 184], [173, 184], [2], [15, 47, 20...   \n",
       "2  [[15, 47, 201], [66, 256, 773, 2019], [11], [6...   \n",
       "3  [[505, 1082, 1581], [51, 377], [62, 74, 138, 1...   \n",
       "4  [[9, 147, 443, 1283], [80, 396], [60, 199], [5...   \n",
       "\n",
       "                                      ing_assoc_list  \\\n",
       "0  [apple, bibb lettuce, black pepper, breast, br...   \n",
       "1  [baguette, bay, bay leaves, bread, broth, butt...   \n",
       "2  [broth, bulb, butter, chicken, chicken broth, ...   \n",
       "3  [anchovy, anchovy paste, basil, bread, dry, dr...   \n",
       "4  [cheddar, cheddar cheese, cheese, cream, egg, ...   \n",
       "\n",
       "                                ing_assoc_index_list  \n",
       "0  [0, 1, 5, 7, 8, 10, 14, 15, 16, 19, 20, 32, 45...  \n",
       "1  [0, 1, 2, 3, 4, 5, 6, 7, 8, 9, 13, 15, 17, 21,...  \n",
       "2  [2, 6, 11, 15, 28, 33, 47, 66, 201, 256, 548, ...  \n",
       "3  [3, 6, 7, 8, 16, 43, 50, 51, 53, 54, 62, 69, 7...  \n",
       "4  [9, 12, 13, 35, 37, 42, 60, 80, 147, 199, 257,...  \n",
       "\n",
       "[5 rows x 22 columns]"
      ]
     },
     "execution_count": 155,
     "metadata": {},
     "output_type": "execute_result"
    }
   ],
   "source": [
    "df.head()"
   ]
  },
  {
   "cell_type": "code",
   "execution_count": 96,
   "id": "d5bc9b5b",
   "metadata": {
    "hidden": true
   },
   "outputs": [
    {
     "data": {
      "text/html": [
       "<div>\n",
       "<style scoped>\n",
       "    .dataframe tbody tr th:only-of-type {\n",
       "        vertical-align: middle;\n",
       "    }\n",
       "\n",
       "    .dataframe tbody tr th {\n",
       "        vertical-align: top;\n",
       "    }\n",
       "\n",
       "    .dataframe thead th {\n",
       "        text-align: right;\n",
       "    }\n",
       "</style>\n",
       "<table border=\"1\" class=\"dataframe\">\n",
       "  <thead>\n",
       "    <tr style=\"text-align: right;\">\n",
       "      <th></th>\n",
       "      <th>original_unique</th>\n",
       "      <th>original_ind</th>\n",
       "      <th>assoc</th>\n",
       "      <th>assoc_index</th>\n",
       "    </tr>\n",
       "  </thead>\n",
       "  <tbody>\n",
       "    <tr>\n",
       "      <th>10028</th>\n",
       "      <td>extra wide egg noodle cooked</td>\n",
       "      <td>10028</td>\n",
       "      <td>[egg, noodle, egg noodle, wide egg noodle]</td>\n",
       "      <td>[9, 147, 443, 1283]</td>\n",
       "    </tr>\n",
       "  </tbody>\n",
       "</table>\n",
       "</div>"
      ],
      "text/plain": [
       "                    original_unique  original_ind  \\\n",
       "10028  extra wide egg noodle cooked         10028   \n",
       "\n",
       "                                            assoc          assoc_index  \n",
       "10028  [egg, noodle, egg noodle, wide egg noodle]  [9, 147, 443, 1283]  "
      ]
     },
     "execution_count": 96,
     "metadata": {},
     "output_type": "execute_result"
    }
   ],
   "source": [
    "df.to_json(save_dir+'epicurious_ing_cleaned.json')"
   ]
  },
  {
   "cell_type": "code",
   "execution_count": 101,
   "id": "5b064e08",
   "metadata": {
    "hidden": true
   },
   "outputs": [
    {
     "data": {
      "text/html": [
       "<div>\n",
       "<style scoped>\n",
       "    .dataframe tbody tr th:only-of-type {\n",
       "        vertical-align: middle;\n",
       "    }\n",
       "\n",
       "    .dataframe tbody tr th {\n",
       "        vertical-align: top;\n",
       "    }\n",
       "\n",
       "    .dataframe thead th {\n",
       "        text-align: right;\n",
       "    }\n",
       "</style>\n",
       "<table border=\"1\" class=\"dataframe\">\n",
       "  <thead>\n",
       "    <tr style=\"text-align: right;\">\n",
       "      <th></th>\n",
       "      <th>original_unique</th>\n",
       "      <th>original_ind</th>\n",
       "      <th>assoc</th>\n",
       "      <th>assoc_index</th>\n",
       "      <th>num_assoc</th>\n",
       "    </tr>\n",
       "  </thead>\n",
       "  <tbody>\n",
       "    <tr>\n",
       "      <th>10509</th>\n",
       "      <td>accompaniment avocado crema queso fresco icebe...</td>\n",
       "      <td>10509</td>\n",
       "      <td>[pepper, onion, oregano, red pepper, pepper fl...</td>\n",
       "      <td>[1, 6, 43, 44, 100, 112, 116, 128, 145, 151, 1...</td>\n",
       "      <td>22</td>\n",
       "    </tr>\n",
       "    <tr>\n",
       "      <th>18854</th>\n",
       "      <td>ingredient info kaffir lime leave are leave ka...</td>\n",
       "      <td>18854</td>\n",
       "      <td>[milk, lime juice, coconut, unsweetened, lime,...</td>\n",
       "      <td>[11, 75, 79, 98, 179, 226, 317, 599, 602, 617,...</td>\n",
       "      <td>19</td>\n",
       "    </tr>\n",
       "    <tr>\n",
       "      <th>33377</th>\n",
       "      <td>accompaniment fresh bean sprouts very onion fr...</td>\n",
       "      <td>33377</td>\n",
       "      <td>[onion, cilantro, basil, bean, scallion, lime,...</td>\n",
       "      <td>[6, 38, 54, 68, 131, 179, 197, 222, 304, 317, ...</td>\n",
       "      <td>18</td>\n",
       "    </tr>\n",
       "    <tr>\n",
       "      <th>10283</th>\n",
       "      <td>in bowl put out pineapple mango watermelon kiw...</td>\n",
       "      <td>10283</td>\n",
       "      <td>[lemon, orange, basil, syrup, pineapple, straw...</td>\n",
       "      <td>[14, 50, 54, 86, 115, 172, 179, 187, 222, 286,...</td>\n",
       "      <td>18</td>\n",
       "    </tr>\n",
       "    <tr>\n",
       "      <th>11247</th>\n",
       "      <td>accompaniment fried tortilla strips california...</td>\n",
       "      <td>11247</td>\n",
       "      <td>[pepper, onion, oregano, red pepper, pepper fl...</td>\n",
       "      <td>[1, 6, 43, 44, 100, 112, 116, 128, 145, 146, 1...</td>\n",
       "      <td>18</td>\n",
       "    </tr>\n",
       "    <tr>\n",
       "      <th>...</th>\n",
       "      <td>...</td>\n",
       "      <td>...</td>\n",
       "      <td>...</td>\n",
       "      <td>...</td>\n",
       "      <td>...</td>\n",
       "    </tr>\n",
       "    <tr>\n",
       "      <th>13984</th>\n",
       "      <td>four bamboo skewer</td>\n",
       "      <td>13984</td>\n",
       "      <td>[]</td>\n",
       "      <td>[]</td>\n",
       "      <td>0</td>\n",
       "    </tr>\n",
       "    <tr>\n",
       "      <th>32366</th>\n",
       "      <td>ramp</td>\n",
       "      <td>32366</td>\n",
       "      <td>[]</td>\n",
       "      <td>[]</td>\n",
       "      <td>0</td>\n",
       "    </tr>\n",
       "    <tr>\n",
       "      <th>32364</th>\n",
       "      <td>head frise torn apart</td>\n",
       "      <td>32364</td>\n",
       "      <td>[]</td>\n",
       "      <td>[]</td>\n",
       "      <td>0</td>\n",
       "    </tr>\n",
       "    <tr>\n",
       "      <th>9664</th>\n",
       "      <td>vegenaise</td>\n",
       "      <td>9664</td>\n",
       "      <td>[]</td>\n",
       "      <td>[]</td>\n",
       "      <td>0</td>\n",
       "    </tr>\n",
       "    <tr>\n",
       "      <th>10019</th>\n",
       "      <td>available at specialty food store italian mark...</td>\n",
       "      <td>10019</td>\n",
       "      <td>[]</td>\n",
       "      <td>[]</td>\n",
       "      <td>0</td>\n",
       "    </tr>\n",
       "  </tbody>\n",
       "</table>\n",
       "<p>33797 rows × 5 columns</p>\n",
       "</div>"
      ],
      "text/plain": [
       "                                         original_unique  original_ind  \\\n",
       "10509  accompaniment avocado crema queso fresco icebe...         10509   \n",
       "18854  ingredient info kaffir lime leave are leave ka...         18854   \n",
       "33377  accompaniment fresh bean sprouts very onion fr...         33377   \n",
       "10283  in bowl put out pineapple mango watermelon kiw...         10283   \n",
       "11247  accompaniment fried tortilla strips california...         11247   \n",
       "...                                                  ...           ...   \n",
       "13984                                 four bamboo skewer         13984   \n",
       "32366                                               ramp         32366   \n",
       "32364                              head frise torn apart         32364   \n",
       "9664                                           vegenaise          9664   \n",
       "10019  available at specialty food store italian mark...         10019   \n",
       "\n",
       "                                                   assoc  \\\n",
       "10509  [pepper, onion, oregano, red pepper, pepper fl...   \n",
       "18854  [milk, lime juice, coconut, unsweetened, lime,...   \n",
       "33377  [onion, cilantro, basil, bean, scallion, lime,...   \n",
       "10283  [lemon, orange, basil, syrup, pineapple, straw...   \n",
       "11247  [pepper, onion, oregano, red pepper, pepper fl...   \n",
       "...                                                  ...   \n",
       "13984                                                 []   \n",
       "32366                                                 []   \n",
       "32364                                                 []   \n",
       "9664                                                  []   \n",
       "10019                                                 []   \n",
       "\n",
       "                                             assoc_index  num_assoc  \n",
       "10509  [1, 6, 43, 44, 100, 112, 116, 128, 145, 151, 1...         22  \n",
       "18854  [11, 75, 79, 98, 179, 226, 317, 599, 602, 617,...         19  \n",
       "33377  [6, 38, 54, 68, 131, 179, 197, 222, 304, 317, ...         18  \n",
       "10283  [14, 50, 54, 86, 115, 172, 179, 187, 222, 286,...         18  \n",
       "11247  [1, 6, 43, 44, 100, 112, 116, 128, 145, 146, 1...         18  \n",
       "...                                                  ...        ...  \n",
       "13984                                                 []          0  \n",
       "32366                                                 []          0  \n",
       "32364                                                 []          0  \n",
       "9664                                                  []          0  \n",
       "10019                                                 []          0  \n",
       "\n",
       "[33797 rows x 5 columns]"
      ]
     },
     "execution_count": 101,
     "metadata": {},
     "output_type": "execute_result"
    }
   ],
   "source": [
    "df_map['num_assoc']=df_map.assoc_index.apply(len)\n",
    "df_map.sort_values('num_assoc',ascending=False)"
   ]
  },
  {
   "cell_type": "markdown",
   "id": "dcff451f",
   "metadata": {
    "heading_collapsed": true
   },
   "source": [
    "#### Mapping all recipes to each clean ingredients"
   ]
  },
  {
   "cell_type": "code",
   "execution_count": 181,
   "id": "a2596d50",
   "metadata": {
    "hidden": true
   },
   "outputs": [],
   "source": [
    "df_cleaned['recipes_index']=''\n",
    "df_cleaned['recipes_titles']=''\n",
    "\n",
    "#df = df.drop(columns=['ing_index','ing_assoc','ing_assoc_index'])"
   ]
  },
  {
   "cell_type": "code",
   "execution_count": 182,
   "id": "8b3e09a1",
   "metadata": {
    "hidden": true
   },
   "outputs": [
    {
     "data": {
      "text/plain": [
       "datetime.timedelta(seconds=2685, microseconds=738461)"
      ]
     },
     "execution_count": 182,
     "metadata": {},
     "output_type": "execute_result"
    }
   ],
   "source": [
    "first_time = datetime.datetime.now()\n",
    "\n",
    "for i in df_cleaned.index:\n",
    "    recipes_index  = []\n",
    "    recipes_titles = []\n",
    "    \n",
    "    for rec in df.index:\n",
    "        #print(df.title.iloc[rec])\n",
    "        list_all_ing_assoc = df.ing_assoc_index_list.loc[rec]\n",
    "        if df_cleaned.cleaned_ind.iloc[i] in list_all_ing_assoc:\n",
    "            \n",
    "            recipes_index.append( rec )\n",
    "            recipes_titles.append( df.title.loc[rec] )\n",
    "        \n",
    "    df_cleaned.at[i,'recipes_index'] = recipes_index\n",
    "    df_cleaned.at[i,'recipes_titles']= recipes_titles\n",
    "    \n",
    "    \n",
    "        \n",
    "        \n",
    "later_time = datetime.datetime.now()\n",
    "later_time - first_time"
   ]
  },
  {
   "cell_type": "code",
   "execution_count": 184,
   "id": "79eca089",
   "metadata": {
    "hidden": true
   },
   "outputs": [
    {
     "data": {
      "text/html": [
       "<div>\n",
       "<style scoped>\n",
       "    .dataframe tbody tr th:only-of-type {\n",
       "        vertical-align: middle;\n",
       "    }\n",
       "\n",
       "    .dataframe tbody tr th {\n",
       "        vertical-align: top;\n",
       "    }\n",
       "\n",
       "    .dataframe thead th {\n",
       "        text-align: right;\n",
       "    }\n",
       "</style>\n",
       "<table border=\"1\" class=\"dataframe\">\n",
       "  <thead>\n",
       "    <tr style=\"text-align: right;\">\n",
       "      <th></th>\n",
       "      <th>cleaned</th>\n",
       "      <th>cleaned_ind</th>\n",
       "      <th>recipes_index</th>\n",
       "      <th>recipes_titles</th>\n",
       "    </tr>\n",
       "  </thead>\n",
       "  <tbody>\n",
       "    <tr>\n",
       "      <th>3335</th>\n",
       "      <td>poblano chilie</td>\n",
       "      <td>3335</td>\n",
       "      <td>[62, 471, 1778, 2262, 3402, 3757, 3769, 4711, ...</td>\n",
       "      <td>[Southwest Corn Bread Stuffing with Corn and G...</td>\n",
       "    </tr>\n",
       "    <tr>\n",
       "      <th>3336</th>\n",
       "      <td>crystal hot sauce</td>\n",
       "      <td>3336</td>\n",
       "      <td>[]</td>\n",
       "      <td>[]</td>\n",
       "    </tr>\n",
       "    <tr>\n",
       "      <th>3337</th>\n",
       "      <td>watercress leave</td>\n",
       "      <td>3337</td>\n",
       "      <td>[568, 3045, 4046, 8597, 8775, 8818, 10348, 133...</td>\n",
       "      <td>[Lentil Croquettes with Watercress and Kefir, ...</td>\n",
       "    </tr>\n",
       "    <tr>\n",
       "      <th>3338</th>\n",
       "      <td>emeril essence</td>\n",
       "      <td>3338</td>\n",
       "      <td>[]</td>\n",
       "      <td>[]</td>\n",
       "    </tr>\n",
       "    <tr>\n",
       "      <th>3339</th>\n",
       "      <td>corn flake cereal</td>\n",
       "      <td>3339</td>\n",
       "      <td>[]</td>\n",
       "      <td>[]</td>\n",
       "    </tr>\n",
       "  </tbody>\n",
       "</table>\n",
       "</div>"
      ],
      "text/plain": [
       "                cleaned  cleaned_ind  \\\n",
       "3335     poblano chilie         3335   \n",
       "3336  crystal hot sauce         3336   \n",
       "3337   watercress leave         3337   \n",
       "3338     emeril essence         3338   \n",
       "3339  corn flake cereal         3339   \n",
       "\n",
       "                                          recipes_index  \\\n",
       "3335  [62, 471, 1778, 2262, 3402, 3757, 3769, 4711, ...   \n",
       "3336                                                 []   \n",
       "3337  [568, 3045, 4046, 8597, 8775, 8818, 10348, 133...   \n",
       "3338                                                 []   \n",
       "3339                                                 []   \n",
       "\n",
       "                                         recipes_titles  \n",
       "3335  [Southwest Corn Bread Stuffing with Corn and G...  \n",
       "3336                                                 []  \n",
       "3337  [Lentil Croquettes with Watercress and Kefir, ...  \n",
       "3338                                                 []  \n",
       "3339                                                 []  "
      ]
     },
     "execution_count": 184,
     "metadata": {},
     "output_type": "execute_result"
    }
   ],
   "source": [
    "df_cleaned.tail()"
   ]
  },
  {
   "cell_type": "code",
   "execution_count": null,
   "id": "e291181b",
   "metadata": {
    "hidden": true
   },
   "outputs": [],
   "source": []
  },
  {
   "cell_type": "code",
   "execution_count": null,
   "id": "9c57bda8",
   "metadata": {
    "hidden": true
   },
   "outputs": [],
   "source": []
  },
  {
   "cell_type": "markdown",
   "id": "cbdd42b3",
   "metadata": {
    "heading_collapsed": true
   },
   "source": [
    "#### Test"
   ]
  },
  {
   "cell_type": "code",
   "execution_count": null,
   "id": "68b74e94",
   "metadata": {
    "hidden": true
   },
   "outputs": [],
   "source": [
    "if clean=='salt' and re.findall('low salt|no salt|lowsalt',ing)!=[]: continue\n",
    "            if clean!='broth' and re.findall('broth',ing)!=[]: continue\n",
    "            "
   ]
  },
  {
   "cell_type": "code",
   "execution_count": 199,
   "id": "6b0556ff",
   "metadata": {
    "hidden": true,
    "scrolled": true
   },
   "outputs": [
    {
     "name": "stdout",
     "output_type": "stream",
     "text": [
      "green --> frozen sugar snap green peas\n",
      "brown sugar --> granulated brown sugar each\n",
      "cream --> nutmeg ice cream andbourbon burnt sugar sauce as accompaniments\n",
      "sauce --> nutmeg ice cream andbourbon burnt sugar sauce as accompaniments\n",
      "brown sugar --> golden brown sugar white sugar\n",
      "cream --> peach brown sugar ice cream as an accompaniment if desired\n",
      "brown sugar --> peach brown sugar ice cream as an accompaniment if desired\n",
      "cream --> peach brown sugar ice cream vanilla ice cream as an accompaniment if desired\n",
      "brown sugar --> peach brown sugar ice cream vanilla ice cream as an accompaniment if desired\n",
      "vanilla --> peach brown sugar ice cream vanilla ice cream as an accompaniment if desired\n",
      "beans --> green beans trimmed sugar snap peas\n",
      "cream --> peach brown sugar ice cream vanilla cream as an accompaniment\n",
      "brown sugar --> peach brown sugar ice cream vanilla cream as an accompaniment\n",
      "vanilla --> peach brown sugar ice cream vanilla cream as an accompaniment\n",
      "brown sugar --> oven dried brown sugar turbinado sugar\n",
      "corn --> nutri grain other no sugar corn wheat flakes\n",
      "brown sugar --> turbinado sugar is raw sugar that has been steam cleaned crystals are blond in color delicate molasses flavor demerara sugar light brown sugar raw sugar be substituted\n",
      "brown sugar --> light brown sugar raw sugar\n",
      "yellow --> chinese yellow rock sugar sugar\n",
      "brown sugar --> turbinado sugar such as sugar in raw light brown sugar forced through sieve\n",
      "cheese --> parmesan cheese sugar topping\n",
      "chocolate --> confectioners sugar additional dusting white chocolate leather\n",
      "brown sugar --> dark brown sugar honey\n",
      "sauce --> ingredient info palm sugar is available at indian asian markets fish sauce is sold at asian markets better supermarkets\n",
      "white sugar --> granulated maple sugar white sugar yeast\n",
      "ginger --> brown sugar ginger ice cream\n",
      "brown sugar --> garnish brown sugar buttercream\n",
      "vanilla --> scant vanilla sugar made light brown sugar\n",
      "brown sugar --> honey light brown sugar maple syrup undiluted frozen apple pineapple juice concentrate\n",
      "granulated sugar --> superfine granulated sugar additional coating soup plates\n",
      "brown sugar --> light brown sugar sifted\n",
      "cinnamon --> powdered sugar cinnamon sugar\n",
      "brown sugar --> dark brown sugar additional sprinkling\n",
      "lemon --> each dark brown sugar chili powder fresh lemon juice worcestershire sauce\n",
      "brown sugar --> each dark brown sugar chili powder fresh lemon juice worcestershire sauce\n",
      "lemon juice --> each dark brown sugar chili powder fresh lemon juice worcestershire sauce\n",
      "cream --> purchased ice cream sugar cones broken\n",
      "brown sugar --> light brown sugar maple syrup\n",
      "granulated sugar --> kuro sato granulated sugar robust flavored molasses\n",
      "vanilla --> powdered sugar vanilla ice cream\n",
      "extra --> confectioners sugar extra dusting\n"
     ]
    }
   ],
   "source": [
    "for i in ref['sugar']:\n",
    "    for clean in cleaned_filtered_top_3500[:100]:\n",
    "        r = re.compile(r'.*\\s{}\\s'.format(clean),re.IGNORECASE)\n",
    "        if clean=='sugar': continue\n",
    "        if r.match(i):\n",
    "            print(clean,'-->',i)"
   ]
  },
  {
   "cell_type": "code",
   "execution_count": null,
   "id": "67298e1c",
   "metadata": {
    "hidden": true
   },
   "outputs": [],
   "source": [
    "clean_to_remove=[]\n",
    "\n",
    "'pepper' remove if 'bell'\n",
    "chicken remove if broth\n",
    "\n",
    "'low salt','no salt','lowsalt'"
   ]
  },
  {
   "cell_type": "code",
   "execution_count": 187,
   "id": "1ad501a2",
   "metadata": {
    "hidden": true
   },
   "outputs": [
    {
     "data": {
      "text/plain": [
       "True"
      ]
     },
     "execution_count": 187,
     "metadata": {},
     "output_type": "execute_result"
    }
   ],
   "source": [
    "'broth' in cleaned_filtered_top_3500"
   ]
  },
  {
   "cell_type": "code",
   "execution_count": null,
   "id": "ee0fd892",
   "metadata": {
    "hidden": true
   },
   "outputs": [],
   "source": []
  },
  {
   "cell_type": "markdown",
   "id": "080f8979",
   "metadata": {},
   "source": [
    "### Wrapper for app"
   ]
  },
  {
   "cell_type": "code",
   "execution_count": 14,
   "id": "6213bf12",
   "metadata": {},
   "outputs": [],
   "source": [
    "def match_string(keywords, title, how='any'):\n",
    "    found = 0\n",
    "    for pattern in keywords:\n",
    "        if re.search(pattern, title, re.IGNORECASE):\n",
    "            if how == 'any':\n",
    "                return True\n",
    "            if how == 'all':\n",
    "                found += 1\n",
    "    if found == len(keywords):\n",
    "        return True\n",
    "    else:\n",
    "        return False"
   ]
  },
  {
   "cell_type": "code",
   "execution_count": 10,
   "id": "73618fa4",
   "metadata": {},
   "outputs": [],
   "source": [
    "def load_recipes():\n",
    "    \"\"\"Loads recipe dataframe\"\"\"\n",
    "    return pd.read_json(save_dir + 'epicurious_cuisine.json')\n",
    "df = load_recipes()"
   ]
  },
  {
   "cell_type": "code",
   "execution_count": 20,
   "id": "c1a388bb",
   "metadata": {},
   "outputs": [
    {
     "name": "stdout",
     "output_type": "stream",
     "text": [
      "['italian' 'french' 'southern_us' 'mexican' 'korean' 'thai' 'indian'\n",
      " 'greek' 'british' 'moroccan' 'russian' 'japanese' 'spanish' 'irish'\n",
      " 'chinese' 'cajun_creole' 'filipino' 'jamaican' 'vietnamese' 'brazilian']\n"
     ]
    }
   ],
   "source": [
    "cuisine_list = df.cuisine.unique()\n",
    "print(cuisine_list)"
   ]
  },
  {
   "cell_type": "code",
   "execution_count": null,
   "id": "cff85f12",
   "metadata": {},
   "outputs": [],
   "source": []
  },
  {
   "cell_type": "code",
   "execution_count": 30,
   "id": "0745cbc0",
   "metadata": {},
   "outputs": [],
   "source": [
    "def get_recipes(df,rec_id=None, kw=None, cuis=[]):\n",
    "    \"\"\"\n",
    "    Query on recipe dataframe from keyword ingredients, matching all of them\n",
    "    :param rec_id: Recipe Id to retrieve a single recipe to be displayed on its page\n",
    "    :param kw: List of ingredients\n",
    "    :param cuis: List of cuisine selected\n",
    "    :return: dictionary\n",
    "    \"\"\"\n",
    "    if kw is not None:\n",
    "        kw = [k.strip() for k in kw.split(' ')]\n",
    "        mask = df.ing_cleaned_all.apply(lambda t: match_string(kw, t, 'all'))\n",
    "    if rec_id is not None:\n",
    "        mask = df.recipe_id == int(rec_id)        \n",
    "    df_sel  = df[mask]\n",
    "    if cuis!=[]:\n",
    "        df_sel = sort_cuis(df_sel,cuis)\n",
    "    return df_sel #[['recipe_id', 'title', 'ing_cleaned', 'ingredients', 'directions','cuisine']]#.to_dict('records')\n",
    "col = ['recipe_id', 'title', 'ing_cleaned', 'ingredients', 'directions','cuisine']"
   ]
  },
  {
   "cell_type": "code",
   "execution_count": 130,
   "id": "36a9b7a1",
   "metadata": {
    "scrolled": true
   },
   "outputs": [],
   "source": [
    "def sort_cuis(df,cuis_list):\n",
    "    ind_list,ind_list_match={},{}\n",
    "    ind_sorted=[]\n",
    "    \n",
    "    for cui in cuis_list:\n",
    "        ind_list_match[cui] = list(df[df.cuisine==cui].sort_values(cui,ascending=False).index)\n",
    "        ind_list[cui] = list(df.sort_values(cui,ascending=False).index)\n",
    "    \n",
    "    for i in range(max([len(l) for l in ind_list_match.values()])):         \n",
    "        for cui in cuis_list:\n",
    "            try:\n",
    "                ind_sorted.append(ind_list_match[cui][i])\n",
    "            except:\n",
    "                pass\n",
    "            \n",
    "    for i in range(len(df.index)):         \n",
    "        for cui in cuis_list:\n",
    "            if ind_list[cui][i] not in ind_sorted:\n",
    "                ind_sorted.append(ind_list[cui][i])\n",
    "                \n",
    "    \n",
    "    df = df.loc[ind_sorted]\n",
    "    return df"
   ]
  },
  {
   "cell_type": "code",
   "execution_count": 131,
   "id": "01c52e18",
   "metadata": {},
   "outputs": [],
   "source": [
    "df_test[df_test.cuisine=='mexican']\n",
    "cuis_list=['mexican','french']\n",
    "cuis_list.remove('mexican')\n",
    "d={'a':[3,5,4],'b': [3,6]}\n"
   ]
  },
  {
   "cell_type": "code",
   "execution_count": 138,
   "id": "acf0d4ec",
   "metadata": {},
   "outputs": [
    {
     "name": "stdout",
     "output_type": "stream",
     "text": [
      "no index 1 match for cuisine italian\n",
      "no index 2 match for cuisine italian\n",
      "no index 2 match for cuisine japanese\n",
      "no index 3 match for cuisine italian\n",
      "no index 3 match for cuisine japanese\n"
     ]
    },
    {
     "data": {
      "text/html": [
       "<div>\n",
       "<style scoped>\n",
       "    .dataframe tbody tr th:only-of-type {\n",
       "        vertical-align: middle;\n",
       "    }\n",
       "\n",
       "    .dataframe tbody tr th {\n",
       "        vertical-align: top;\n",
       "    }\n",
       "\n",
       "    .dataframe thead th {\n",
       "        text-align: right;\n",
       "    }\n",
       "</style>\n",
       "<table border=\"1\" class=\"dataframe\">\n",
       "  <thead>\n",
       "    <tr style=\"text-align: right;\">\n",
       "      <th></th>\n",
       "      <th>recipe_id</th>\n",
       "      <th>title</th>\n",
       "      <th>ing_cleaned</th>\n",
       "      <th>ingredients</th>\n",
       "      <th>directions</th>\n",
       "      <th>cuisine</th>\n",
       "    </tr>\n",
       "  </thead>\n",
       "  <tbody>\n",
       "    <tr>\n",
       "      <th>8108</th>\n",
       "      <td>8108</td>\n",
       "      <td>Salmon with Mushroom Orzo and Red Wine Sauce</td>\n",
       "      <td>[bay leaves, canned beef broth, canned low sal...</td>\n",
       "      <td>[7 tablespoons olive oil, 1 large onion, slice...</td>\n",
       "      <td>[Heat 2 tablespoons oil in heavy large saucepa...</td>\n",
       "      <td>french</td>\n",
       "    </tr>\n",
       "    <tr>\n",
       "      <th>18669</th>\n",
       "      <td>18669</td>\n",
       "      <td>Rosemary-Rubbed Side of Salmon with Roasted Po...</td>\n",
       "      <td>[crimini mushroom quartered if if assorted sal...</td>\n",
       "      <td>[1 1/2 cups loosely packed fresh rosemary leav...</td>\n",
       "      <td>[Blend rosemary, salt, and pepper in processor...</td>\n",
       "      <td>italian</td>\n",
       "    </tr>\n",
       "    <tr>\n",
       "      <th>13676</th>\n",
       "      <td>13676</td>\n",
       "      <td>Miso-Marinated Salmon with Citrus and Shiitakes</td>\n",
       "      <td>[fresh cilantro leave, fresh lemon juice, fres...</td>\n",
       "      <td>[2 (3-lb) whole salmon fillets with skin, any ...</td>\n",
       "      <td>[Line a large shallow (1-inch-deep) baking pan...</td>\n",
       "      <td>japanese</td>\n",
       "    </tr>\n",
       "    <tr>\n",
       "      <th>2313</th>\n",
       "      <td>2313</td>\n",
       "      <td>Poached Wild Salmon With Peas and Morels</td>\n",
       "      <td>[center cut wild salmon fillets, dry white win...</td>\n",
       "      <td>[2 6-8-ounce center-cut wild salmon fillets (e...</td>\n",
       "      <td>[Place salmon, skin side down, in a large high...</td>\n",
       "      <td>french</td>\n",
       "    </tr>\n",
       "    <tr>\n",
       "      <th>3450</th>\n",
       "      <td>3450</td>\n",
       "      <td>Wasabi Salmon with Bok Choy, Green Cabbage, an...</td>\n",
       "      <td>[baby bok choy, garlic clove, ginger, green ca...</td>\n",
       "      <td>[1/4 cup mayonnaise, 1 teaspoon wasabi paste (...</td>\n",
       "      <td>[Preheat oven to 450°F. Heat a large rimmed ba...</td>\n",
       "      <td>japanese</td>\n",
       "    </tr>\n",
       "    <tr>\n",
       "      <th>8453</th>\n",
       "      <td>8453</td>\n",
       "      <td>Barely Cooked Salmon with Parmesan Polenta and...</td>\n",
       "      <td>[butter, button mushroom, canola oil, flat lea...</td>\n",
       "      <td>[1 pound button mushrooms, 10 cups water, fine...</td>\n",
       "      <td>[Place the button mushrooms in a pan, cover wi...</td>\n",
       "      <td>french</td>\n",
       "    </tr>\n",
       "    <tr>\n",
       "      <th>19016</th>\n",
       "      <td>19016</td>\n",
       "      <td>Salmon Chowder</td>\n",
       "      <td>[button cremini mushroom, clove garlic, dry wh...</td>\n",
       "      <td>[2 tablespoons extra-virgin olive oil, 1 cup d...</td>\n",
       "      <td>[Heat the olive oil in a large pot over medium...</td>\n",
       "      <td>french</td>\n",
       "    </tr>\n",
       "    <tr>\n",
       "      <th>9595</th>\n",
       "      <td>9595</td>\n",
       "      <td>Salmon \"Bulgogi\" with Bok Choy and Mushrooms</td>\n",
       "      <td>[asian sesame oil, available in asian food sec...</td>\n",
       "      <td>[2 large garlic cloves, peeled, divided, 1/3 c...</td>\n",
       "      <td>[Blend 1 garlic clove and next 7 ingredients i...</td>\n",
       "      <td>chinese</td>\n",
       "    </tr>\n",
       "    <tr>\n",
       "      <th>18131</th>\n",
       "      <td>18131</td>\n",
       "      <td>Linguine with Salmon and Mushrooms</td>\n",
       "      <td>[caper, dry white wine, fresh dill dried dillw...</td>\n",
       "      <td>[1/4 cup olive oil, 1 12-ounce skinless salmon...</td>\n",
       "      <td>[Heat oil in heavy large skillet over medium-h...</td>\n",
       "      <td>russian</td>\n",
       "    </tr>\n",
       "    <tr>\n",
       "      <th>8094</th>\n",
       "      <td>8094</td>\n",
       "      <td>Sesame-Crusted Salmon</td>\n",
       "      <td>[basmati long grain rice serve, bok choy quart...</td>\n",
       "      <td>[1/4 cup sesame seeds, 1 teaspoon dried red pe...</td>\n",
       "      <td>[Mix the sesame seeds and red pepper flakes on...</td>\n",
       "      <td>korean</td>\n",
       "    </tr>\n",
       "    <tr>\n",
       "      <th>4065</th>\n",
       "      <td>4065</td>\n",
       "      <td>Salmon and Rice Wrapped in Pastry with Dill Sauce</td>\n",
       "      <td>[bottled clam juice, butter, crme frache whipp...</td>\n",
       "      <td>[1/2 cup long-grain white rice, 2 tablespoons ...</td>\n",
       "      <td>[Bring medium saucepan of salted water to boil...</td>\n",
       "      <td>russian</td>\n",
       "    </tr>\n",
       "  </tbody>\n",
       "</table>\n",
       "</div>"
      ],
      "text/plain": [
       "       recipe_id                                              title  \\\n",
       "8108        8108       Salmon with Mushroom Orzo and Red Wine Sauce   \n",
       "18669      18669  Rosemary-Rubbed Side of Salmon with Roasted Po...   \n",
       "13676      13676    Miso-Marinated Salmon with Citrus and Shiitakes   \n",
       "2313        2313           Poached Wild Salmon With Peas and Morels   \n",
       "3450        3450  Wasabi Salmon with Bok Choy, Green Cabbage, an...   \n",
       "8453        8453  Barely Cooked Salmon with Parmesan Polenta and...   \n",
       "19016      19016                                     Salmon Chowder   \n",
       "9595        9595       Salmon \"Bulgogi\" with Bok Choy and Mushrooms   \n",
       "18131      18131                 Linguine with Salmon and Mushrooms   \n",
       "8094        8094                              Sesame-Crusted Salmon   \n",
       "4065        4065  Salmon and Rice Wrapped in Pastry with Dill Sauce   \n",
       "\n",
       "                                             ing_cleaned  \\\n",
       "8108   [bay leaves, canned beef broth, canned low sal...   \n",
       "18669  [crimini mushroom quartered if if assorted sal...   \n",
       "13676  [fresh cilantro leave, fresh lemon juice, fres...   \n",
       "2313   [center cut wild salmon fillets, dry white win...   \n",
       "3450   [baby bok choy, garlic clove, ginger, green ca...   \n",
       "8453   [butter, button mushroom, canola oil, flat lea...   \n",
       "19016  [button cremini mushroom, clove garlic, dry wh...   \n",
       "9595   [asian sesame oil, available in asian food sec...   \n",
       "18131  [caper, dry white wine, fresh dill dried dillw...   \n",
       "8094   [basmati long grain rice serve, bok choy quart...   \n",
       "4065   [bottled clam juice, butter, crme frache whipp...   \n",
       "\n",
       "                                             ingredients  \\\n",
       "8108   [7 tablespoons olive oil, 1 large onion, slice...   \n",
       "18669  [1 1/2 cups loosely packed fresh rosemary leav...   \n",
       "13676  [2 (3-lb) whole salmon fillets with skin, any ...   \n",
       "2313   [2 6-8-ounce center-cut wild salmon fillets (e...   \n",
       "3450   [1/4 cup mayonnaise, 1 teaspoon wasabi paste (...   \n",
       "8453   [1 pound button mushrooms, 10 cups water, fine...   \n",
       "19016  [2 tablespoons extra-virgin olive oil, 1 cup d...   \n",
       "9595   [2 large garlic cloves, peeled, divided, 1/3 c...   \n",
       "18131  [1/4 cup olive oil, 1 12-ounce skinless salmon...   \n",
       "8094   [1/4 cup sesame seeds, 1 teaspoon dried red pe...   \n",
       "4065   [1/2 cup long-grain white rice, 2 tablespoons ...   \n",
       "\n",
       "                                              directions   cuisine  \n",
       "8108   [Heat 2 tablespoons oil in heavy large saucepa...    french  \n",
       "18669  [Blend rosemary, salt, and pepper in processor...   italian  \n",
       "13676  [Line a large shallow (1-inch-deep) baking pan...  japanese  \n",
       "2313   [Place salmon, skin side down, in a large high...    french  \n",
       "3450   [Preheat oven to 450°F. Heat a large rimmed ba...  japanese  \n",
       "8453   [Place the button mushrooms in a pan, cover wi...    french  \n",
       "19016  [Heat the olive oil in a large pot over medium...    french  \n",
       "9595   [Blend 1 garlic clove and next 7 ingredients i...   chinese  \n",
       "18131  [Heat oil in heavy large skillet over medium-h...   russian  \n",
       "8094   [Mix the sesame seeds and red pepper flakes on...    korean  \n",
       "4065   [Bring medium saucepan of salted water to boil...   russian  "
      ]
     },
     "execution_count": 138,
     "metadata": {},
     "output_type": "execute_result"
    }
   ],
   "source": [
    "ingredients_kw='Salmon mushroom'\n",
    "cuis_list=['french','italian','japanese']\n",
    "df_test=get_recipes(df,kw=ingredients_kw)\n",
    "df_sorted = sort_cuis(df_test,cuis_list)\n",
    "df_sorted[col]"
   ]
  },
  {
   "cell_type": "code",
   "execution_count": 136,
   "id": "c8d12e92",
   "metadata": {},
   "outputs": [
    {
     "data": {
      "text/plain": [
       "directions              [Bring a large saucepan of water to a boil, re...\n",
       "fat                                                                  38.0\n",
       "date                                           2016-05-02 16:32:13.507000\n",
       "categories              [HarperCollins, Dinner, Seafood, Fish, Salmon,...\n",
       "calories                                                            607.0\n",
       "desc                    Ratatouille doesn’t have to take ages! Just ma...\n",
       "protein                                                              49.0\n",
       "rating                                                              3.125\n",
       "title                   Quick Poached Salmon With Speedy Rat-Atat-A-To...\n",
       "ingredients             [1 tablespoon coconut oil, 1 small red onion, ...\n",
       "sodium                                                              205.0\n",
       "num_dir                                                                 5\n",
       "num_ing                                                                 8\n",
       "num_cat                                                                15\n",
       "title_words             [quick, poached, salmon, with, speedy, rat-ata...\n",
       "ing_cleaned             [balsamic vinegar, coconut oil, eggplant, red ...\n",
       "ing_cleaned_all         balsamic vinegar coconut oil eggplant red onio...\n",
       "ing_index                       [52, 1169, 286, 9429, 676, 1315, 90, 188]\n",
       "ing_assoc               [[vinegar, balsamic vinegar], [oil, coconut, c...\n",
       "ing_assoc_index         [[17, 166], [53, 79, 557], [433], [6, 87, 145]...\n",
       "ing_assoc_list          [balsamic vinegar, coconut, coconut oil, eggpl...\n",
       "ing_assoc_index_list    [6, 16, 17, 52, 53, 79, 87, 134, 145, 153, 166...\n",
       "recipe_id                                                           13881\n",
       "epi_index                                                           13867\n",
       "cuisine                                                          filipino\n",
       "brazilian                                                        0.009008\n",
       "british                                                          0.012696\n",
       "cajun_creole                                                     0.007463\n",
       "chinese                                                          0.006504\n",
       "filipino                                                         0.370383\n",
       "french                                                           0.122947\n",
       "greek                                                            0.015815\n",
       "indian                                                           0.050768\n",
       "irish                                                             0.00714\n",
       "italian                                                          0.122188\n",
       "jamaican                                                         0.096388\n",
       "japanese                                                         0.078183\n",
       "korean                                                           0.004132\n",
       "mexican                                                          0.005992\n",
       "moroccan                                                         0.006574\n",
       "russian                                                          0.018399\n",
       "southern_us                                                      0.012409\n",
       "spanish                                                          0.024887\n",
       "thai                                                             0.024415\n",
       "vietnamese                                                       0.003709\n",
       "Name: 13881, dtype: object"
      ]
     },
     "execution_count": 136,
     "metadata": {},
     "output_type": "execute_result"
    }
   ],
   "source": [
    "df.loc[13881]"
   ]
  },
  {
   "cell_type": "markdown",
   "id": "204e16bc",
   "metadata": {
    "heading_collapsed": true
   },
   "source": [
    "## Recipe Box"
   ]
  },
  {
   "cell_type": "code",
   "execution_count": null,
   "id": "6822bdab",
   "metadata": {
    "hidden": true
   },
   "outputs": [],
   "source": [
    "files = ['recipes_raw_nosource_epi.json', 'recipes_raw_nosource_ar.json', 'recipes_raw_nosource_fn.json']\n",
    "# epicurious, allrecipes, foodnetwork\n",
    "recipe_box_recipes = set()\n",
    "for filename in files:\n",
    "    with open('recipe-box/' + filename, 'r') as f:\n",
    "        rb_data_part = json.loads(f.read())\n",
    "        for r in rb_data_part.values():\n",
    "            if len(r):\n",
    "                recipe_box_recipes.add(tuple(sorted([x.lower().replace('advertisement', '').strip() for x in r['ingredients']])))\n",
    "pprint(random.sample(recipe_box_recipes, 1))"
   ]
  },
  {
   "cell_type": "code",
   "execution_count": null,
   "id": "05a6162a",
   "metadata": {
    "hidden": true
   },
   "outputs": [],
   "source": []
  },
  {
   "cell_type": "markdown",
   "id": "6d4fe227",
   "metadata": {
    "heading_collapsed": true
   },
   "source": [
    "## 1 Milion recipes"
   ]
  },
  {
   "cell_type": "code",
   "execution_count": 5,
   "id": "0b37aa3d",
   "metadata": {
    "hidden": true,
    "scrolled": true
   },
   "outputs": [],
   "source": [
    "with open(datasets_dir+'recipe1M/layer1.json', 'r') as f:\n",
    "    recipe1M_data = json.loads(f.read())"
   ]
  },
  {
   "cell_type": "code",
   "execution_count": 6,
   "id": "b71ddd45",
   "metadata": {
    "hidden": true,
    "scrolled": true
   },
   "outputs": [
    {
     "name": "stdout",
     "output_type": "stream",
     "text": [
      "{'id': '0095abaed6',\n",
      " 'ingredients': [{'text': '2 avocados, peeled and cut in chunks'},\n",
      "                 {'text': '2 large beefsteak tomatoes or 4 medium tomatoes, '\n",
      "                          'chopped'},\n",
      "                 {'text': '12 English cucumber, peeled and chopped'},\n",
      "                 {'text': '3 cloves garlic, peeled and minced'},\n",
      "                 {'text': '1 -2 tablespoon Braggs liquid aminos (or to taste) '\n",
      "                          'or 1 -2 tablespoon tamari (or to taste)'}],\n",
      " 'instructions': [{'text': 'Mix all ingredients and let marinate for a bit.'},\n",
      "                  {'text': 'Serve over salad, rice, or any other grain of your '\n",
      "                           'liking.'}],\n",
      " 'partition': 'train',\n",
      " 'title': 'Tasty Avocado Salad',\n",
      " 'url': 'http://www.food.com/recipe/tasty-avocado-salad-12253'}\n"
     ]
    }
   ],
   "source": [
    "pprint(recipe1M_data[2355])\n",
    "len(recipe1M_data) ;"
   ]
  },
  {
   "cell_type": "code",
   "execution_count": null,
   "id": "7d5e446a",
   "metadata": {
    "hidden": true
   },
   "outputs": [],
   "source": [
    "for url in my_results_list:\n",
    "        m = re.search('https?://www\\.([A-Za-z_0-9.-]+).*', url)\n",
    "        if m and m.group(1)=='epicurious.com': \n",
    "            urls[ind].append(url)"
   ]
  },
  {
   "cell_type": "code",
   "execution_count": 14,
   "id": "b2504912",
   "metadata": {
    "hidden": true
   },
   "outputs": [
    {
     "data": {
      "text/plain": [
       "('http://www.food.com/recipe/tasty-avocado-salad-12253', 'www.food.com')"
      ]
     },
     "execution_count": 14,
     "metadata": {},
     "output_type": "execute_result"
    }
   ],
   "source": [
    "def get_domain(url):\n",
    "    m = re.search('https?://([A-Za-z_0-9.-]+).*', url)\n",
    "    if m : return m.group(1)\n",
    "    else: return ''\n",
    "    \n",
    "recipe1M_data[2355]['url'],get_domain(recipe1M_data[2355]['url'])"
   ]
  },
  {
   "cell_type": "code",
   "execution_count": 15,
   "id": "a128cddd",
   "metadata": {
    "hidden": true
   },
   "outputs": [],
   "source": [
    "df = pd.DataFrame(recipe1M_data)"
   ]
  },
  {
   "cell_type": "code",
   "execution_count": 16,
   "id": "594effbd",
   "metadata": {
    "hidden": true
   },
   "outputs": [],
   "source": [
    "df['domain'] = df.url.apply(get_domain)"
   ]
  },
  {
   "cell_type": "code",
   "execution_count": 17,
   "id": "3228a529",
   "metadata": {
    "hidden": true
   },
   "outputs": [
    {
     "data": {
      "text/plain": [
       "www.food.com               507834\n",
       "tastykitchen.com            75537\n",
       "cookpad.com                 61438\n",
       "cookeatshare.com            60628\n",
       "www.foodnetwork.com         58066\n",
       "www.kraftrecipes.com        50850\n",
       "allrecipes.com              49006\n",
       "www.epicurious.com          48697\n",
       "recipeland.com              27332\n",
       "www.foodandwine.com         18269\n",
       "cooking.nytimes.com         17453\n",
       "www.foodgeeks.com           10309\n",
       "www.cookstr.com              9240\n",
       "www.myrecipes.com            7133\n",
       "www.chowhound.com            6361\n",
       "online-cookbook.com          5763\n",
       "www.vegetariantimes.com      4791\n",
       "www.delish.com               4169\n",
       "www.landolakes.com           2562\n",
       "www.foodrepublic.com         2341\n",
       "www.lovefood.com             1940\n",
       "www.comidakraft.com             1\n",
       "Name: domain, dtype: int64"
      ]
     },
     "execution_count": 17,
     "metadata": {},
     "output_type": "execute_result"
    }
   ],
   "source": [
    "df.domain.value_counts()"
   ]
  },
  {
   "cell_type": "code",
   "execution_count": 25,
   "id": "94b50da6",
   "metadata": {
    "hidden": true
   },
   "outputs": [
    {
     "name": "stdout",
     "output_type": "stream",
     "text": [
      "http://www.food.com/recipe/crunchy-onion-potato-bake-479149\n",
      "http://tastykitchen.com/recipes/breakfastbrunch/yogurt-parfaits/\n",
      "https://cookpad.com/us/recipes/150100-kombu-tea-grilled-chicken-thigh\n",
      "http://cookeatshare.com/recipes/dilly-macaroni-salad-49166\n",
      "http://www.foodnetwork.com/recipes/gazpacho1.html\n",
      "http://www.kraftrecipes.com/recipes/salmon-salad-a-la-sportz-59364.aspx\n",
      "http://allrecipes.com/recipe/harrison-muesli/\n",
      "http://www.epicurious.com/recipes/food/views/-world-s-best-mac-and-cheese-387747\n",
      "https://recipeland.com/recipe/v/spinatsuppe-spinach-soup-36398\n",
      "http://www.foodandwine.com/recipes/cornmeal-crackers-with-pumpkin-seeds\n",
      "http://cooking.nytimes.com/recipes/10753\n",
      "http://www.foodgeeks.com/recipes/431\n",
      "http://www.cookstr.com/recipes/sweet-and-spicy-red-pepper-dip\n",
      "http://www.myrecipes.com/recipe/apple-currant-bars\n",
      "http://www.chowhound.com/recipes/pate-a-choux-shells-french-pastry-shells-30867\n",
      "http://online-cookbook.com/goto/cook/rpage/000A09\n",
      "http://www.vegetariantimes.com/recipe/tofu-garlic-mashed-potatoes/\n",
      "http://www.delish.com/recipefinder/chicken-peanut-stew-recipe-ghk1110\n",
      "http://www.landolakes.com/recipe/1822/tropical-banana-muffins\n",
      "http://www.foodrepublic.com/recipes/crispy-walnut-sweet-sour-stir-fry-recipe/\n",
      "http://www.lovefood.com/guide/recipes/27146/sausage-and-marmalade-plait-recipe\n",
      "http://www.comidakraft.com/sp/recetas/espectacular-postre-de-frutas-75182.aspx\n"
     ]
    }
   ],
   "source": [
    "for dom in list(df.domain.value_counts().index):\n",
    "    print(df.url[df.domain==dom].iloc[0])"
   ]
  },
  {
   "cell_type": "code",
   "execution_count": 30,
   "id": "4041f696",
   "metadata": {
    "hidden": true
   },
   "outputs": [
    {
     "name": "stdout",
     "output_type": "stream",
     "text": [
      "181924\n"
     ]
    }
   ],
   "source": [
    "dom_list = ['cooking.nytimes.com','www.chowhound.com',\n",
    "            'www.epicurious.com','www.foodrepublic.com',\n",
    "            'www.foodnetwork.com','allrecipes.com']\n",
    "\n",
    "urls=[]\n",
    "for dom in dom_list:\n",
    "    urls += list(df.url[df.domain==dom])\n",
    "print(len(urls))"
   ]
  },
  {
   "cell_type": "code",
   "execution_count": 31,
   "id": "669afba8",
   "metadata": {
    "hidden": true
   },
   "outputs": [],
   "source": [
    "df_urls  = pd.DataFrame(urls) \n",
    "    \n",
    "# saving the dataframe \n",
    "df_urls.to_csv(save_dir+'url_list.csv') "
   ]
  },
  {
   "cell_type": "code",
   "execution_count": 32,
   "id": "9e016cb4",
   "metadata": {
    "hidden": true
   },
   "outputs": [
    {
     "data": {
      "text/html": [
       "<div>\n",
       "<style scoped>\n",
       "    .dataframe tbody tr th:only-of-type {\n",
       "        vertical-align: middle;\n",
       "    }\n",
       "\n",
       "    .dataframe tbody tr th {\n",
       "        vertical-align: top;\n",
       "    }\n",
       "\n",
       "    .dataframe thead th {\n",
       "        text-align: right;\n",
       "    }\n",
       "</style>\n",
       "<table border=\"1\" class=\"dataframe\">\n",
       "  <thead>\n",
       "    <tr style=\"text-align: right;\">\n",
       "      <th></th>\n",
       "      <th>0</th>\n",
       "    </tr>\n",
       "  </thead>\n",
       "  <tbody>\n",
       "    <tr>\n",
       "      <th>0</th>\n",
       "      <td>http://cooking.nytimes.com/recipes/10753</td>\n",
       "    </tr>\n",
       "    <tr>\n",
       "      <th>1</th>\n",
       "      <td>http://cooking.nytimes.com/recipes/1017290</td>\n",
       "    </tr>\n",
       "    <tr>\n",
       "      <th>2</th>\n",
       "      <td>http://cooking.nytimes.com/recipes/4338</td>\n",
       "    </tr>\n",
       "    <tr>\n",
       "      <th>3</th>\n",
       "      <td>http://cooking.nytimes.com/recipes/1015395</td>\n",
       "    </tr>\n",
       "    <tr>\n",
       "      <th>4</th>\n",
       "      <td>http://cooking.nytimes.com/recipes/1012955</td>\n",
       "    </tr>\n",
       "  </tbody>\n",
       "</table>\n",
       "</div>"
      ],
      "text/plain": [
       "                                            0\n",
       "0    http://cooking.nytimes.com/recipes/10753\n",
       "1  http://cooking.nytimes.com/recipes/1017290\n",
       "2     http://cooking.nytimes.com/recipes/4338\n",
       "3  http://cooking.nytimes.com/recipes/1015395\n",
       "4  http://cooking.nytimes.com/recipes/1012955"
      ]
     },
     "execution_count": 32,
     "metadata": {},
     "output_type": "execute_result"
    }
   ],
   "source": [
    "df_urls.head()"
   ]
  },
  {
   "cell_type": "code",
   "execution_count": null,
   "id": "6b319f96",
   "metadata": {
    "hidden": true
   },
   "outputs": [],
   "source": []
  },
  {
   "cell_type": "markdown",
   "id": "9228823d",
   "metadata": {},
   "source": [
    "## Getting urls to Epicurious recipe pages"
   ]
  },
  {
   "cell_type": "markdown",
   "id": "b36257dc",
   "metadata": {
    "heading_collapsed": true
   },
   "source": [
    "### google search"
   ]
  },
  {
   "cell_type": "code",
   "execution_count": 87,
   "id": "f5cb88fa",
   "metadata": {
    "hidden": true
   },
   "outputs": [],
   "source": []
  },
  {
   "cell_type": "code",
   "execution_count": 196,
   "id": "ad19fd0b",
   "metadata": {
    "hidden": true
   },
   "outputs": [],
   "source": [
    "query = \"epicurious Gochujang-Braised Chicken and Crispy Rice\""
   ]
  },
  {
   "cell_type": "code",
   "execution_count": 200,
   "id": "3b977aa3",
   "metadata": {
    "hidden": true,
    "scrolled": true
   },
   "outputs": [
    {
     "name": "stdout",
     "output_type": "stream",
     "text": [
      "https://www.epicurious.com/recipes/food/views/gochujang-braised-chicken-and-crispy-rice\n",
      "https://www.bonappetit.com/recipe/gochujang-braised-chicken-and-crispy-rice\n"
     ]
    }
   ],
   "source": [
    "my_results_list = []\n",
    "for i in search(query,        # The query you want to run\n",
    "                tld = 'com',  # The top level domain\n",
    "                lang = 'en',  # The language\n",
    "                num = 2,     # Number of results per page\n",
    "                start = 0,    # First result to retrieve\n",
    "                stop = 2,  # Last result to retrieve\n",
    "                pause = 2.0,  # Lapse between HTTP requests\n",
    "               ):\n",
    "    my_results_list.append(i)\n",
    "    print(i)"
   ]
  },
  {
   "cell_type": "code",
   "execution_count": 82,
   "id": "be0b0f2a",
   "metadata": {
    "hidden": true
   },
   "outputs": [
    {
     "name": "stdout",
     "output_type": "stream",
     "text": [
      "epicurious.com\n"
     ]
    }
   ],
   "source": [
    "url = 'https://www.epicurious.com/recipes/food/views/gochujang-braised-chicken-and-crispy-rice'\n",
    "m = re.search('https?://www\\.([A-Za-z_0-9.-]+).*', url)\n",
    "if m:\n",
    "    print(m.group(1))"
   ]
  },
  {
   "cell_type": "code",
   "execution_count": 95,
   "id": "576aeda6",
   "metadata": {
    "hidden": true,
    "scrolled": true
   },
   "outputs": [],
   "source": [
    "from googlesearch import search\n",
    "\n",
    "urls={}\n",
    "missing = []\n",
    "for ind in df.index:\n",
    "    urls[ind]=[]\n",
    "    query = \"epicurious %s\"%df.title.loc[ind]\n",
    "    my_results_list = search(query, tld = 'com', lang = 'en', \n",
    "                             num = 2, start = 0, stop = 2, pause = 2.0)\n",
    "    for url in my_results_list:\n",
    "        m = re.search('https?://www\\.([A-Za-z_0-9.-]+).*', url)\n",
    "        if m and m.group(1)=='epicurious.com': \n",
    "            urls[ind].append(url)\n",
    "    if len(urls[ind])==0: missing.append(ind)\n",
    "            "
   ]
  },
  {
   "cell_type": "code",
   "execution_count": 96,
   "id": "951f4b99",
   "metadata": {
    "hidden": true
   },
   "outputs": [
    {
     "data": {
      "text/plain": [
       "[323,\n",
       " 4980,\n",
       " 7734,\n",
       " 8210,\n",
       " 8354,\n",
       " 9375,\n",
       " 9548,\n",
       " 9858,\n",
       " 10006,\n",
       " 11920,\n",
       " 12238,\n",
       " 12607,\n",
       " 13063,\n",
       " 13130,\n",
       " 13559,\n",
       " 13942,\n",
       " 14032,\n",
       " 14090,\n",
       " 14289,\n",
       " 14293,\n",
       " 14418,\n",
       " 14911]"
      ]
     },
     "execution_count": 96,
     "metadata": {},
     "output_type": "execute_result"
    }
   ],
   "source": [
    "missing"
   ]
  },
  {
   "cell_type": "markdown",
   "id": "b540f76b",
   "metadata": {
    "heading_collapsed": true
   },
   "source": [
    "### get image - but no need to actually download the image for now. Just need to grab the link to display it"
   ]
  },
  {
   "cell_type": "code",
   "execution_count": 80,
   "id": "ab0fd64b",
   "metadata": {
    "hidden": true
   },
   "outputs": [
    {
     "name": "stdout",
     "output_type": "stream",
     "text": [
      "Image sucessfully Downloaded:  Quick-Poached-Salmon-(c)-Maja-Smend.jpg\n"
     ]
    }
   ],
   "source": [
    "## Importing Necessary Modules\n",
    "import requests # to get image from the web\n",
    "import shutil # to save it locally\n",
    "\n",
    "## Set up the image URL and filename\n",
    "image_url = \"https://assets.epicurious.com/photos/57191b1213c4b7d74c9d45e6/6:4/w_620%2Ch_413/Quick-Poached-Salmon-(c)-Maja-Smend.jpg\"\n",
    "filename = image_url.split(\"/\")[-1]\n",
    "\n",
    "# Open the url image, set stream to True, this will return the stream content.\n",
    "r = requests.get(image_url, stream = True)\n",
    "\n",
    "# Check if the image was retrieved successfully\n",
    "if r.status_code == 200:\n",
    "    # Set decode_content value to True, otherwise the downloaded image file's size will be zero.\n",
    "    r.raw.decode_content = True\n",
    "    \n",
    "    # Open a local file with wb ( write binary ) permission.\n",
    "    with open(filename,'wb') as f:\n",
    "        shutil.copyfileobj(r.raw, f)\n",
    "        \n",
    "    print('Image sucessfully Downloaded: ',filename)\n",
    "else:\n",
    "    print('Image Couldn\\'t be retreived')"
   ]
  },
  {
   "cell_type": "code",
   "execution_count": 84,
   "id": "c567359f",
   "metadata": {
    "hidden": true
   },
   "outputs": [
    {
     "data": {
      "text/plain": [
       "a    False\n",
       "b     True\n",
       "dtype: bool"
      ]
     },
     "execution_count": 84,
     "metadata": {},
     "output_type": "execute_result"
    }
   ],
   "source": [
    "pd.Series({'a':3,'b': np.NaN}).isnull()"
   ]
  },
  {
   "cell_type": "markdown",
   "id": "257d74a6",
   "metadata": {
    "heading_collapsed": true
   },
   "source": [
    "### "
   ]
  },
  {
   "cell_type": "code",
   "execution_count": null,
   "id": "90b23e7f",
   "metadata": {
    "hidden": true
   },
   "outputs": [],
   "source": [
    "from nltk.stem import WordNetLemmatizer"
   ]
  },
  {
   "cell_type": "code",
   "execution_count": null,
   "id": "3b8c5885",
   "metadata": {
    "hidden": true
   },
   "outputs": [],
   "source": [
    "def preprocess_df(df):\n",
    "    \n",
    "    def process_string(x):\n",
    "        x = [\" \".join([WordNetLemmatizer().lemmatize(q) for q in p.split()]) for p in x] #Lemmatization\n",
    "        x = list(map(lambda x: re.sub(r'\\(.*oz.\\)|crushed|crumbles|ground|minced|powder|chopped|sliced','', x), x))\n",
    "        x = list(map(lambda x: re.sub(\"[^a-zA-Z]\", \" \", x), x))   # To remove everything except a-z and A-Z\n",
    "        x = \" \".join(x)                                 # To make list element a string element \n",
    "        x = x.lower()\n",
    "        return x\n",
    "    \n",
    "    df = df.drop('id',axis=1)\n",
    "    df['ing_processed'] = df['ingredients'].apply(process_string)\n",
    "    \n",
    "    return df"
   ]
  },
  {
   "cell_type": "code",
   "execution_count": null,
   "id": "736dc80f",
   "metadata": {
    "hidden": true
   },
   "outputs": [],
   "source": [
    "tfidf = TfidfVectorizer(stop_words='english',\n",
    "                             ngram_range = ( 1 , 1 ),analyzer=\"word\", \n",
    "                             max_df = .57 , binary=False , \n",
    "                        token_pattern=r'\\w+' , sublinear_tf=False)\n",
    "\n",
    "C = 604.5300203551828\n",
    "gamma = 0.9656489284085462\n",
    "\n",
    "clf = SVC(C=float(C), gamma=float(gamma), kernel='rbf',probability = True)"
   ]
  },
  {
   "cell_type": "code",
   "execution_count": null,
   "id": "11dc89aa",
   "metadata": {
    "hidden": true
   },
   "outputs": [],
   "source": [
    "pipe = Pipeline([('tfidf_vect',tfidf),\n",
    "                 ('SVC',clf)])"
   ]
  },
  {
   "cell_type": "code",
   "execution_count": null,
   "id": "3b74fa36",
   "metadata": {
    "hidden": true
   },
   "outputs": [],
   "source": []
  },
  {
   "cell_type": "code",
   "execution_count": null,
   "id": "797bcf27",
   "metadata": {
    "hidden": true
   },
   "outputs": [],
   "source": []
  }
 ],
 "metadata": {
  "kernelspec": {
   "display_name": "Python 3",
   "language": "python",
   "name": "python3"
  },
  "language_info": {
   "codemirror_mode": {
    "name": "ipython",
    "version": 3
   },
   "file_extension": ".py",
   "mimetype": "text/x-python",
   "name": "python",
   "nbconvert_exporter": "python",
   "pygments_lexer": "ipython3",
   "version": "3.8.8"
  },
  "toc": {
   "base_numbering": 1,
   "nav_menu": {},
   "number_sections": true,
   "sideBar": true,
   "skip_h1_title": false,
   "title_cell": "Table of Contents",
   "title_sidebar": "Contents",
   "toc_cell": false,
   "toc_position": {},
   "toc_section_display": true,
   "toc_window_display": false
  }
 },
 "nbformat": 4,
 "nbformat_minor": 5
}
